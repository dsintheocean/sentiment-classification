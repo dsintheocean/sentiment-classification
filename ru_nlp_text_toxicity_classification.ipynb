{
  "cells": [
    {
      "cell_type": "markdown",
      "metadata": {
        "id": "L7r0fNunJHaT"
      },
      "source": [
        "# Проект определения токсичности комментария"
      ]
    },
    {
      "cell_type": "markdown",
      "metadata": {
        "id": "Lm88rZznJHaU"
      },
      "source": [
        "Проект оценки токсичности текста\n",
        "\n",
        "Описание проекта\n",
        "Интернет-магазин запускает новый сервис. Теперь пользователи могут редактировать и дополнять описания товаров, как в вики-сообществах. То есть клиенты предлагают свои правки и комментируют изменения других. Магазину нужен инструмент, который будет искать токсичные комментарии и отправлять их на модерацию.\n",
        "\n",
        "Задача - обучить модель классифицировать комментарии на позитивные и негативные.\n",
        "Имеется набор данных с разметкой о токсичности правок.\n",
        "Необходимо построить модель с целевым значением метрики качества F1 не ниже 0.75.\n",
        "\n",
        "Данные находятся в файле toxic_comments.csv.\n",
        "Столбец text в нём содержит текст комментария, а toxic — целевой признак."
      ]
    },
    {
      "cell_type": "code",
      "execution_count": 2,
      "metadata": {
        "id": "zY3lwlcOJHaU",
        "outputId": "307d545b-db67-4d19-e957-03da797e89e2",
        "colab": {
          "base_uri": "https://localhost:8080/"
        }
      },
      "outputs": [
        {
          "output_type": "stream",
          "name": "stdout",
          "text": [
            "Collecting catboost\n",
            "  Downloading catboost-1.2.2-cp310-cp310-manylinux2014_x86_64.whl (98.7 MB)\n",
            "\u001b[2K     \u001b[90m━━━━━━━━━━━━━━━━━━━━━━━━━━━━━━━━━━━━━━━━\u001b[0m \u001b[32m98.7/98.7 MB\u001b[0m \u001b[31m9.8 MB/s\u001b[0m eta \u001b[36m0:00:00\u001b[0m\n",
            "\u001b[?25hRequirement already satisfied: graphviz in /usr/local/lib/python3.10/dist-packages (from catboost) (0.20.1)\n",
            "Requirement already satisfied: matplotlib in /usr/local/lib/python3.10/dist-packages (from catboost) (3.7.1)\n",
            "Requirement already satisfied: numpy>=1.16.0 in /usr/local/lib/python3.10/dist-packages (from catboost) (1.23.5)\n",
            "Requirement already satisfied: pandas>=0.24 in /usr/local/lib/python3.10/dist-packages (from catboost) (1.5.3)\n",
            "Requirement already satisfied: scipy in /usr/local/lib/python3.10/dist-packages (from catboost) (1.11.3)\n",
            "Requirement already satisfied: plotly in /usr/local/lib/python3.10/dist-packages (from catboost) (5.15.0)\n",
            "Requirement already satisfied: six in /usr/local/lib/python3.10/dist-packages (from catboost) (1.16.0)\n",
            "Requirement already satisfied: python-dateutil>=2.8.1 in /usr/local/lib/python3.10/dist-packages (from pandas>=0.24->catboost) (2.8.2)\n",
            "Requirement already satisfied: pytz>=2020.1 in /usr/local/lib/python3.10/dist-packages (from pandas>=0.24->catboost) (2023.3.post1)\n",
            "Requirement already satisfied: contourpy>=1.0.1 in /usr/local/lib/python3.10/dist-packages (from matplotlib->catboost) (1.1.1)\n",
            "Requirement already satisfied: cycler>=0.10 in /usr/local/lib/python3.10/dist-packages (from matplotlib->catboost) (0.12.1)\n",
            "Requirement already satisfied: fonttools>=4.22.0 in /usr/local/lib/python3.10/dist-packages (from matplotlib->catboost) (4.43.1)\n",
            "Requirement already satisfied: kiwisolver>=1.0.1 in /usr/local/lib/python3.10/dist-packages (from matplotlib->catboost) (1.4.5)\n",
            "Requirement already satisfied: packaging>=20.0 in /usr/local/lib/python3.10/dist-packages (from matplotlib->catboost) (23.2)\n",
            "Requirement already satisfied: pillow>=6.2.0 in /usr/local/lib/python3.10/dist-packages (from matplotlib->catboost) (9.4.0)\n",
            "Requirement already satisfied: pyparsing>=2.3.1 in /usr/local/lib/python3.10/dist-packages (from matplotlib->catboost) (3.1.1)\n",
            "Requirement already satisfied: tenacity>=6.2.0 in /usr/local/lib/python3.10/dist-packages (from plotly->catboost) (8.2.3)\n",
            "Installing collected packages: catboost\n",
            "Successfully installed catboost-1.2.2\n"
          ]
        }
      ],
      "source": [
        "!pip install catboost"
      ]
    },
    {
      "cell_type": "code",
      "execution_count": 3,
      "metadata": {
        "id": "f5o-bCaBJHaV",
        "outputId": "e03881a4-0d1b-4178-bfd0-b89c8dcd6315",
        "colab": {
          "base_uri": "https://localhost:8080/"
        }
      },
      "outputs": [
        {
          "output_type": "stream",
          "name": "stdout",
          "text": [
            "Requirement already satisfied: spacy in /usr/local/lib/python3.10/dist-packages (3.6.1)\n",
            "Requirement already satisfied: spacy-legacy<3.1.0,>=3.0.11 in /usr/local/lib/python3.10/dist-packages (from spacy) (3.0.12)\n",
            "Requirement already satisfied: spacy-loggers<2.0.0,>=1.0.0 in /usr/local/lib/python3.10/dist-packages (from spacy) (1.0.5)\n",
            "Requirement already satisfied: murmurhash<1.1.0,>=0.28.0 in /usr/local/lib/python3.10/dist-packages (from spacy) (1.0.10)\n",
            "Requirement already satisfied: cymem<2.1.0,>=2.0.2 in /usr/local/lib/python3.10/dist-packages (from spacy) (2.0.8)\n",
            "Requirement already satisfied: preshed<3.1.0,>=3.0.2 in /usr/local/lib/python3.10/dist-packages (from spacy) (3.0.9)\n",
            "Requirement already satisfied: thinc<8.2.0,>=8.1.8 in /usr/local/lib/python3.10/dist-packages (from spacy) (8.1.12)\n",
            "Requirement already satisfied: wasabi<1.2.0,>=0.9.1 in /usr/local/lib/python3.10/dist-packages (from spacy) (1.1.2)\n",
            "Requirement already satisfied: srsly<3.0.0,>=2.4.3 in /usr/local/lib/python3.10/dist-packages (from spacy) (2.4.8)\n",
            "Requirement already satisfied: catalogue<2.1.0,>=2.0.6 in /usr/local/lib/python3.10/dist-packages (from spacy) (2.0.10)\n",
            "Requirement already satisfied: typer<0.10.0,>=0.3.0 in /usr/local/lib/python3.10/dist-packages (from spacy) (0.9.0)\n",
            "Requirement already satisfied: pathy>=0.10.0 in /usr/local/lib/python3.10/dist-packages (from spacy) (0.10.2)\n",
            "Requirement already satisfied: smart-open<7.0.0,>=5.2.1 in /usr/local/lib/python3.10/dist-packages (from spacy) (6.4.0)\n",
            "Requirement already satisfied: tqdm<5.0.0,>=4.38.0 in /usr/local/lib/python3.10/dist-packages (from spacy) (4.66.1)\n",
            "Requirement already satisfied: numpy>=1.15.0 in /usr/local/lib/python3.10/dist-packages (from spacy) (1.23.5)\n",
            "Requirement already satisfied: requests<3.0.0,>=2.13.0 in /usr/local/lib/python3.10/dist-packages (from spacy) (2.31.0)\n",
            "Requirement already satisfied: pydantic!=1.8,!=1.8.1,<3.0.0,>=1.7.4 in /usr/local/lib/python3.10/dist-packages (from spacy) (1.10.13)\n",
            "Requirement already satisfied: jinja2 in /usr/local/lib/python3.10/dist-packages (from spacy) (3.1.2)\n",
            "Requirement already satisfied: setuptools in /usr/local/lib/python3.10/dist-packages (from spacy) (67.7.2)\n",
            "Requirement already satisfied: packaging>=20.0 in /usr/local/lib/python3.10/dist-packages (from spacy) (23.2)\n",
            "Requirement already satisfied: langcodes<4.0.0,>=3.2.0 in /usr/local/lib/python3.10/dist-packages (from spacy) (3.3.0)\n",
            "Requirement already satisfied: typing-extensions>=4.2.0 in /usr/local/lib/python3.10/dist-packages (from pydantic!=1.8,!=1.8.1,<3.0.0,>=1.7.4->spacy) (4.5.0)\n",
            "Requirement already satisfied: charset-normalizer<4,>=2 in /usr/local/lib/python3.10/dist-packages (from requests<3.0.0,>=2.13.0->spacy) (3.3.0)\n",
            "Requirement already satisfied: idna<4,>=2.5 in /usr/local/lib/python3.10/dist-packages (from requests<3.0.0,>=2.13.0->spacy) (3.4)\n",
            "Requirement already satisfied: urllib3<3,>=1.21.1 in /usr/local/lib/python3.10/dist-packages (from requests<3.0.0,>=2.13.0->spacy) (2.0.7)\n",
            "Requirement already satisfied: certifi>=2017.4.17 in /usr/local/lib/python3.10/dist-packages (from requests<3.0.0,>=2.13.0->spacy) (2023.7.22)\n",
            "Requirement already satisfied: blis<0.8.0,>=0.7.8 in /usr/local/lib/python3.10/dist-packages (from thinc<8.2.0,>=8.1.8->spacy) (0.7.11)\n",
            "Requirement already satisfied: confection<1.0.0,>=0.0.1 in /usr/local/lib/python3.10/dist-packages (from thinc<8.2.0,>=8.1.8->spacy) (0.1.3)\n",
            "Requirement already satisfied: click<9.0.0,>=7.1.1 in /usr/local/lib/python3.10/dist-packages (from typer<0.10.0,>=0.3.0->spacy) (8.1.7)\n",
            "Requirement already satisfied: MarkupSafe>=2.0 in /usr/local/lib/python3.10/dist-packages (from jinja2->spacy) (2.1.3)\n"
          ]
        }
      ],
      "source": [
        "!pip install spacy"
      ]
    },
    {
      "cell_type": "code",
      "execution_count": 4,
      "metadata": {
        "id": "8nJGoVUBJHaW",
        "outputId": "87e219f7-de18-4d0b-abad-68bb7c1229ee",
        "colab": {
          "base_uri": "https://localhost:8080/"
        }
      },
      "outputs": [
        {
          "output_type": "stream",
          "name": "stdout",
          "text": [
            "\u001b[38;5;2m✔ Download and installation successful\u001b[0m\n",
            "You can now load the package via spacy.load('en_core_web_trf')\n",
            "\u001b[38;5;2m✔ Download and installation successful\u001b[0m\n",
            "You can now load the package via spacy.load('en_core_web_sm')\n"
          ]
        }
      ],
      "source": [
        "from spacy.cli import download\n",
        "download(\"en_core_web_trf\")\n",
        "download(\"en_core_web_sm\")"
      ]
    },
    {
      "cell_type": "code",
      "execution_count": 5,
      "metadata": {
        "id": "Z05uu8ZQJHaW",
        "outputId": "fe7e4cc5-785d-48f1-c3e0-d8755663327d",
        "colab": {
          "base_uri": "https://localhost:8080/"
        }
      },
      "outputs": [
        {
          "output_type": "stream",
          "name": "stdout",
          "text": [
            "Requirement already satisfied: spacy[transformers] in /usr/local/lib/python3.10/dist-packages (3.6.1)\n",
            "Requirement already satisfied: spacy-legacy<3.1.0,>=3.0.11 in /usr/local/lib/python3.10/dist-packages (from spacy[transformers]) (3.0.12)\n",
            "Requirement already satisfied: spacy-loggers<2.0.0,>=1.0.0 in /usr/local/lib/python3.10/dist-packages (from spacy[transformers]) (1.0.5)\n",
            "Requirement already satisfied: murmurhash<1.1.0,>=0.28.0 in /usr/local/lib/python3.10/dist-packages (from spacy[transformers]) (1.0.10)\n",
            "Requirement already satisfied: cymem<2.1.0,>=2.0.2 in /usr/local/lib/python3.10/dist-packages (from spacy[transformers]) (2.0.8)\n",
            "Requirement already satisfied: preshed<3.1.0,>=3.0.2 in /usr/local/lib/python3.10/dist-packages (from spacy[transformers]) (3.0.9)\n",
            "Requirement already satisfied: thinc<8.2.0,>=8.1.8 in /usr/local/lib/python3.10/dist-packages (from spacy[transformers]) (8.1.12)\n",
            "Requirement already satisfied: wasabi<1.2.0,>=0.9.1 in /usr/local/lib/python3.10/dist-packages (from spacy[transformers]) (1.1.2)\n",
            "Requirement already satisfied: srsly<3.0.0,>=2.4.3 in /usr/local/lib/python3.10/dist-packages (from spacy[transformers]) (2.4.8)\n",
            "Requirement already satisfied: catalogue<2.1.0,>=2.0.6 in /usr/local/lib/python3.10/dist-packages (from spacy[transformers]) (2.0.10)\n",
            "Requirement already satisfied: typer<0.10.0,>=0.3.0 in /usr/local/lib/python3.10/dist-packages (from spacy[transformers]) (0.9.0)\n",
            "Requirement already satisfied: pathy>=0.10.0 in /usr/local/lib/python3.10/dist-packages (from spacy[transformers]) (0.10.2)\n",
            "Requirement already satisfied: smart-open<7.0.0,>=5.2.1 in /usr/local/lib/python3.10/dist-packages (from spacy[transformers]) (6.4.0)\n",
            "Requirement already satisfied: tqdm<5.0.0,>=4.38.0 in /usr/local/lib/python3.10/dist-packages (from spacy[transformers]) (4.66.1)\n",
            "Requirement already satisfied: numpy>=1.15.0 in /usr/local/lib/python3.10/dist-packages (from spacy[transformers]) (1.23.5)\n",
            "Requirement already satisfied: requests<3.0.0,>=2.13.0 in /usr/local/lib/python3.10/dist-packages (from spacy[transformers]) (2.31.0)\n",
            "Requirement already satisfied: pydantic!=1.8,!=1.8.1,<3.0.0,>=1.7.4 in /usr/local/lib/python3.10/dist-packages (from spacy[transformers]) (1.10.13)\n",
            "Requirement already satisfied: jinja2 in /usr/local/lib/python3.10/dist-packages (from spacy[transformers]) (3.1.2)\n",
            "Requirement already satisfied: setuptools in /usr/local/lib/python3.10/dist-packages (from spacy[transformers]) (67.7.2)\n",
            "Requirement already satisfied: packaging>=20.0 in /usr/local/lib/python3.10/dist-packages (from spacy[transformers]) (23.2)\n",
            "Requirement already satisfied: langcodes<4.0.0,>=3.2.0 in /usr/local/lib/python3.10/dist-packages (from spacy[transformers]) (3.3.0)\n",
            "Requirement already satisfied: spacy-transformers<1.3.0,>=1.1.2 in /usr/local/lib/python3.10/dist-packages (from spacy[transformers]) (1.2.5)\n",
            "Requirement already satisfied: typing-extensions>=4.2.0 in /usr/local/lib/python3.10/dist-packages (from pydantic!=1.8,!=1.8.1,<3.0.0,>=1.7.4->spacy[transformers]) (4.5.0)\n",
            "Requirement already satisfied: charset-normalizer<4,>=2 in /usr/local/lib/python3.10/dist-packages (from requests<3.0.0,>=2.13.0->spacy[transformers]) (3.3.0)\n",
            "Requirement already satisfied: idna<4,>=2.5 in /usr/local/lib/python3.10/dist-packages (from requests<3.0.0,>=2.13.0->spacy[transformers]) (3.4)\n",
            "Requirement already satisfied: urllib3<3,>=1.21.1 in /usr/local/lib/python3.10/dist-packages (from requests<3.0.0,>=2.13.0->spacy[transformers]) (2.0.7)\n",
            "Requirement already satisfied: certifi>=2017.4.17 in /usr/local/lib/python3.10/dist-packages (from requests<3.0.0,>=2.13.0->spacy[transformers]) (2023.7.22)\n",
            "Requirement already satisfied: transformers<4.31.0,>=3.4.0 in /usr/local/lib/python3.10/dist-packages (from spacy-transformers<1.3.0,>=1.1.2->spacy[transformers]) (4.30.2)\n",
            "Requirement already satisfied: torch>=1.8.0 in /usr/local/lib/python3.10/dist-packages (from spacy-transformers<1.3.0,>=1.1.2->spacy[transformers]) (2.1.0+cu118)\n",
            "Requirement already satisfied: spacy-alignments<1.0.0,>=0.7.2 in /usr/local/lib/python3.10/dist-packages (from spacy-transformers<1.3.0,>=1.1.2->spacy[transformers]) (0.9.1)\n",
            "Requirement already satisfied: blis<0.8.0,>=0.7.8 in /usr/local/lib/python3.10/dist-packages (from thinc<8.2.0,>=8.1.8->spacy[transformers]) (0.7.11)\n",
            "Requirement already satisfied: confection<1.0.0,>=0.0.1 in /usr/local/lib/python3.10/dist-packages (from thinc<8.2.0,>=8.1.8->spacy[transformers]) (0.1.3)\n",
            "Requirement already satisfied: click<9.0.0,>=7.1.1 in /usr/local/lib/python3.10/dist-packages (from typer<0.10.0,>=0.3.0->spacy[transformers]) (8.1.7)\n",
            "Requirement already satisfied: MarkupSafe>=2.0 in /usr/local/lib/python3.10/dist-packages (from jinja2->spacy[transformers]) (2.1.3)\n",
            "Requirement already satisfied: filelock in /usr/local/lib/python3.10/dist-packages (from torch>=1.8.0->spacy-transformers<1.3.0,>=1.1.2->spacy[transformers]) (3.12.4)\n",
            "Requirement already satisfied: sympy in /usr/local/lib/python3.10/dist-packages (from torch>=1.8.0->spacy-transformers<1.3.0,>=1.1.2->spacy[transformers]) (1.12)\n",
            "Requirement already satisfied: networkx in /usr/local/lib/python3.10/dist-packages (from torch>=1.8.0->spacy-transformers<1.3.0,>=1.1.2->spacy[transformers]) (3.2)\n",
            "Requirement already satisfied: fsspec in /usr/local/lib/python3.10/dist-packages (from torch>=1.8.0->spacy-transformers<1.3.0,>=1.1.2->spacy[transformers]) (2023.6.0)\n",
            "Requirement already satisfied: triton==2.1.0 in /usr/local/lib/python3.10/dist-packages (from torch>=1.8.0->spacy-transformers<1.3.0,>=1.1.2->spacy[transformers]) (2.1.0)\n",
            "Requirement already satisfied: huggingface-hub<1.0,>=0.14.1 in /usr/local/lib/python3.10/dist-packages (from transformers<4.31.0,>=3.4.0->spacy-transformers<1.3.0,>=1.1.2->spacy[transformers]) (0.18.0)\n",
            "Requirement already satisfied: pyyaml>=5.1 in /usr/local/lib/python3.10/dist-packages (from transformers<4.31.0,>=3.4.0->spacy-transformers<1.3.0,>=1.1.2->spacy[transformers]) (6.0.1)\n",
            "Requirement already satisfied: regex!=2019.12.17 in /usr/local/lib/python3.10/dist-packages (from transformers<4.31.0,>=3.4.0->spacy-transformers<1.3.0,>=1.1.2->spacy[transformers]) (2023.6.3)\n",
            "Requirement already satisfied: tokenizers!=0.11.3,<0.14,>=0.11.1 in /usr/local/lib/python3.10/dist-packages (from transformers<4.31.0,>=3.4.0->spacy-transformers<1.3.0,>=1.1.2->spacy[transformers]) (0.13.3)\n",
            "Requirement already satisfied: safetensors>=0.3.1 in /usr/local/lib/python3.10/dist-packages (from transformers<4.31.0,>=3.4.0->spacy-transformers<1.3.0,>=1.1.2->spacy[transformers]) (0.4.0)\n",
            "Requirement already satisfied: mpmath>=0.19 in /usr/local/lib/python3.10/dist-packages (from sympy->torch>=1.8.0->spacy-transformers<1.3.0,>=1.1.2->spacy[transformers]) (1.3.0)\n"
          ]
        }
      ],
      "source": [
        "!pip install 'spacy[transformers]'"
      ]
    },
    {
      "cell_type": "markdown",
      "metadata": {
        "id": "GKQv4Pp9JHaX"
      },
      "source": [
        "## Подготовка"
      ]
    },
    {
      "cell_type": "code",
      "execution_count": 34,
      "metadata": {
        "id": "h3cixxiaJHaY"
      },
      "outputs": [],
      "source": [
        "import pandas as pd\n",
        "import numpy as np\n",
        "from sklearn.feature_extraction.text import TfidfVectorizer\n",
        "\n",
        "from sklearn.tree import DecisionTreeClassifier\n",
        "import lightgbm as lgb\n",
        "from catboost import CatBoostClassifier\n",
        "from sklearn.model_selection import GridSearchCV\n",
        "from sklearn.model_selection import RandomizedSearchCV\n",
        "from sklearn.metrics import f1_score\n",
        "from sklearn.dummy import DummyClassifier\n",
        "from sklearn.model_selection import train_test_split\n",
        "from sklearn.model_selection import cross_validate\n",
        "from sklearn.linear_model import LogisticRegression\n",
        "from sklearn.pipeline import Pipeline\n",
        "\n",
        "import re\n",
        "import spacy_transformers\n",
        "import spacy\n",
        "\n",
        "from tqdm import tqdm\n",
        "\n",
        "from google.colab import drive"
      ]
    },
    {
      "cell_type": "markdown",
      "metadata": {
        "id": "VHp_bOEOJHaY"
      },
      "source": [
        "**Посмотрим на исходные данные.**"
      ]
    },
    {
      "cell_type": "code",
      "execution_count": 8,
      "metadata": {
        "id": "1pTpjNegJHaZ",
        "outputId": "091e0ed3-7322-427c-bb5b-5524cbefaca2",
        "colab": {
          "base_uri": "https://localhost:8080/",
          "height": 221
        }
      },
      "outputs": [
        {
          "output_type": "stream",
          "name": "stdout",
          "text": [
            "Mounted at /content/drive\n"
          ]
        },
        {
          "output_type": "execute_result",
          "data": {
            "text/plain": [
              "   Unnamed: 0                                               text  toxic\n",
              "0           0  Explanation\\nWhy the edits made under my usern...      0\n",
              "1           1  D'aww! He matches this background colour I'm s...      0\n",
              "2           2  Hey man, I'm really not trying to edit war. It...      0\n",
              "3           3  \"\\nMore\\nI can't make any real suggestions on ...      0\n",
              "4           4  You, sir, are my hero. Any chance you remember...      0"
            ],
            "text/html": [
              "\n",
              "  <div id=\"df-1f161a18-7c45-4999-921e-7d2e09586c54\" class=\"colab-df-container\">\n",
              "    <div>\n",
              "<style scoped>\n",
              "    .dataframe tbody tr th:only-of-type {\n",
              "        vertical-align: middle;\n",
              "    }\n",
              "\n",
              "    .dataframe tbody tr th {\n",
              "        vertical-align: top;\n",
              "    }\n",
              "\n",
              "    .dataframe thead th {\n",
              "        text-align: right;\n",
              "    }\n",
              "</style>\n",
              "<table border=\"1\" class=\"dataframe\">\n",
              "  <thead>\n",
              "    <tr style=\"text-align: right;\">\n",
              "      <th></th>\n",
              "      <th>Unnamed: 0</th>\n",
              "      <th>text</th>\n",
              "      <th>toxic</th>\n",
              "    </tr>\n",
              "  </thead>\n",
              "  <tbody>\n",
              "    <tr>\n",
              "      <th>0</th>\n",
              "      <td>0</td>\n",
              "      <td>Explanation\\nWhy the edits made under my usern...</td>\n",
              "      <td>0</td>\n",
              "    </tr>\n",
              "    <tr>\n",
              "      <th>1</th>\n",
              "      <td>1</td>\n",
              "      <td>D'aww! He matches this background colour I'm s...</td>\n",
              "      <td>0</td>\n",
              "    </tr>\n",
              "    <tr>\n",
              "      <th>2</th>\n",
              "      <td>2</td>\n",
              "      <td>Hey man, I'm really not trying to edit war. It...</td>\n",
              "      <td>0</td>\n",
              "    </tr>\n",
              "    <tr>\n",
              "      <th>3</th>\n",
              "      <td>3</td>\n",
              "      <td>\"\\nMore\\nI can't make any real suggestions on ...</td>\n",
              "      <td>0</td>\n",
              "    </tr>\n",
              "    <tr>\n",
              "      <th>4</th>\n",
              "      <td>4</td>\n",
              "      <td>You, sir, are my hero. Any chance you remember...</td>\n",
              "      <td>0</td>\n",
              "    </tr>\n",
              "  </tbody>\n",
              "</table>\n",
              "</div>\n",
              "    <div class=\"colab-df-buttons\">\n",
              "\n",
              "  <div class=\"colab-df-container\">\n",
              "    <button class=\"colab-df-convert\" onclick=\"convertToInteractive('df-1f161a18-7c45-4999-921e-7d2e09586c54')\"\n",
              "            title=\"Convert this dataframe to an interactive table.\"\n",
              "            style=\"display:none;\">\n",
              "\n",
              "  <svg xmlns=\"http://www.w3.org/2000/svg\" height=\"24px\" viewBox=\"0 -960 960 960\">\n",
              "    <path d=\"M120-120v-720h720v720H120Zm60-500h600v-160H180v160Zm220 220h160v-160H400v160Zm0 220h160v-160H400v160ZM180-400h160v-160H180v160Zm440 0h160v-160H620v160ZM180-180h160v-160H180v160Zm440 0h160v-160H620v160Z\"/>\n",
              "  </svg>\n",
              "    </button>\n",
              "\n",
              "  <style>\n",
              "    .colab-df-container {\n",
              "      display:flex;\n",
              "      gap: 12px;\n",
              "    }\n",
              "\n",
              "    .colab-df-convert {\n",
              "      background-color: #E8F0FE;\n",
              "      border: none;\n",
              "      border-radius: 50%;\n",
              "      cursor: pointer;\n",
              "      display: none;\n",
              "      fill: #1967D2;\n",
              "      height: 32px;\n",
              "      padding: 0 0 0 0;\n",
              "      width: 32px;\n",
              "    }\n",
              "\n",
              "    .colab-df-convert:hover {\n",
              "      background-color: #E2EBFA;\n",
              "      box-shadow: 0px 1px 2px rgba(60, 64, 67, 0.3), 0px 1px 3px 1px rgba(60, 64, 67, 0.15);\n",
              "      fill: #174EA6;\n",
              "    }\n",
              "\n",
              "    .colab-df-buttons div {\n",
              "      margin-bottom: 4px;\n",
              "    }\n",
              "\n",
              "    [theme=dark] .colab-df-convert {\n",
              "      background-color: #3B4455;\n",
              "      fill: #D2E3FC;\n",
              "    }\n",
              "\n",
              "    [theme=dark] .colab-df-convert:hover {\n",
              "      background-color: #434B5C;\n",
              "      box-shadow: 0px 1px 3px 1px rgba(0, 0, 0, 0.15);\n",
              "      filter: drop-shadow(0px 1px 2px rgba(0, 0, 0, 0.3));\n",
              "      fill: #FFFFFF;\n",
              "    }\n",
              "  </style>\n",
              "\n",
              "    <script>\n",
              "      const buttonEl =\n",
              "        document.querySelector('#df-1f161a18-7c45-4999-921e-7d2e09586c54 button.colab-df-convert');\n",
              "      buttonEl.style.display =\n",
              "        google.colab.kernel.accessAllowed ? 'block' : 'none';\n",
              "\n",
              "      async function convertToInteractive(key) {\n",
              "        const element = document.querySelector('#df-1f161a18-7c45-4999-921e-7d2e09586c54');\n",
              "        const dataTable =\n",
              "          await google.colab.kernel.invokeFunction('convertToInteractive',\n",
              "                                                    [key], {});\n",
              "        if (!dataTable) return;\n",
              "\n",
              "        const docLinkHtml = 'Like what you see? Visit the ' +\n",
              "          '<a target=\"_blank\" href=https://colab.research.google.com/notebooks/data_table.ipynb>data table notebook</a>'\n",
              "          + ' to learn more about interactive tables.';\n",
              "        element.innerHTML = '';\n",
              "        dataTable['output_type'] = 'display_data';\n",
              "        await google.colab.output.renderOutput(dataTable, element);\n",
              "        const docLink = document.createElement('div');\n",
              "        docLink.innerHTML = docLinkHtml;\n",
              "        element.appendChild(docLink);\n",
              "      }\n",
              "    </script>\n",
              "  </div>\n",
              "\n",
              "\n",
              "<div id=\"df-2811101c-4cdd-4183-9db9-3b51ac5ab6eb\">\n",
              "  <button class=\"colab-df-quickchart\" onclick=\"quickchart('df-2811101c-4cdd-4183-9db9-3b51ac5ab6eb')\"\n",
              "            title=\"Suggest charts.\"\n",
              "            style=\"display:none;\">\n",
              "\n",
              "<svg xmlns=\"http://www.w3.org/2000/svg\" height=\"24px\"viewBox=\"0 0 24 24\"\n",
              "     width=\"24px\">\n",
              "    <g>\n",
              "        <path d=\"M19 3H5c-1.1 0-2 .9-2 2v14c0 1.1.9 2 2 2h14c1.1 0 2-.9 2-2V5c0-1.1-.9-2-2-2zM9 17H7v-7h2v7zm4 0h-2V7h2v10zm4 0h-2v-4h2v4z\"/>\n",
              "    </g>\n",
              "</svg>\n",
              "  </button>\n",
              "\n",
              "<style>\n",
              "  .colab-df-quickchart {\n",
              "      --bg-color: #E8F0FE;\n",
              "      --fill-color: #1967D2;\n",
              "      --hover-bg-color: #E2EBFA;\n",
              "      --hover-fill-color: #174EA6;\n",
              "      --disabled-fill-color: #AAA;\n",
              "      --disabled-bg-color: #DDD;\n",
              "  }\n",
              "\n",
              "  [theme=dark] .colab-df-quickchart {\n",
              "      --bg-color: #3B4455;\n",
              "      --fill-color: #D2E3FC;\n",
              "      --hover-bg-color: #434B5C;\n",
              "      --hover-fill-color: #FFFFFF;\n",
              "      --disabled-bg-color: #3B4455;\n",
              "      --disabled-fill-color: #666;\n",
              "  }\n",
              "\n",
              "  .colab-df-quickchart {\n",
              "    background-color: var(--bg-color);\n",
              "    border: none;\n",
              "    border-radius: 50%;\n",
              "    cursor: pointer;\n",
              "    display: none;\n",
              "    fill: var(--fill-color);\n",
              "    height: 32px;\n",
              "    padding: 0;\n",
              "    width: 32px;\n",
              "  }\n",
              "\n",
              "  .colab-df-quickchart:hover {\n",
              "    background-color: var(--hover-bg-color);\n",
              "    box-shadow: 0 1px 2px rgba(60, 64, 67, 0.3), 0 1px 3px 1px rgba(60, 64, 67, 0.15);\n",
              "    fill: var(--button-hover-fill-color);\n",
              "  }\n",
              "\n",
              "  .colab-df-quickchart-complete:disabled,\n",
              "  .colab-df-quickchart-complete:disabled:hover {\n",
              "    background-color: var(--disabled-bg-color);\n",
              "    fill: var(--disabled-fill-color);\n",
              "    box-shadow: none;\n",
              "  }\n",
              "\n",
              "  .colab-df-spinner {\n",
              "    border: 2px solid var(--fill-color);\n",
              "    border-color: transparent;\n",
              "    border-bottom-color: var(--fill-color);\n",
              "    animation:\n",
              "      spin 1s steps(1) infinite;\n",
              "  }\n",
              "\n",
              "  @keyframes spin {\n",
              "    0% {\n",
              "      border-color: transparent;\n",
              "      border-bottom-color: var(--fill-color);\n",
              "      border-left-color: var(--fill-color);\n",
              "    }\n",
              "    20% {\n",
              "      border-color: transparent;\n",
              "      border-left-color: var(--fill-color);\n",
              "      border-top-color: var(--fill-color);\n",
              "    }\n",
              "    30% {\n",
              "      border-color: transparent;\n",
              "      border-left-color: var(--fill-color);\n",
              "      border-top-color: var(--fill-color);\n",
              "      border-right-color: var(--fill-color);\n",
              "    }\n",
              "    40% {\n",
              "      border-color: transparent;\n",
              "      border-right-color: var(--fill-color);\n",
              "      border-top-color: var(--fill-color);\n",
              "    }\n",
              "    60% {\n",
              "      border-color: transparent;\n",
              "      border-right-color: var(--fill-color);\n",
              "    }\n",
              "    80% {\n",
              "      border-color: transparent;\n",
              "      border-right-color: var(--fill-color);\n",
              "      border-bottom-color: var(--fill-color);\n",
              "    }\n",
              "    90% {\n",
              "      border-color: transparent;\n",
              "      border-bottom-color: var(--fill-color);\n",
              "    }\n",
              "  }\n",
              "</style>\n",
              "\n",
              "  <script>\n",
              "    async function quickchart(key) {\n",
              "      const quickchartButtonEl =\n",
              "        document.querySelector('#' + key + ' button');\n",
              "      quickchartButtonEl.disabled = true;  // To prevent multiple clicks.\n",
              "      quickchartButtonEl.classList.add('colab-df-spinner');\n",
              "      try {\n",
              "        const charts = await google.colab.kernel.invokeFunction(\n",
              "            'suggestCharts', [key], {});\n",
              "      } catch (error) {\n",
              "        console.error('Error during call to suggestCharts:', error);\n",
              "      }\n",
              "      quickchartButtonEl.classList.remove('colab-df-spinner');\n",
              "      quickchartButtonEl.classList.add('colab-df-quickchart-complete');\n",
              "    }\n",
              "    (() => {\n",
              "      let quickchartButtonEl =\n",
              "        document.querySelector('#df-2811101c-4cdd-4183-9db9-3b51ac5ab6eb button');\n",
              "      quickchartButtonEl.style.display =\n",
              "        google.colab.kernel.accessAllowed ? 'block' : 'none';\n",
              "    })();\n",
              "  </script>\n",
              "</div>\n",
              "    </div>\n",
              "  </div>\n"
            ]
          },
          "metadata": {},
          "execution_count": 8
        }
      ],
      "source": [
        "drive.mount('/content/drive')\n",
        "data = pd.read_csv('/content/drive/My Drive/projects/NLP_toxic_comments_classification/toxic_comments.csv')\n",
        "data.head()"
      ]
    },
    {
      "cell_type": "markdown",
      "metadata": {
        "id": "9GQ-qEzDJHaZ"
      },
      "source": [
        "**Удалим лишний столбец.**"
      ]
    },
    {
      "cell_type": "code",
      "execution_count": 9,
      "metadata": {
        "id": "ZrI3gLy1JHaZ",
        "outputId": "aaa9f7d5-bd9d-410f-c37b-1dae2d4d4488",
        "colab": {
          "base_uri": "https://localhost:8080/",
          "height": 204
        }
      },
      "outputs": [
        {
          "output_type": "execute_result",
          "data": {
            "text/plain": [
              "                                                text  toxic\n",
              "0  Explanation\\nWhy the edits made under my usern...      0\n",
              "1  D'aww! He matches this background colour I'm s...      0\n",
              "2  Hey man, I'm really not trying to edit war. It...      0\n",
              "3  \"\\nMore\\nI can't make any real suggestions on ...      0\n",
              "4  You, sir, are my hero. Any chance you remember...      0"
            ],
            "text/html": [
              "\n",
              "  <div id=\"df-2668df56-0389-4689-8571-5e39d519dbff\" class=\"colab-df-container\">\n",
              "    <div>\n",
              "<style scoped>\n",
              "    .dataframe tbody tr th:only-of-type {\n",
              "        vertical-align: middle;\n",
              "    }\n",
              "\n",
              "    .dataframe tbody tr th {\n",
              "        vertical-align: top;\n",
              "    }\n",
              "\n",
              "    .dataframe thead th {\n",
              "        text-align: right;\n",
              "    }\n",
              "</style>\n",
              "<table border=\"1\" class=\"dataframe\">\n",
              "  <thead>\n",
              "    <tr style=\"text-align: right;\">\n",
              "      <th></th>\n",
              "      <th>text</th>\n",
              "      <th>toxic</th>\n",
              "    </tr>\n",
              "  </thead>\n",
              "  <tbody>\n",
              "    <tr>\n",
              "      <th>0</th>\n",
              "      <td>Explanation\\nWhy the edits made under my usern...</td>\n",
              "      <td>0</td>\n",
              "    </tr>\n",
              "    <tr>\n",
              "      <th>1</th>\n",
              "      <td>D'aww! He matches this background colour I'm s...</td>\n",
              "      <td>0</td>\n",
              "    </tr>\n",
              "    <tr>\n",
              "      <th>2</th>\n",
              "      <td>Hey man, I'm really not trying to edit war. It...</td>\n",
              "      <td>0</td>\n",
              "    </tr>\n",
              "    <tr>\n",
              "      <th>3</th>\n",
              "      <td>\"\\nMore\\nI can't make any real suggestions on ...</td>\n",
              "      <td>0</td>\n",
              "    </tr>\n",
              "    <tr>\n",
              "      <th>4</th>\n",
              "      <td>You, sir, are my hero. Any chance you remember...</td>\n",
              "      <td>0</td>\n",
              "    </tr>\n",
              "  </tbody>\n",
              "</table>\n",
              "</div>\n",
              "    <div class=\"colab-df-buttons\">\n",
              "\n",
              "  <div class=\"colab-df-container\">\n",
              "    <button class=\"colab-df-convert\" onclick=\"convertToInteractive('df-2668df56-0389-4689-8571-5e39d519dbff')\"\n",
              "            title=\"Convert this dataframe to an interactive table.\"\n",
              "            style=\"display:none;\">\n",
              "\n",
              "  <svg xmlns=\"http://www.w3.org/2000/svg\" height=\"24px\" viewBox=\"0 -960 960 960\">\n",
              "    <path d=\"M120-120v-720h720v720H120Zm60-500h600v-160H180v160Zm220 220h160v-160H400v160Zm0 220h160v-160H400v160ZM180-400h160v-160H180v160Zm440 0h160v-160H620v160ZM180-180h160v-160H180v160Zm440 0h160v-160H620v160Z\"/>\n",
              "  </svg>\n",
              "    </button>\n",
              "\n",
              "  <style>\n",
              "    .colab-df-container {\n",
              "      display:flex;\n",
              "      gap: 12px;\n",
              "    }\n",
              "\n",
              "    .colab-df-convert {\n",
              "      background-color: #E8F0FE;\n",
              "      border: none;\n",
              "      border-radius: 50%;\n",
              "      cursor: pointer;\n",
              "      display: none;\n",
              "      fill: #1967D2;\n",
              "      height: 32px;\n",
              "      padding: 0 0 0 0;\n",
              "      width: 32px;\n",
              "    }\n",
              "\n",
              "    .colab-df-convert:hover {\n",
              "      background-color: #E2EBFA;\n",
              "      box-shadow: 0px 1px 2px rgba(60, 64, 67, 0.3), 0px 1px 3px 1px rgba(60, 64, 67, 0.15);\n",
              "      fill: #174EA6;\n",
              "    }\n",
              "\n",
              "    .colab-df-buttons div {\n",
              "      margin-bottom: 4px;\n",
              "    }\n",
              "\n",
              "    [theme=dark] .colab-df-convert {\n",
              "      background-color: #3B4455;\n",
              "      fill: #D2E3FC;\n",
              "    }\n",
              "\n",
              "    [theme=dark] .colab-df-convert:hover {\n",
              "      background-color: #434B5C;\n",
              "      box-shadow: 0px 1px 3px 1px rgba(0, 0, 0, 0.15);\n",
              "      filter: drop-shadow(0px 1px 2px rgba(0, 0, 0, 0.3));\n",
              "      fill: #FFFFFF;\n",
              "    }\n",
              "  </style>\n",
              "\n",
              "    <script>\n",
              "      const buttonEl =\n",
              "        document.querySelector('#df-2668df56-0389-4689-8571-5e39d519dbff button.colab-df-convert');\n",
              "      buttonEl.style.display =\n",
              "        google.colab.kernel.accessAllowed ? 'block' : 'none';\n",
              "\n",
              "      async function convertToInteractive(key) {\n",
              "        const element = document.querySelector('#df-2668df56-0389-4689-8571-5e39d519dbff');\n",
              "        const dataTable =\n",
              "          await google.colab.kernel.invokeFunction('convertToInteractive',\n",
              "                                                    [key], {});\n",
              "        if (!dataTable) return;\n",
              "\n",
              "        const docLinkHtml = 'Like what you see? Visit the ' +\n",
              "          '<a target=\"_blank\" href=https://colab.research.google.com/notebooks/data_table.ipynb>data table notebook</a>'\n",
              "          + ' to learn more about interactive tables.';\n",
              "        element.innerHTML = '';\n",
              "        dataTable['output_type'] = 'display_data';\n",
              "        await google.colab.output.renderOutput(dataTable, element);\n",
              "        const docLink = document.createElement('div');\n",
              "        docLink.innerHTML = docLinkHtml;\n",
              "        element.appendChild(docLink);\n",
              "      }\n",
              "    </script>\n",
              "  </div>\n",
              "\n",
              "\n",
              "<div id=\"df-933723d5-5f25-4aef-91cc-9adcfe6cd780\">\n",
              "  <button class=\"colab-df-quickchart\" onclick=\"quickchart('df-933723d5-5f25-4aef-91cc-9adcfe6cd780')\"\n",
              "            title=\"Suggest charts.\"\n",
              "            style=\"display:none;\">\n",
              "\n",
              "<svg xmlns=\"http://www.w3.org/2000/svg\" height=\"24px\"viewBox=\"0 0 24 24\"\n",
              "     width=\"24px\">\n",
              "    <g>\n",
              "        <path d=\"M19 3H5c-1.1 0-2 .9-2 2v14c0 1.1.9 2 2 2h14c1.1 0 2-.9 2-2V5c0-1.1-.9-2-2-2zM9 17H7v-7h2v7zm4 0h-2V7h2v10zm4 0h-2v-4h2v4z\"/>\n",
              "    </g>\n",
              "</svg>\n",
              "  </button>\n",
              "\n",
              "<style>\n",
              "  .colab-df-quickchart {\n",
              "      --bg-color: #E8F0FE;\n",
              "      --fill-color: #1967D2;\n",
              "      --hover-bg-color: #E2EBFA;\n",
              "      --hover-fill-color: #174EA6;\n",
              "      --disabled-fill-color: #AAA;\n",
              "      --disabled-bg-color: #DDD;\n",
              "  }\n",
              "\n",
              "  [theme=dark] .colab-df-quickchart {\n",
              "      --bg-color: #3B4455;\n",
              "      --fill-color: #D2E3FC;\n",
              "      --hover-bg-color: #434B5C;\n",
              "      --hover-fill-color: #FFFFFF;\n",
              "      --disabled-bg-color: #3B4455;\n",
              "      --disabled-fill-color: #666;\n",
              "  }\n",
              "\n",
              "  .colab-df-quickchart {\n",
              "    background-color: var(--bg-color);\n",
              "    border: none;\n",
              "    border-radius: 50%;\n",
              "    cursor: pointer;\n",
              "    display: none;\n",
              "    fill: var(--fill-color);\n",
              "    height: 32px;\n",
              "    padding: 0;\n",
              "    width: 32px;\n",
              "  }\n",
              "\n",
              "  .colab-df-quickchart:hover {\n",
              "    background-color: var(--hover-bg-color);\n",
              "    box-shadow: 0 1px 2px rgba(60, 64, 67, 0.3), 0 1px 3px 1px rgba(60, 64, 67, 0.15);\n",
              "    fill: var(--button-hover-fill-color);\n",
              "  }\n",
              "\n",
              "  .colab-df-quickchart-complete:disabled,\n",
              "  .colab-df-quickchart-complete:disabled:hover {\n",
              "    background-color: var(--disabled-bg-color);\n",
              "    fill: var(--disabled-fill-color);\n",
              "    box-shadow: none;\n",
              "  }\n",
              "\n",
              "  .colab-df-spinner {\n",
              "    border: 2px solid var(--fill-color);\n",
              "    border-color: transparent;\n",
              "    border-bottom-color: var(--fill-color);\n",
              "    animation:\n",
              "      spin 1s steps(1) infinite;\n",
              "  }\n",
              "\n",
              "  @keyframes spin {\n",
              "    0% {\n",
              "      border-color: transparent;\n",
              "      border-bottom-color: var(--fill-color);\n",
              "      border-left-color: var(--fill-color);\n",
              "    }\n",
              "    20% {\n",
              "      border-color: transparent;\n",
              "      border-left-color: var(--fill-color);\n",
              "      border-top-color: var(--fill-color);\n",
              "    }\n",
              "    30% {\n",
              "      border-color: transparent;\n",
              "      border-left-color: var(--fill-color);\n",
              "      border-top-color: var(--fill-color);\n",
              "      border-right-color: var(--fill-color);\n",
              "    }\n",
              "    40% {\n",
              "      border-color: transparent;\n",
              "      border-right-color: var(--fill-color);\n",
              "      border-top-color: var(--fill-color);\n",
              "    }\n",
              "    60% {\n",
              "      border-color: transparent;\n",
              "      border-right-color: var(--fill-color);\n",
              "    }\n",
              "    80% {\n",
              "      border-color: transparent;\n",
              "      border-right-color: var(--fill-color);\n",
              "      border-bottom-color: var(--fill-color);\n",
              "    }\n",
              "    90% {\n",
              "      border-color: transparent;\n",
              "      border-bottom-color: var(--fill-color);\n",
              "    }\n",
              "  }\n",
              "</style>\n",
              "\n",
              "  <script>\n",
              "    async function quickchart(key) {\n",
              "      const quickchartButtonEl =\n",
              "        document.querySelector('#' + key + ' button');\n",
              "      quickchartButtonEl.disabled = true;  // To prevent multiple clicks.\n",
              "      quickchartButtonEl.classList.add('colab-df-spinner');\n",
              "      try {\n",
              "        const charts = await google.colab.kernel.invokeFunction(\n",
              "            'suggestCharts', [key], {});\n",
              "      } catch (error) {\n",
              "        console.error('Error during call to suggestCharts:', error);\n",
              "      }\n",
              "      quickchartButtonEl.classList.remove('colab-df-spinner');\n",
              "      quickchartButtonEl.classList.add('colab-df-quickchart-complete');\n",
              "    }\n",
              "    (() => {\n",
              "      let quickchartButtonEl =\n",
              "        document.querySelector('#df-933723d5-5f25-4aef-91cc-9adcfe6cd780 button');\n",
              "      quickchartButtonEl.style.display =\n",
              "        google.colab.kernel.accessAllowed ? 'block' : 'none';\n",
              "    })();\n",
              "  </script>\n",
              "</div>\n",
              "    </div>\n",
              "  </div>\n"
            ]
          },
          "metadata": {},
          "execution_count": 9
        }
      ],
      "source": [
        "data = data.drop('Unnamed: 0', axis=1)\n",
        "data.head()"
      ]
    },
    {
      "cell_type": "code",
      "execution_count": 10,
      "metadata": {
        "id": "oUV2TZaTJHaZ",
        "outputId": "fffd70d0-74dd-4bd4-977f-ca2b225bac18",
        "colab": {
          "base_uri": "https://localhost:8080/"
        }
      },
      "outputs": [
        {
          "output_type": "execute_result",
          "data": {
            "text/plain": [
              "0.10161213369158527"
            ]
          },
          "metadata": {},
          "execution_count": 10
        }
      ],
      "source": [
        "data['toxic'].mean()"
      ]
    },
    {
      "cell_type": "markdown",
      "metadata": {
        "id": "SjpRt76xJHaa"
      },
      "source": [
        "**Токсических комментариев 10% от общего кол-ва в выборке.**\n",
        "\n",
        "**Посмотрим на соотношение в абсолютных значениях.**"
      ]
    },
    {
      "cell_type": "code",
      "execution_count": 11,
      "metadata": {
        "id": "gi0xiKqXJHaa",
        "outputId": "239b9baa-32f4-4b52-d4b8-a85d2a679211",
        "colab": {
          "base_uri": "https://localhost:8080/"
        }
      },
      "outputs": [
        {
          "output_type": "execute_result",
          "data": {
            "text/plain": [
              "0    143106\n",
              "1     16186\n",
              "Name: toxic, dtype: int64"
            ]
          },
          "metadata": {},
          "execution_count": 11
        }
      ],
      "source": [
        "data['toxic'].value_counts()"
      ]
    },
    {
      "cell_type": "markdown",
      "metadata": {
        "id": "Bw8qyJ8qJHaa"
      },
      "source": [
        "**Возьмем случайную выборку от исходного датасета, чтобы сохранить в ней аналогичное соотношение классов, как в исходной выборке и сделаем всю работу на ней, т.к. мощностей не хватает для работы на полном датасете, однако, если бы мощностей было достаточно, то работа производилась бы идентичная.**"
      ]
    },
    {
      "cell_type": "code",
      "execution_count": 12,
      "metadata": {
        "id": "UO3YZ97NJHaa",
        "outputId": "fe95038b-8ca4-4bce-c5d4-ebd4c190e99e",
        "colab": {
          "base_uri": "https://localhost:8080/"
        }
      },
      "outputs": [
        {
          "output_type": "execute_result",
          "data": {
            "text/plain": [
              "0.10142"
            ]
          },
          "metadata": {},
          "execution_count": 12
        }
      ],
      "source": [
        "df = data.sample(50000).reset_index(drop=True)\n",
        "df['toxic'].mean()"
      ]
    },
    {
      "cell_type": "markdown",
      "metadata": {
        "id": "iHAKIu_-JHaa"
      },
      "source": [
        "**Соотношение классов в новой выборке осталось аналогичным исходной.**\n",
        "\n",
        "**Проведем подготовку данных, а именно сделаем токенизацию через инструменты библиотеки Spacy.**"
      ]
    },
    {
      "cell_type": "code",
      "source": [
        "nlp = spacy.load('en_core_web_sm')\n",
        "tqdm.pandas()\n",
        "\n",
        "new_corpus = []\n",
        "for doc in tqdm(nlp.pipe(df['text'], batch_size=64, n_process=-1, disable=[\"parser\", \"ner\"]), total=len(df['text'])):\n",
        "    word_list = [tok.lemma_ for tok in doc]\n",
        "    new_corpus.append(' '.join(word_list))\n",
        "\n",
        "df['lemm_text'] = new_corpus"
      ],
      "metadata": {
        "id": "K-plspXBLlmF",
        "outputId": "cbb2a8d9-618d-4c8a-efd2-32419dce692d",
        "colab": {
          "base_uri": "https://localhost:8080/"
        }
      },
      "execution_count": 21,
      "outputs": [
        {
          "output_type": "stream",
          "name": "stderr",
          "text": [
            "100%|██████████| 50000/50000 [07:39<00:00, 108.91it/s]\n"
          ]
        }
      ]
    },
    {
      "cell_type": "markdown",
      "source": [
        "**Очистим лемматизированный текст**"
      ],
      "metadata": {
        "id": "O3BPN2tekbBY"
      }
    },
    {
      "cell_type": "code",
      "source": [
        "def clear_text(text):\n",
        "  cleared_text = re.sub(r'[^a-zA-Z]', ' ',text)\n",
        "  cleared_text = cleared_text.lower()\n",
        "  return ' '.join(cleared_text.split())\n",
        "\n",
        "df['clear_text'] = df['lemm_text'].progress_apply(clear_text)"
      ],
      "metadata": {
        "id": "BfswTwUHkebE",
        "outputId": "ae517d69-f545-43c1-9669-4d95577d4bf6",
        "colab": {
          "base_uri": "https://localhost:8080/"
        }
      },
      "execution_count": 35,
      "outputs": [
        {
          "output_type": "stream",
          "name": "stderr",
          "text": [
            "100%|██████████| 50000/50000 [00:01<00:00, 25759.16it/s]\n"
          ]
        }
      ]
    },
    {
      "cell_type": "markdown",
      "metadata": {
        "id": "OwP5fGd8JHab"
      },
      "source": [
        "**Разобъем нашу выборку на тренировочную и тестовую. Валидационной не будет, т.к. будем использовать кросс-валидацию.**"
      ]
    },
    {
      "cell_type": "code",
      "execution_count": 37,
      "metadata": {
        "id": "myRa_k-4JHab",
        "outputId": "bba62c7c-03f5-41b4-cc51-f5d697e9e482",
        "colab": {
          "base_uri": "https://localhost:8080/",
          "height": 157
        }
      },
      "outputs": [
        {
          "output_type": "display_data",
          "data": {
            "text/plain": [
              "'X_train shape:'"
            ],
            "application/vnd.google.colaboratory.intrinsic+json": {
              "type": "string"
            }
          },
          "metadata": {}
        },
        {
          "output_type": "display_data",
          "data": {
            "text/plain": [
              "(40000, 1)"
            ]
          },
          "metadata": {}
        },
        {
          "output_type": "display_data",
          "data": {
            "text/plain": [
              "'X_test shape:'"
            ],
            "application/vnd.google.colaboratory.intrinsic+json": {
              "type": "string"
            }
          },
          "metadata": {}
        },
        {
          "output_type": "display_data",
          "data": {
            "text/plain": [
              "(10000, 1)"
            ]
          },
          "metadata": {}
        },
        {
          "output_type": "display_data",
          "data": {
            "text/plain": [
              "'y_train shape:'"
            ],
            "application/vnd.google.colaboratory.intrinsic+json": {
              "type": "string"
            }
          },
          "metadata": {}
        },
        {
          "output_type": "display_data",
          "data": {
            "text/plain": [
              "(40000,)"
            ]
          },
          "metadata": {}
        },
        {
          "output_type": "display_data",
          "data": {
            "text/plain": [
              "'y_test shape:'"
            ],
            "application/vnd.google.colaboratory.intrinsic+json": {
              "type": "string"
            }
          },
          "metadata": {}
        },
        {
          "output_type": "display_data",
          "data": {
            "text/plain": [
              "(10000,)"
            ]
          },
          "metadata": {}
        }
      ],
      "source": [
        "#разбиваем признаки и целевые признаки на тренировочную и тестовую выборки в соотношении 80/20\n",
        "feature = df[['clear_text']]\n",
        "target = df['toxic']\n",
        "train, test = train_test_split(df, test_size=0.2, random_state=1)\n",
        "X_train, X_test, y_train, y_test = train_test_split(feature, target, test_size = 0.2, random_state=1)\n",
        "\n",
        "display('X_train shape:', X_train.shape)\n",
        "display('X_test shape:', X_test.shape)\n",
        "display('y_train shape:',y_train.shape)\n",
        "display('y_test shape:',y_test.shape)"
      ]
    },
    {
      "cell_type": "code",
      "source": [
        "cat_model = CatBoostClassifier(text_features=['clear_text'], loss_function='Logloss', task_type='CPU', random_seed=42, verbose=False)\n",
        "\n",
        "parameters = {'learning_rate': [0.03],\n",
        "              'depth': [6, 10],\n",
        "              'l2_leaf_reg': [1, 3],\n",
        "              'class_weights': [[1, 8.87]]\n",
        "  }\n",
        "\n",
        "cat_grid_search = GridSearchCV(cat_model, parameters, cv=3, n_jobs=1,  scoring='f1')\n",
        "cat_grid_search.fit(X_train, y_train)\n",
        "\n",
        "print(f\"Best f1: {cat_grid_search.best_score_:.3f}, best params: {cat_grid_search.best_params_}\")"
      ],
      "metadata": {
        "id": "M-OPIJatlcNl"
      },
      "execution_count": null,
      "outputs": []
    },
    {
      "cell_type": "markdown",
      "metadata": {
        "id": "k6x2moHeJHab"
      },
      "source": [
        "**Создадим теперь корпус для тестовой и тренировочной выборок, применим TF_IDF векторизатор для получения фичей из исходного текста для тренировочной выборки, а затем на их основе создадим фичи и для тестовой выборки.**"
      ]
    },
    {
      "cell_type": "code",
      "execution_count": 28,
      "metadata": {
        "id": "JEKJSKJZJHac",
        "outputId": "78a45000-82ea-4ed9-a0a7-e284bdadf29d",
        "colab": {
          "base_uri": "https://localhost:8080/"
        }
      },
      "outputs": [
        {
          "output_type": "stream",
          "name": "stdout",
          "text": [
            "CPU times: user 4.16 s, sys: 37.7 ms, total: 4.2 s\n",
            "Wall time: 5.22 s\n"
          ]
        }
      ],
      "source": [
        "%%time\n",
        "corpus_train = train['lemm_text']\n",
        "corpus_test = test['lemm_text']\n",
        "\n",
        "\n",
        "count_tf_idf_train = TfidfVectorizer()\n",
        "\n",
        "features_train = count_tf_idf_train.fit_transform(corpus_train)\n",
        "target_train = train['toxic']\n",
        "#features_test = count_tf_idf_train.transform(corpus_test)\n",
        "#target_test = test['toxic']"
      ]
    },
    {
      "cell_type": "code",
      "source": [
        "stopwords = list(spacy.lang.en.STOP_WORDS)\n",
        "\n",
        "corpus_train = train['lemm_text']\n",
        "corpus_test = test['lemm_text']\n",
        "count_tf_idf_train = TfidfVectorizer()\n",
        "features_train = count_tf_idf_train.fit_transform(corpus_train)\n",
        "target_train = train['toxic']\n",
        "\n",
        "pipeline = Pipeline([\n",
        "    ('tfidf', TfidfVectorizer(stop_words=stopwords)),\n",
        "    ('logreg', LogisticRegression(random_state=1)),\n",
        "])\n",
        "parameters = {\n",
        "    'tfidf__max_df': (0.25, 0.5, 0.75),\n",
        "    'tfidf__ngram_range': [(1, 1), (1, 2), (1, 3)],\n",
        "    'logreg__C': [1,2,6]\n",
        "}\n",
        "\n",
        "grid_search_tune = RandomizedSearchCV(pipeline, parameters, cv=3, n_jobs=-1, scoring='f1', verbose=3)\n",
        "grid_search_tune.fit(features_train, target_train)\n",
        "\n",
        "best_f1_score = grid_search_tune.best_score_\n",
        "print(\"Best F1 Score:\", best_f1_score)"
      ],
      "metadata": {
        "id": "xdeHu0w7Wat2",
        "outputId": "b6da94ab-e1f5-47ed-ab42-e86f40338763",
        "colab": {
          "base_uri": "https://localhost:8080/",
          "height": 895
        }
      },
      "execution_count": 27,
      "outputs": [
        {
          "output_type": "stream",
          "name": "stdout",
          "text": [
            "Fitting 3 folds for each of 10 candidates, totalling 30 fits\n"
          ]
        },
        {
          "output_type": "error",
          "ename": "ValueError",
          "evalue": "ignored",
          "traceback": [
            "\u001b[0;31m---------------------------------------------------------------------------\u001b[0m",
            "\u001b[0;31mValueError\u001b[0m                                Traceback (most recent call last)",
            "\u001b[0;32m<ipython-input-27-0733bff4d39a>\u001b[0m in \u001b[0;36m<cell line: 20>\u001b[0;34m()\u001b[0m\n\u001b[1;32m     18\u001b[0m \u001b[0;34m\u001b[0m\u001b[0m\n\u001b[1;32m     19\u001b[0m \u001b[0mgrid_search_tune\u001b[0m \u001b[0;34m=\u001b[0m \u001b[0mRandomizedSearchCV\u001b[0m\u001b[0;34m(\u001b[0m\u001b[0mpipeline\u001b[0m\u001b[0;34m,\u001b[0m \u001b[0mparameters\u001b[0m\u001b[0;34m,\u001b[0m \u001b[0mcv\u001b[0m\u001b[0;34m=\u001b[0m\u001b[0;36m3\u001b[0m\u001b[0;34m,\u001b[0m \u001b[0mn_jobs\u001b[0m\u001b[0;34m=\u001b[0m\u001b[0;34m-\u001b[0m\u001b[0;36m1\u001b[0m\u001b[0;34m,\u001b[0m \u001b[0mscoring\u001b[0m\u001b[0;34m=\u001b[0m\u001b[0;34m'f1'\u001b[0m\u001b[0;34m,\u001b[0m \u001b[0mverbose\u001b[0m\u001b[0;34m=\u001b[0m\u001b[0;36m3\u001b[0m\u001b[0;34m)\u001b[0m\u001b[0;34m\u001b[0m\u001b[0;34m\u001b[0m\u001b[0m\n\u001b[0;32m---> 20\u001b[0;31m \u001b[0mgrid_search_tune\u001b[0m\u001b[0;34m.\u001b[0m\u001b[0mfit\u001b[0m\u001b[0;34m(\u001b[0m\u001b[0mfeatures_train\u001b[0m\u001b[0;34m,\u001b[0m \u001b[0mtarget_train\u001b[0m\u001b[0;34m)\u001b[0m\u001b[0;34m\u001b[0m\u001b[0;34m\u001b[0m\u001b[0m\n\u001b[0m\u001b[1;32m     21\u001b[0m \u001b[0;34m\u001b[0m\u001b[0m\n\u001b[1;32m     22\u001b[0m \u001b[0mbest_f1_score\u001b[0m \u001b[0;34m=\u001b[0m \u001b[0mgrid_search_tune\u001b[0m\u001b[0;34m.\u001b[0m\u001b[0mbest_score_\u001b[0m\u001b[0;34m\u001b[0m\u001b[0;34m\u001b[0m\u001b[0m\n",
            "\u001b[0;32m/usr/local/lib/python3.10/dist-packages/sklearn/model_selection/_search.py\u001b[0m in \u001b[0;36mfit\u001b[0;34m(self, X, y, groups, **fit_params)\u001b[0m\n\u001b[1;32m    872\u001b[0m                 \u001b[0;32mreturn\u001b[0m \u001b[0mresults\u001b[0m\u001b[0;34m\u001b[0m\u001b[0;34m\u001b[0m\u001b[0m\n\u001b[1;32m    873\u001b[0m \u001b[0;34m\u001b[0m\u001b[0m\n\u001b[0;32m--> 874\u001b[0;31m             \u001b[0mself\u001b[0m\u001b[0;34m.\u001b[0m\u001b[0m_run_search\u001b[0m\u001b[0;34m(\u001b[0m\u001b[0mevaluate_candidates\u001b[0m\u001b[0;34m)\u001b[0m\u001b[0;34m\u001b[0m\u001b[0;34m\u001b[0m\u001b[0m\n\u001b[0m\u001b[1;32m    875\u001b[0m \u001b[0;34m\u001b[0m\u001b[0m\n\u001b[1;32m    876\u001b[0m             \u001b[0;31m# multimetric is determined here because in the case of a callable\u001b[0m\u001b[0;34m\u001b[0m\u001b[0;34m\u001b[0m\u001b[0m\n",
            "\u001b[0;32m/usr/local/lib/python3.10/dist-packages/sklearn/model_selection/_search.py\u001b[0m in \u001b[0;36m_run_search\u001b[0;34m(self, evaluate_candidates)\u001b[0m\n\u001b[1;32m   1766\u001b[0m     \u001b[0;32mdef\u001b[0m \u001b[0m_run_search\u001b[0m\u001b[0;34m(\u001b[0m\u001b[0mself\u001b[0m\u001b[0;34m,\u001b[0m \u001b[0mevaluate_candidates\u001b[0m\u001b[0;34m)\u001b[0m\u001b[0;34m:\u001b[0m\u001b[0;34m\u001b[0m\u001b[0;34m\u001b[0m\u001b[0m\n\u001b[1;32m   1767\u001b[0m         \u001b[0;34m\"\"\"Search n_iter candidates from param_distributions\"\"\"\u001b[0m\u001b[0;34m\u001b[0m\u001b[0;34m\u001b[0m\u001b[0m\n\u001b[0;32m-> 1768\u001b[0;31m         evaluate_candidates(\n\u001b[0m\u001b[1;32m   1769\u001b[0m             ParameterSampler(\n\u001b[1;32m   1770\u001b[0m                 \u001b[0mself\u001b[0m\u001b[0;34m.\u001b[0m\u001b[0mparam_distributions\u001b[0m\u001b[0;34m,\u001b[0m \u001b[0mself\u001b[0m\u001b[0;34m.\u001b[0m\u001b[0mn_iter\u001b[0m\u001b[0;34m,\u001b[0m \u001b[0mrandom_state\u001b[0m\u001b[0;34m=\u001b[0m\u001b[0mself\u001b[0m\u001b[0;34m.\u001b[0m\u001b[0mrandom_state\u001b[0m\u001b[0;34m\u001b[0m\u001b[0;34m\u001b[0m\u001b[0m\n",
            "\u001b[0;32m/usr/local/lib/python3.10/dist-packages/sklearn/model_selection/_search.py\u001b[0m in \u001b[0;36mevaluate_candidates\u001b[0;34m(candidate_params, cv, more_results)\u001b[0m\n\u001b[1;32m    849\u001b[0m                     )\n\u001b[1;32m    850\u001b[0m \u001b[0;34m\u001b[0m\u001b[0m\n\u001b[0;32m--> 851\u001b[0;31m                 \u001b[0m_warn_or_raise_about_fit_failures\u001b[0m\u001b[0;34m(\u001b[0m\u001b[0mout\u001b[0m\u001b[0;34m,\u001b[0m \u001b[0mself\u001b[0m\u001b[0;34m.\u001b[0m\u001b[0merror_score\u001b[0m\u001b[0;34m)\u001b[0m\u001b[0;34m\u001b[0m\u001b[0;34m\u001b[0m\u001b[0m\n\u001b[0m\u001b[1;32m    852\u001b[0m \u001b[0;34m\u001b[0m\u001b[0m\n\u001b[1;32m    853\u001b[0m                 \u001b[0;31m# For callable self.scoring, the return type is only know after\u001b[0m\u001b[0;34m\u001b[0m\u001b[0;34m\u001b[0m\u001b[0m\n",
            "\u001b[0;32m/usr/local/lib/python3.10/dist-packages/sklearn/model_selection/_validation.py\u001b[0m in \u001b[0;36m_warn_or_raise_about_fit_failures\u001b[0;34m(results, error_score)\u001b[0m\n\u001b[1;32m    365\u001b[0m                 \u001b[0;34mf\"Below are more details about the failures:\\n{fit_errors_summary}\"\u001b[0m\u001b[0;34m\u001b[0m\u001b[0;34m\u001b[0m\u001b[0m\n\u001b[1;32m    366\u001b[0m             )\n\u001b[0;32m--> 367\u001b[0;31m             \u001b[0;32mraise\u001b[0m \u001b[0mValueError\u001b[0m\u001b[0;34m(\u001b[0m\u001b[0mall_fits_failed_message\u001b[0m\u001b[0;34m)\u001b[0m\u001b[0;34m\u001b[0m\u001b[0;34m\u001b[0m\u001b[0m\n\u001b[0m\u001b[1;32m    368\u001b[0m \u001b[0;34m\u001b[0m\u001b[0m\n\u001b[1;32m    369\u001b[0m         \u001b[0;32melse\u001b[0m\u001b[0;34m:\u001b[0m\u001b[0;34m\u001b[0m\u001b[0;34m\u001b[0m\u001b[0m\n",
            "\u001b[0;31mValueError\u001b[0m: \nAll the 30 fits failed.\nIt is very likely that your model is misconfigured.\nYou can try to debug the error by setting error_score='raise'.\n\nBelow are more details about the failures:\n--------------------------------------------------------------------------------\n30 fits failed with the following error:\nTraceback (most recent call last):\n  File \"/usr/local/lib/python3.10/dist-packages/sklearn/model_selection/_validation.py\", line 686, in _fit_and_score\n    estimator.fit(X_train, y_train, **fit_params)\n  File \"/usr/local/lib/python3.10/dist-packages/sklearn/pipeline.py\", line 401, in fit\n    Xt = self._fit(X, y, **fit_params_steps)\n  File \"/usr/local/lib/python3.10/dist-packages/sklearn/pipeline.py\", line 359, in _fit\n    X, fitted_transformer = fit_transform_one_cached(\n  File \"/usr/local/lib/python3.10/dist-packages/joblib/memory.py\", line 353, in __call__\n    return self.func(*args, **kwargs)\n  File \"/usr/local/lib/python3.10/dist-packages/sklearn/pipeline.py\", line 893, in _fit_transform_one\n    res = transformer.fit_transform(X, y, **fit_params)\n  File \"/usr/local/lib/python3.10/dist-packages/sklearn/feature_extraction/text.py\", line 2133, in fit_transform\n    X = super().fit_transform(raw_documents)\n  File \"/usr/local/lib/python3.10/dist-packages/sklearn/feature_extraction/text.py\", line 1388, in fit_transform\n    vocabulary, X = self._count_vocab(raw_documents, self.fixed_vocabulary_)\n  File \"/usr/local/lib/python3.10/dist-packages/sklearn/feature_extraction/text.py\", line 1275, in _count_vocab\n    for feature in analyze(doc):\n  File \"/usr/local/lib/python3.10/dist-packages/sklearn/feature_extraction/text.py\", line 111, in _analyze\n    doc = preprocessor(doc)\n  File \"/usr/local/lib/python3.10/dist-packages/sklearn/feature_extraction/text.py\", line 69, in _preprocess\n    doc = doc.lower()\nAttributeError: 'csr_matrix' object has no attribute 'lower'\n"
          ]
        }
      ]
    },
    {
      "cell_type": "markdown",
      "source": [],
      "metadata": {
        "id": "yIOL4n61Wagz"
      }
    },
    {
      "cell_type": "markdown",
      "metadata": {
        "id": "MrmsCfMcJHac"
      },
      "source": [
        "<div class=\"alert alert-success\">\n",
        "<b>Комментарий ревьюера ✔️:</b> Отлично, молодец, верно используешь Tfidf.\n",
        "    \n",
        "    \n",
        "Совет: Внутри кросс-валидации происходит разбиение выборки на train и valid. Однако, в таком случае векторизатор обучен на всей выборке(train), а это не совсем корректно. Чтобы избежать это можно воспользоваться Pipeline:\n",
        "    \n",
        "```python\n",
        "pipeline = Pipeline([\n",
        "    ('tfidf', TfidfVectorizer(stop_words=stopwords)),\n",
        "    ('logreg', LogisticRegression(random_state=42)),\n",
        "])\n",
        "parameters = {\n",
        "    'tfidf__max_df': (0.25, 0.5, 0.75),\n",
        "    'tfidf__ngram_range': [(1, 1), (1, 2), (1, 3)],\n",
        "    'logreg__C': [1,2,6]\n",
        "}\n",
        "\n",
        "grid_search_tune = RandomizedSearchCV(pipeline, parameters, cv=3, n_jobs=-1, scoring='f1', verbose=3)\n",
        "grid_search_tune.fit(train_features, train_targets)\n",
        "  \n",
        "    \n",
        "```\n",
        "    \n",
        "Это просто каркас, можешь сам выбрать какие параметры использовать для подбора:)\n",
        "    \n",
        "+  https://runebook.dev/ru/docs/scikit_learn/modules/generated/sklearn.model_selection.halvinggridsearchcv - тут про HalvingGridSearchCV\n",
        "    \n",
        "+  https://www.rupython.com/python-sklearn-pipeline-pipeline-28301.html - про pipeline\n",
        "+  https://towardsdatascience.com/how-to-use-sklearn-pipelines-for-ridiculously-neat-code-a61ab66ca90d\n",
        "\n",
        "</div>"
      ]
    },
    {
      "cell_type": "markdown",
      "metadata": {
        "id": "QyFeEOqkJHac"
      },
      "source": [
        "<div class=\"alert alert-info\"> <b>Комментарий студента:</b> Спасибо, про пайплайны почитаю, слышал о них, но ранее не использовал. По поводу обучения на всем трейне, в который включается валидационная часть - абсолютно согласен. Имеет ли смысл использовать тогда просто разбиение на отдельно трейн и валид выборки, если не хотим использовать пайплайн для получения более \"честного\" результата? </div>"
      ]
    },
    {
      "cell_type": "markdown",
      "metadata": {
        "id": "1ICrbuHbJHac"
      },
      "source": [
        "<div class=\"alert alert-success\">\n",
        "<b>Комментарий ревьюера V2✔️:</b> Имеешь ввиду, что если хочешь отказаться от pipeline, но при этом делать на три выборки, чтобы после кросс валидации еще и провалидироваться? Это не имеет смысла, так как валидационная выборка будет выступать в роли теста по сути (мы два раза проведем тест) + жалко данные(которые почти никак не используются) + кросс валидации гораздо более показательна, так как мы берем среднее\n",
        "    \n",
        "    \n",
        "+  https://academy.yandex.ru/handbook/ml/article/kross-validaciya\n",
        "+  https://academy.yandex.ru/handbook/ml/article/podbor-giperparametrov\n",
        "</div>"
      ]
    },
    {
      "cell_type": "markdown",
      "metadata": {
        "id": "OzOZUMPJJHac"
      },
      "source": [
        "## Обучение"
      ]
    },
    {
      "cell_type": "markdown",
      "metadata": {
        "id": "n1KqH8PwJHac"
      },
      "source": [
        "### Модель классификатор решающего дерева"
      ]
    },
    {
      "cell_type": "markdown",
      "metadata": {
        "id": "brxgDsdZJHac"
      },
      "source": [
        "**Будем использовать GridSearchCV со встроенной кросс-валидацией для поиска наилучшего результата метрики f1, которую мы используем в качестве оценки нашей модели по условию задачи.**"
      ]
    },
    {
      "cell_type": "code",
      "execution_count": 29,
      "metadata": {
        "id": "yyrlosSyJHac",
        "outputId": "fbfdeac4-5e3a-42d4-d832-1892674644d5",
        "colab": {
          "base_uri": "https://localhost:8080/"
        }
      },
      "outputs": [
        {
          "output_type": "stream",
          "name": "stdout",
          "text": [
            "CPU times: user 59.6 s, sys: 217 ms, total: 59.8 s\n",
            "Wall time: 1min\n"
          ]
        },
        {
          "output_type": "execute_result",
          "data": {
            "text/plain": [
              "{'criterion': 'gini', 'max_depth': 7}"
            ]
          },
          "metadata": {},
          "execution_count": 29
        }
      ],
      "source": [
        "%%time\n",
        "model_tree = DecisionTreeClassifier(random_state=1)\n",
        "param = {\n",
        "         'criterion': ['gini', 'entropy'],\n",
        "         'max_depth': range(1, 10, 3)\n",
        "        }\n",
        "gridsearch_tree = GridSearchCV(\n",
        "    estimator=model_tree,\n",
        "    param_grid=param,\n",
        "    scoring='f1',\n",
        "    cv=3)\n",
        "gridsearch_tree.fit(features_train, target_train)\n",
        "gridsearch_tree.best_params_"
      ]
    },
    {
      "cell_type": "markdown",
      "metadata": {
        "id": "Qlo9oSX9JHac"
      },
      "source": [
        "**Посмотрим теперь, какой наилучший результат метрики f1 удалось достигнуть данной моделью.**"
      ]
    },
    {
      "cell_type": "code",
      "execution_count": 30,
      "metadata": {
        "id": "SAcJHT4JJHad",
        "outputId": "b66bd6a6-a861-40c1-ead7-f977301c1a41",
        "colab": {
          "base_uri": "https://localhost:8080/"
        }
      },
      "outputs": [
        {
          "output_type": "execute_result",
          "data": {
            "text/plain": [
              "0.559"
            ]
          },
          "metadata": {},
          "execution_count": 30
        }
      ],
      "source": [
        "f1_train_tree = round(gridsearch_tree.best_score_, 3)\n",
        "f1_train_tree"
      ]
    },
    {
      "cell_type": "markdown",
      "metadata": {
        "id": "Pf0xQPKKJHad"
      },
      "source": [
        "### Модель классификатор CatBoost"
      ]
    },
    {
      "cell_type": "markdown",
      "metadata": {
        "id": "PsKps4cSJHad"
      },
      "source": [
        "**Будем использовать GridSearchCV со встроенной кросс-валидацией для поиска наилучшего результата метрики f1, которую мы используем в качестве оценки нашей модели по условию задачи. Выведем это значение метрики f1.**"
      ]
    },
    {
      "cell_type": "code",
      "execution_count": 32,
      "metadata": {
        "id": "CniFxmyGJHad",
        "outputId": "754e596a-06eb-4202-9840-793a0020b05f",
        "colab": {
          "base_uri": "https://localhost:8080/",
          "height": 487
        }
      },
      "outputs": [
        {
          "output_type": "error",
          "ename": "KeyboardInterrupt",
          "evalue": "ignored",
          "traceback": [
            "\u001b[0;31m---------------------------------------------------------------------------\u001b[0m",
            "\u001b[0;31mKeyboardInterrupt\u001b[0m                         Traceback (most recent call last)",
            "\u001b[0;32m<timed exec>\u001b[0m in \u001b[0;36m<module>\u001b[0;34m\u001b[0m\n",
            "\u001b[0;32m/usr/local/lib/python3.10/dist-packages/sklearn/model_selection/_search.py\u001b[0m in \u001b[0;36mfit\u001b[0;34m(self, X, y, groups, **fit_params)\u001b[0m\n\u001b[1;32m    872\u001b[0m                 \u001b[0;32mreturn\u001b[0m \u001b[0mresults\u001b[0m\u001b[0;34m\u001b[0m\u001b[0;34m\u001b[0m\u001b[0m\n\u001b[1;32m    873\u001b[0m \u001b[0;34m\u001b[0m\u001b[0m\n\u001b[0;32m--> 874\u001b[0;31m             \u001b[0mself\u001b[0m\u001b[0;34m.\u001b[0m\u001b[0m_run_search\u001b[0m\u001b[0;34m(\u001b[0m\u001b[0mevaluate_candidates\u001b[0m\u001b[0;34m)\u001b[0m\u001b[0;34m\u001b[0m\u001b[0;34m\u001b[0m\u001b[0m\n\u001b[0m\u001b[1;32m    875\u001b[0m \u001b[0;34m\u001b[0m\u001b[0m\n\u001b[1;32m    876\u001b[0m             \u001b[0;31m# multimetric is determined here because in the case of a callable\u001b[0m\u001b[0;34m\u001b[0m\u001b[0;34m\u001b[0m\u001b[0m\n",
            "\u001b[0;32m/usr/local/lib/python3.10/dist-packages/sklearn/model_selection/_search.py\u001b[0m in \u001b[0;36m_run_search\u001b[0;34m(self, evaluate_candidates)\u001b[0m\n\u001b[1;32m   1386\u001b[0m     \u001b[0;32mdef\u001b[0m \u001b[0m_run_search\u001b[0m\u001b[0;34m(\u001b[0m\u001b[0mself\u001b[0m\u001b[0;34m,\u001b[0m \u001b[0mevaluate_candidates\u001b[0m\u001b[0;34m)\u001b[0m\u001b[0;34m:\u001b[0m\u001b[0;34m\u001b[0m\u001b[0;34m\u001b[0m\u001b[0m\n\u001b[1;32m   1387\u001b[0m         \u001b[0;34m\"\"\"Search all candidates in param_grid\"\"\"\u001b[0m\u001b[0;34m\u001b[0m\u001b[0;34m\u001b[0m\u001b[0m\n\u001b[0;32m-> 1388\u001b[0;31m         \u001b[0mevaluate_candidates\u001b[0m\u001b[0;34m(\u001b[0m\u001b[0mParameterGrid\u001b[0m\u001b[0;34m(\u001b[0m\u001b[0mself\u001b[0m\u001b[0;34m.\u001b[0m\u001b[0mparam_grid\u001b[0m\u001b[0;34m)\u001b[0m\u001b[0;34m)\u001b[0m\u001b[0;34m\u001b[0m\u001b[0;34m\u001b[0m\u001b[0m\n\u001b[0m\u001b[1;32m   1389\u001b[0m \u001b[0;34m\u001b[0m\u001b[0m\n\u001b[1;32m   1390\u001b[0m \u001b[0;34m\u001b[0m\u001b[0m\n",
            "\u001b[0;32m/usr/local/lib/python3.10/dist-packages/sklearn/model_selection/_search.py\u001b[0m in \u001b[0;36mevaluate_candidates\u001b[0;34m(candidate_params, cv, more_results)\u001b[0m\n\u001b[1;32m    819\u001b[0m                     )\n\u001b[1;32m    820\u001b[0m \u001b[0;34m\u001b[0m\u001b[0m\n\u001b[0;32m--> 821\u001b[0;31m                 out = parallel(\n\u001b[0m\u001b[1;32m    822\u001b[0m                     delayed(_fit_and_score)(\n\u001b[1;32m    823\u001b[0m                         \u001b[0mclone\u001b[0m\u001b[0;34m(\u001b[0m\u001b[0mbase_estimator\u001b[0m\u001b[0;34m)\u001b[0m\u001b[0;34m,\u001b[0m\u001b[0;34m\u001b[0m\u001b[0;34m\u001b[0m\u001b[0m\n",
            "\u001b[0;32m/usr/local/lib/python3.10/dist-packages/sklearn/utils/parallel.py\u001b[0m in \u001b[0;36m__call__\u001b[0;34m(self, iterable)\u001b[0m\n\u001b[1;32m     61\u001b[0m             \u001b[0;32mfor\u001b[0m \u001b[0mdelayed_func\u001b[0m\u001b[0;34m,\u001b[0m \u001b[0margs\u001b[0m\u001b[0;34m,\u001b[0m \u001b[0mkwargs\u001b[0m \u001b[0;32min\u001b[0m \u001b[0miterable\u001b[0m\u001b[0;34m\u001b[0m\u001b[0;34m\u001b[0m\u001b[0m\n\u001b[1;32m     62\u001b[0m         )\n\u001b[0;32m---> 63\u001b[0;31m         \u001b[0;32mreturn\u001b[0m \u001b[0msuper\u001b[0m\u001b[0;34m(\u001b[0m\u001b[0;34m)\u001b[0m\u001b[0;34m.\u001b[0m\u001b[0m__call__\u001b[0m\u001b[0;34m(\u001b[0m\u001b[0miterable_with_config\u001b[0m\u001b[0;34m)\u001b[0m\u001b[0;34m\u001b[0m\u001b[0;34m\u001b[0m\u001b[0m\n\u001b[0m\u001b[1;32m     64\u001b[0m \u001b[0;34m\u001b[0m\u001b[0m\n\u001b[1;32m     65\u001b[0m \u001b[0;34m\u001b[0m\u001b[0m\n",
            "\u001b[0;32m/usr/local/lib/python3.10/dist-packages/joblib/parallel.py\u001b[0m in \u001b[0;36m__call__\u001b[0;34m(self, iterable)\u001b[0m\n\u001b[1;32m   1861\u001b[0m             \u001b[0moutput\u001b[0m \u001b[0;34m=\u001b[0m \u001b[0mself\u001b[0m\u001b[0;34m.\u001b[0m\u001b[0m_get_sequential_output\u001b[0m\u001b[0;34m(\u001b[0m\u001b[0miterable\u001b[0m\u001b[0;34m)\u001b[0m\u001b[0;34m\u001b[0m\u001b[0;34m\u001b[0m\u001b[0m\n\u001b[1;32m   1862\u001b[0m             \u001b[0mnext\u001b[0m\u001b[0;34m(\u001b[0m\u001b[0moutput\u001b[0m\u001b[0;34m)\u001b[0m\u001b[0;34m\u001b[0m\u001b[0;34m\u001b[0m\u001b[0m\n\u001b[0;32m-> 1863\u001b[0;31m             \u001b[0;32mreturn\u001b[0m \u001b[0moutput\u001b[0m \u001b[0;32mif\u001b[0m \u001b[0mself\u001b[0m\u001b[0;34m.\u001b[0m\u001b[0mreturn_generator\u001b[0m \u001b[0;32melse\u001b[0m \u001b[0mlist\u001b[0m\u001b[0;34m(\u001b[0m\u001b[0moutput\u001b[0m\u001b[0;34m)\u001b[0m\u001b[0;34m\u001b[0m\u001b[0;34m\u001b[0m\u001b[0m\n\u001b[0m\u001b[1;32m   1864\u001b[0m \u001b[0;34m\u001b[0m\u001b[0m\n\u001b[1;32m   1865\u001b[0m         \u001b[0;31m# Let's create an ID that uniquely identifies the current call. If the\u001b[0m\u001b[0;34m\u001b[0m\u001b[0;34m\u001b[0m\u001b[0m\n",
            "\u001b[0;32m/usr/local/lib/python3.10/dist-packages/joblib/parallel.py\u001b[0m in \u001b[0;36m_get_sequential_output\u001b[0;34m(self, iterable)\u001b[0m\n\u001b[1;32m   1790\u001b[0m                 \u001b[0mself\u001b[0m\u001b[0;34m.\u001b[0m\u001b[0mn_dispatched_batches\u001b[0m \u001b[0;34m+=\u001b[0m \u001b[0;36m1\u001b[0m\u001b[0;34m\u001b[0m\u001b[0;34m\u001b[0m\u001b[0m\n\u001b[1;32m   1791\u001b[0m                 \u001b[0mself\u001b[0m\u001b[0;34m.\u001b[0m\u001b[0mn_dispatched_tasks\u001b[0m \u001b[0;34m+=\u001b[0m \u001b[0;36m1\u001b[0m\u001b[0;34m\u001b[0m\u001b[0;34m\u001b[0m\u001b[0m\n\u001b[0;32m-> 1792\u001b[0;31m                 \u001b[0mres\u001b[0m \u001b[0;34m=\u001b[0m \u001b[0mfunc\u001b[0m\u001b[0;34m(\u001b[0m\u001b[0;34m*\u001b[0m\u001b[0margs\u001b[0m\u001b[0;34m,\u001b[0m \u001b[0;34m**\u001b[0m\u001b[0mkwargs\u001b[0m\u001b[0;34m)\u001b[0m\u001b[0;34m\u001b[0m\u001b[0;34m\u001b[0m\u001b[0m\n\u001b[0m\u001b[1;32m   1793\u001b[0m                 \u001b[0mself\u001b[0m\u001b[0;34m.\u001b[0m\u001b[0mn_completed_tasks\u001b[0m \u001b[0;34m+=\u001b[0m \u001b[0;36m1\u001b[0m\u001b[0;34m\u001b[0m\u001b[0;34m\u001b[0m\u001b[0m\n\u001b[1;32m   1794\u001b[0m                 \u001b[0mself\u001b[0m\u001b[0;34m.\u001b[0m\u001b[0mprint_progress\u001b[0m\u001b[0;34m(\u001b[0m\u001b[0;34m)\u001b[0m\u001b[0;34m\u001b[0m\u001b[0;34m\u001b[0m\u001b[0m\n",
            "\u001b[0;32m/usr/local/lib/python3.10/dist-packages/sklearn/utils/parallel.py\u001b[0m in \u001b[0;36m__call__\u001b[0;34m(self, *args, **kwargs)\u001b[0m\n\u001b[1;32m    121\u001b[0m             \u001b[0mconfig\u001b[0m \u001b[0;34m=\u001b[0m \u001b[0;34m{\u001b[0m\u001b[0;34m}\u001b[0m\u001b[0;34m\u001b[0m\u001b[0;34m\u001b[0m\u001b[0m\n\u001b[1;32m    122\u001b[0m         \u001b[0;32mwith\u001b[0m \u001b[0mconfig_context\u001b[0m\u001b[0;34m(\u001b[0m\u001b[0;34m**\u001b[0m\u001b[0mconfig\u001b[0m\u001b[0;34m)\u001b[0m\u001b[0;34m:\u001b[0m\u001b[0;34m\u001b[0m\u001b[0;34m\u001b[0m\u001b[0m\n\u001b[0;32m--> 123\u001b[0;31m             \u001b[0;32mreturn\u001b[0m \u001b[0mself\u001b[0m\u001b[0;34m.\u001b[0m\u001b[0mfunction\u001b[0m\u001b[0;34m(\u001b[0m\u001b[0;34m*\u001b[0m\u001b[0margs\u001b[0m\u001b[0;34m,\u001b[0m \u001b[0;34m**\u001b[0m\u001b[0mkwargs\u001b[0m\u001b[0;34m)\u001b[0m\u001b[0;34m\u001b[0m\u001b[0;34m\u001b[0m\u001b[0m\n\u001b[0m",
            "\u001b[0;32m/usr/local/lib/python3.10/dist-packages/sklearn/model_selection/_validation.py\u001b[0m in \u001b[0;36m_fit_and_score\u001b[0;34m(estimator, X, y, scorer, train, test, verbose, parameters, fit_params, return_train_score, return_parameters, return_n_test_samples, return_times, return_estimator, split_progress, candidate_progress, error_score)\u001b[0m\n\u001b[1;32m    684\u001b[0m             \u001b[0mestimator\u001b[0m\u001b[0;34m.\u001b[0m\u001b[0mfit\u001b[0m\u001b[0;34m(\u001b[0m\u001b[0mX_train\u001b[0m\u001b[0;34m,\u001b[0m \u001b[0;34m**\u001b[0m\u001b[0mfit_params\u001b[0m\u001b[0;34m)\u001b[0m\u001b[0;34m\u001b[0m\u001b[0;34m\u001b[0m\u001b[0m\n\u001b[1;32m    685\u001b[0m         \u001b[0;32melse\u001b[0m\u001b[0;34m:\u001b[0m\u001b[0;34m\u001b[0m\u001b[0;34m\u001b[0m\u001b[0m\n\u001b[0;32m--> 686\u001b[0;31m             \u001b[0mestimator\u001b[0m\u001b[0;34m.\u001b[0m\u001b[0mfit\u001b[0m\u001b[0;34m(\u001b[0m\u001b[0mX_train\u001b[0m\u001b[0;34m,\u001b[0m \u001b[0my_train\u001b[0m\u001b[0;34m,\u001b[0m \u001b[0;34m**\u001b[0m\u001b[0mfit_params\u001b[0m\u001b[0;34m)\u001b[0m\u001b[0;34m\u001b[0m\u001b[0;34m\u001b[0m\u001b[0m\n\u001b[0m\u001b[1;32m    687\u001b[0m \u001b[0;34m\u001b[0m\u001b[0m\n\u001b[1;32m    688\u001b[0m     \u001b[0;32mexcept\u001b[0m \u001b[0mException\u001b[0m\u001b[0;34m:\u001b[0m\u001b[0;34m\u001b[0m\u001b[0;34m\u001b[0m\u001b[0m\n",
            "\u001b[0;32m/usr/local/lib/python3.10/dist-packages/catboost/core.py\u001b[0m in \u001b[0;36mfit\u001b[0;34m(self, X, y, cat_features, text_features, embedding_features, sample_weight, baseline, use_best_model, eval_set, verbose, logging_level, plot, plot_file, column_description, verbose_eval, metric_period, silent, early_stopping_rounds, save_snapshot, snapshot_file, snapshot_interval, init_model, callbacks, log_cout, log_cerr)\u001b[0m\n\u001b[1;32m   5098\u001b[0m             \u001b[0mCatBoostClassifier\u001b[0m\u001b[0;34m.\u001b[0m\u001b[0m_check_is_compatible_loss\u001b[0m\u001b[0;34m(\u001b[0m\u001b[0mparams\u001b[0m\u001b[0;34m[\u001b[0m\u001b[0;34m'loss_function'\u001b[0m\u001b[0;34m]\u001b[0m\u001b[0;34m)\u001b[0m\u001b[0;34m\u001b[0m\u001b[0;34m\u001b[0m\u001b[0m\n\u001b[1;32m   5099\u001b[0m \u001b[0;34m\u001b[0m\u001b[0m\n\u001b[0;32m-> 5100\u001b[0;31m         self._fit(X, y, cat_features, text_features, embedding_features, None, sample_weight, None, None, None, None, baseline, use_best_model,\n\u001b[0m\u001b[1;32m   5101\u001b[0m                   \u001b[0meval_set\u001b[0m\u001b[0;34m,\u001b[0m \u001b[0mverbose\u001b[0m\u001b[0;34m,\u001b[0m \u001b[0mlogging_level\u001b[0m\u001b[0;34m,\u001b[0m \u001b[0mplot\u001b[0m\u001b[0;34m,\u001b[0m \u001b[0mplot_file\u001b[0m\u001b[0;34m,\u001b[0m \u001b[0mcolumn_description\u001b[0m\u001b[0;34m,\u001b[0m \u001b[0mverbose_eval\u001b[0m\u001b[0;34m,\u001b[0m \u001b[0mmetric_period\u001b[0m\u001b[0;34m,\u001b[0m\u001b[0;34m\u001b[0m\u001b[0;34m\u001b[0m\u001b[0m\n\u001b[1;32m   5102\u001b[0m                   silent, early_stopping_rounds, save_snapshot, snapshot_file, snapshot_interval, init_model, callbacks, log_cout, log_cerr)\n",
            "\u001b[0;32m/usr/local/lib/python3.10/dist-packages/catboost/core.py\u001b[0m in \u001b[0;36m_fit\u001b[0;34m(self, X, y, cat_features, text_features, embedding_features, pairs, sample_weight, group_id, group_weight, subgroup_id, pairs_weight, baseline, use_best_model, eval_set, verbose, logging_level, plot, plot_file, column_description, verbose_eval, metric_period, silent, early_stopping_rounds, save_snapshot, snapshot_file, snapshot_interval, init_model, callbacks, log_cout, log_cerr)\u001b[0m\n\u001b[1;32m   2317\u001b[0m         \u001b[0;32mwith\u001b[0m \u001b[0mlog_fixup\u001b[0m\u001b[0;34m(\u001b[0m\u001b[0mlog_cout\u001b[0m\u001b[0;34m,\u001b[0m \u001b[0mlog_cerr\u001b[0m\u001b[0;34m)\u001b[0m\u001b[0;34m,\u001b[0m\u001b[0;31m \u001b[0m\u001b[0;31m\\\u001b[0m\u001b[0;34m\u001b[0m\u001b[0;34m\u001b[0m\u001b[0m\n\u001b[1;32m   2318\u001b[0m             \u001b[0mplot_wrapper\u001b[0m\u001b[0;34m(\u001b[0m\u001b[0mplot\u001b[0m\u001b[0;34m,\u001b[0m \u001b[0mplot_file\u001b[0m\u001b[0;34m,\u001b[0m \u001b[0;34m'Training plots'\u001b[0m\u001b[0;34m,\u001b[0m \u001b[0;34m[\u001b[0m\u001b[0m_get_train_dir\u001b[0m\u001b[0;34m(\u001b[0m\u001b[0mself\u001b[0m\u001b[0;34m.\u001b[0m\u001b[0mget_params\u001b[0m\u001b[0;34m(\u001b[0m\u001b[0;34m)\u001b[0m\u001b[0;34m)\u001b[0m\u001b[0;34m]\u001b[0m\u001b[0;34m)\u001b[0m\u001b[0;34m:\u001b[0m\u001b[0;34m\u001b[0m\u001b[0;34m\u001b[0m\u001b[0m\n\u001b[0;32m-> 2319\u001b[0;31m             self._train(\n\u001b[0m\u001b[1;32m   2320\u001b[0m                 \u001b[0mtrain_pool\u001b[0m\u001b[0;34m,\u001b[0m\u001b[0;34m\u001b[0m\u001b[0;34m\u001b[0m\u001b[0m\n\u001b[1;32m   2321\u001b[0m                 \u001b[0mtrain_params\u001b[0m\u001b[0;34m[\u001b[0m\u001b[0;34m\"eval_sets\"\u001b[0m\u001b[0;34m]\u001b[0m\u001b[0;34m,\u001b[0m\u001b[0;34m\u001b[0m\u001b[0;34m\u001b[0m\u001b[0m\n",
            "\u001b[0;32m/usr/local/lib/python3.10/dist-packages/catboost/core.py\u001b[0m in \u001b[0;36m_train\u001b[0;34m(self, train_pool, test_pool, params, allow_clear_pool, init_model)\u001b[0m\n\u001b[1;32m   1721\u001b[0m \u001b[0;34m\u001b[0m\u001b[0m\n\u001b[1;32m   1722\u001b[0m     \u001b[0;32mdef\u001b[0m \u001b[0m_train\u001b[0m\u001b[0;34m(\u001b[0m\u001b[0mself\u001b[0m\u001b[0;34m,\u001b[0m \u001b[0mtrain_pool\u001b[0m\u001b[0;34m,\u001b[0m \u001b[0mtest_pool\u001b[0m\u001b[0;34m,\u001b[0m \u001b[0mparams\u001b[0m\u001b[0;34m,\u001b[0m \u001b[0mallow_clear_pool\u001b[0m\u001b[0;34m,\u001b[0m \u001b[0minit_model\u001b[0m\u001b[0;34m)\u001b[0m\u001b[0;34m:\u001b[0m\u001b[0;34m\u001b[0m\u001b[0;34m\u001b[0m\u001b[0m\n\u001b[0;32m-> 1723\u001b[0;31m         \u001b[0mself\u001b[0m\u001b[0;34m.\u001b[0m\u001b[0m_object\u001b[0m\u001b[0;34m.\u001b[0m\u001b[0m_train\u001b[0m\u001b[0;34m(\u001b[0m\u001b[0mtrain_pool\u001b[0m\u001b[0;34m,\u001b[0m \u001b[0mtest_pool\u001b[0m\u001b[0;34m,\u001b[0m \u001b[0mparams\u001b[0m\u001b[0;34m,\u001b[0m \u001b[0mallow_clear_pool\u001b[0m\u001b[0;34m,\u001b[0m \u001b[0minit_model\u001b[0m\u001b[0;34m.\u001b[0m\u001b[0m_object\u001b[0m \u001b[0;32mif\u001b[0m \u001b[0minit_model\u001b[0m \u001b[0;32melse\u001b[0m \u001b[0;32mNone\u001b[0m\u001b[0;34m)\u001b[0m\u001b[0;34m\u001b[0m\u001b[0;34m\u001b[0m\u001b[0m\n\u001b[0m\u001b[1;32m   1724\u001b[0m         \u001b[0mself\u001b[0m\u001b[0;34m.\u001b[0m\u001b[0m_set_trained_model_attributes\u001b[0m\u001b[0;34m(\u001b[0m\u001b[0;34m)\u001b[0m\u001b[0;34m\u001b[0m\u001b[0;34m\u001b[0m\u001b[0m\n\u001b[1;32m   1725\u001b[0m \u001b[0;34m\u001b[0m\u001b[0m\n",
            "\u001b[0;32m_catboost.pyx\u001b[0m in \u001b[0;36m_catboost._CatBoost._train\u001b[0;34m()\u001b[0m\n",
            "\u001b[0;32m_catboost.pyx\u001b[0m in \u001b[0;36m_catboost._CatBoost._train\u001b[0;34m()\u001b[0m\n",
            "\u001b[0;31mKeyboardInterrupt\u001b[0m: "
          ]
        }
      ],
      "source": [
        "%%time\n",
        "model = CatBoostClassifier(silent=True, random_state=1)\n",
        "param = {}\n",
        "gridsearch_cat = GridSearchCV(\n",
        "    estimator=model,\n",
        "    param_grid=param,\n",
        "    scoring='f1',\n",
        "    cv=3)\n",
        "gridsearch.fit(features_train, target_train)"
      ]
    },
    {
      "cell_type": "markdown",
      "metadata": {
        "id": "SMK0oz7QJHad"
      },
      "source": [
        "<div class=\"alert alert-success\">\n",
        "<b>Комментарий ревьюера ✔️:</b> Для Catboost будет лучше на самом деле воспользовать внутренним кодированием:\n",
        "    \n",
        "    \n",
        "+  https://colab.research.google.com/drive/1bQOXIKpeyGZgda2qQqDijE2SIbSGX7-Z?usp=sharing    \n",
        "</div>"
      ]
    },
    {
      "cell_type": "markdown",
      "metadata": {
        "id": "R_S3c5elJHad"
      },
      "source": [
        "<div class=\"alert alert-info\"> <b>Комментарий студента:</b> Имеешь в виду грузить сразу \"сырой\" текст в него? Или всё-таки необходимо его сначала очистить от спец-символов и стоп-слов?\n",
        "\n",
        "Насколько кстати имеет смысл делать gridsearchCV для CatBoost'a с точки зрения подбора гиперпараметров? Слышал, что данная модель при жонглировании гиперпараметрами позволяет лишь чуть улучшить метрику, что справедливо для всяких кагловских соревнований только. Так ли это по твоему опыту?</div>"
      ]
    },
    {
      "cell_type": "markdown",
      "metadata": {
        "id": "qCCpH2KkJHad"
      },
      "source": [
        "<div class=\"alert alert-success\">\n",
        "<b>Комментарий ревьюера V2✔️:</b> Можно поэксперементировать, загрузить сырой или обработать\n",
        "    \n",
        "    \n",
        "Да, в приницпе CatBoost работает из коробки уже хорошо, единственное стоит подобрать learning rate и кол-во итераций (чтобы модель точно сошлась)\n",
        "</div>"
      ]
    },
    {
      "cell_type": "markdown",
      "metadata": {
        "id": "Q2DjQ3RHJHad"
      },
      "source": [
        "<div class=\"alert alert-success\">\n",
        "<b>Комментарий ревьюера ✔️:</b> Можешь воспользоваться кросс валидацией cross_val_score</div>"
      ]
    },
    {
      "cell_type": "markdown",
      "metadata": {
        "id": "pbcjsfOIJHae"
      },
      "source": [
        "## Анализ моделей"
      ]
    },
    {
      "cell_type": "markdown",
      "metadata": {
        "id": "W_p4HHGjJHae"
      },
      "source": [
        "**Лучше из данных двух моделей проявила себя модель CatBoost. Проверим теперь, какой результат метрики f1 данная модель покажет на тестовой выборке.**"
      ]
    },
    {
      "cell_type": "code",
      "execution_count": null,
      "metadata": {
        "id": "Zay5uEyCJHae",
        "outputId": "c21fcad0-e94d-4379-f386-73e255cc887f"
      },
      "outputs": [
        {
          "name": "stdout",
          "output_type": "stream",
          "text": [
            "CPU times: user 188 ms, sys: 8.69 ms, total: 197 ms\n",
            "Wall time: 77 ms\n"
          ]
        },
        {
          "data": {
            "text/plain": [
              "0.7565011820330969"
            ]
          },
          "execution_count": 62,
          "metadata": {},
          "output_type": "execute_result"
        }
      ],
      "source": [
        "%%time\n",
        "predictions_test = gridsearch.best_estimator_.predict(features_test)\n",
        "f1_test = f1_score(target_test, predictions_test)\n",
        "f1_test"
      ]
    },
    {
      "cell_type": "markdown",
      "metadata": {
        "id": "-oUmhAvxJHae"
      },
      "source": [
        "**Удалось получить на тестовой выборке значение метрики f1 выше 0.75, что удовлетворяет исходной задаче.**"
      ]
    },
    {
      "cell_type": "markdown",
      "metadata": {
        "id": "TEGvTgCqJHae"
      },
      "source": [
        "## Проверка моделей на адекватность"
      ]
    },
    {
      "cell_type": "markdown",
      "metadata": {
        "id": "JLwNaCXrJHae"
      },
      "source": [
        "**Проверим модель на адекватность с помощью Dummy Model из класса sklearn, предварительно импортировав ее в первом пункте.**\n",
        "\n",
        "**Проверка состоит в том, чтобы качество выбранной выше обученной модели было выше, чем качество модели Dummy, которая предсказывает результат не опираясь на признаки тренировочной выборки.**"
      ]
    },
    {
      "cell_type": "code",
      "execution_count": null,
      "metadata": {
        "id": "2fz_hXZOJHaf",
        "outputId": "9eaa83cb-e1e3-49b7-b667-84fd07011daf"
      },
      "outputs": [
        {
          "name": "stdout",
          "output_type": "stream",
          "text": [
            "Лучшее значение метрики f1 для Dummy-модели на тренировочной выборке = 0.16992010542788896\n"
          ]
        }
      ],
      "source": [
        "model_dummy = DummyClassifier(random_state=10)\n",
        "parameters_dummy = {'strategy':['most_frequent', 'prior', 'stratified', 'uniform'],\n",
        "                   }\n",
        "gridsearch_dummy = GridSearchCV(\n",
        "    estimator=model_dummy,\n",
        "    param_grid=parameters_dummy,\n",
        "    scoring='f1',\n",
        "    cv=3, n_jobs=-1)\n",
        "gridsearch_dummy.fit(features_train, target_train)\n",
        "print('Лучшее значение метрики f1 для Dummy-модели на тренировочной выборке =', gridsearch_dummy.best_score_)"
      ]
    },
    {
      "cell_type": "code",
      "execution_count": null,
      "metadata": {
        "id": "6VfcjBNZJHaf",
        "outputId": "8dec83d9-17b5-4427-e4e0-dbc3e635f49a"
      },
      "outputs": [
        {
          "name": "stdout",
          "output_type": "stream",
          "text": [
            "Лучшее значение метрики f1 для Dummy-модели на тестовой выборке = 0.15450785773366418\n"
          ]
        }
      ],
      "source": [
        "predict_dummy = gridsearch_dummy.best_estimator_.predict(features_test)\n",
        "print('Лучшее значение метрики f1 для Dummy-модели на тестовой выборке =', f1_score(target_test, predict_dummy))"
      ]
    },
    {
      "cell_type": "markdown",
      "metadata": {
        "id": "Bx_loVAPJHaf"
      },
      "source": [
        "## Выводы"
      ]
    },
    {
      "cell_type": "markdown",
      "metadata": {
        "id": "MH42nFq6JHaf"
      },
      "source": [
        "**В итоге с помощью Dummy модели удалось получить наилучшее качество модели с f1 равным 0.16 на тестовой выборке, что значительно ниже наилучшего результата выбранной и обученной модели CatBoost. Что доказывает адекватность найденной и выбранной нами модели.**"
      ]
    },
    {
      "cell_type": "markdown",
      "metadata": {
        "id": "7MzBbSYVJHaf"
      },
      "source": [
        "<div class=\"alert alert-success\">\n",
        "<b>Комментарий ревьюера ✔️:</b>\n",
        "\n",
        "Для работы с текстами используют и другие подходы. Например, сейчас активно используются RNN (LSTM) и трансформеры (BERT и другие с улицы Сезам, например, ELMO). НО! Они не являются панацеей, не всегда они нужны, так как и TF-IDF или Word2Vec + модели из классического ML тоже могут справляться. \\\n",
        "BERT тяжелый, существует много его вариаций для разных задач, есть готовые модели, есть надстройки над библиотекой transformers. Если, обучать BERT на GPU (можно в Google Colab или Kaggle), то должно быть побыстрее.\\\n",
        "https://huggingface.co/transformers/model_doc/bert.html \\\n",
        "https://t.me/renat_alimbekov \\\n",
        "https://colah.github.io/posts/2015-08-Understanding-LSTMs/ - Про LSTM \\\n",
        "https://web.stanford.edu/~jurafsky/slp3/10.pdf - про энкодер-декодер модели, этеншены\\\n",
        "https://pytorch.org/tutorials/beginner/transformer_tutorial.html - официальный гайд\n",
        "по трансформеру от создателей pytorch\\\n",
        "https://transformer.huggingface.co/ - поболтать с трансформером \\\n",
        "Библиотеки: allennlp, fairseq, transformers, tensorflow-text — множество реализованных\n",
        "методов для трансформеров методов NLP \\\n",
        "Word2Vec https://radimrehurek.com/gensim/models/word2vec.html\n",
        "    \n",
        "</div>"
      ]
    }
  ],
  "metadata": {
    "ExecuteTimeLog": [
      {
        "duration": 3563,
        "start_time": "2023-03-31T22:01:11.694Z"
      },
      {
        "duration": 21,
        "start_time": "2023-03-31T22:01:36.413Z"
      },
      {
        "duration": 8,
        "start_time": "2023-03-31T22:02:45.400Z"
      },
      {
        "duration": 7,
        "start_time": "2023-03-31T22:04:32.715Z"
      },
      {
        "duration": 10,
        "start_time": "2023-03-31T22:05:21.387Z"
      },
      {
        "duration": 1099,
        "start_time": "2023-03-31T22:10:16.966Z"
      },
      {
        "duration": 1592,
        "start_time": "2023-04-01T10:06:03.484Z"
      },
      {
        "duration": 3380,
        "start_time": "2023-04-01T10:06:06.164Z"
      },
      {
        "duration": 14,
        "start_time": "2023-04-01T10:06:12.222Z"
      },
      {
        "duration": 147,
        "start_time": "2023-04-01T10:06:41.265Z"
      },
      {
        "duration": 15,
        "start_time": "2023-04-01T10:06:53.865Z"
      },
      {
        "duration": 7,
        "start_time": "2023-04-01T10:10:08.990Z"
      },
      {
        "duration": 12,
        "start_time": "2023-04-01T10:10:35.665Z"
      },
      {
        "duration": 3463,
        "start_time": "2023-04-01T10:14:05.713Z"
      },
      {
        "duration": 287,
        "start_time": "2023-04-01T10:16:02.469Z"
      },
      {
        "duration": 653,
        "start_time": "2023-04-01T10:16:22.453Z"
      },
      {
        "duration": 1204,
        "start_time": "2023-04-01T10:18:27.906Z"
      },
      {
        "duration": 19,
        "start_time": "2023-04-01T10:18:42.030Z"
      },
      {
        "duration": 4,
        "start_time": "2023-04-01T10:18:50.140Z"
      },
      {
        "duration": 5,
        "start_time": "2023-04-01T10:19:05.116Z"
      },
      {
        "duration": 14,
        "start_time": "2023-04-01T10:19:20.925Z"
      },
      {
        "duration": 19,
        "start_time": "2023-04-01T10:19:37.527Z"
      },
      {
        "duration": 20,
        "start_time": "2023-04-01T10:19:41.440Z"
      },
      {
        "duration": 8,
        "start_time": "2023-04-01T10:19:59.037Z"
      },
      {
        "duration": 18,
        "start_time": "2023-04-01T10:20:13.740Z"
      },
      {
        "duration": 6,
        "start_time": "2023-04-01T10:20:17.618Z"
      },
      {
        "duration": 7,
        "start_time": "2023-04-01T10:20:36.945Z"
      },
      {
        "duration": 22928,
        "start_time": "2023-04-01T10:23:56.885Z"
      },
      {
        "duration": 455,
        "start_time": "2023-04-01T10:24:23.298Z"
      },
      {
        "duration": 694,
        "start_time": "2023-04-01T10:26:30.465Z"
      },
      {
        "duration": 82,
        "start_time": "2023-04-01T10:28:18.141Z"
      },
      {
        "duration": 851,
        "start_time": "2023-04-01T10:36:35.532Z"
      },
      {
        "duration": 844,
        "start_time": "2023-04-01T10:37:36.586Z"
      },
      {
        "duration": 475,
        "start_time": "2023-04-01T10:41:31.068Z"
      },
      {
        "duration": 7,
        "start_time": "2023-04-01T10:43:57.506Z"
      },
      {
        "duration": 482,
        "start_time": "2023-04-01T10:44:00.405Z"
      },
      {
        "duration": 8,
        "start_time": "2023-04-01T10:45:20.146Z"
      },
      {
        "duration": 11,
        "start_time": "2023-04-01T10:45:50.701Z"
      },
      {
        "duration": 8735,
        "start_time": "2023-04-01T10:45:54.557Z"
      },
      {
        "duration": 86,
        "start_time": "2023-04-01T10:46:08.441Z"
      },
      {
        "duration": 86,
        "start_time": "2023-04-01T10:46:54.793Z"
      },
      {
        "duration": 29,
        "start_time": "2023-04-01T10:48:05.454Z"
      },
      {
        "duration": 109,
        "start_time": "2023-04-01T10:48:20.364Z"
      },
      {
        "duration": 84,
        "start_time": "2023-04-01T10:51:00.742Z"
      },
      {
        "duration": 3,
        "start_time": "2023-04-01T10:54:52.398Z"
      },
      {
        "duration": 835,
        "start_time": "2023-04-01T10:57:47.179Z"
      },
      {
        "duration": 785,
        "start_time": "2023-04-01T10:58:43.741Z"
      },
      {
        "duration": 11,
        "start_time": "2023-04-01T10:59:11.146Z"
      },
      {
        "duration": 6926,
        "start_time": "2023-04-01T10:59:18.621Z"
      },
      {
        "duration": 9,
        "start_time": "2023-04-01T11:00:15.688Z"
      },
      {
        "duration": 7604,
        "start_time": "2023-04-01T11:00:18.058Z"
      },
      {
        "duration": 10,
        "start_time": "2023-04-01T11:01:26.760Z"
      },
      {
        "duration": 7831,
        "start_time": "2023-04-01T11:01:29.086Z"
      },
      {
        "duration": 10,
        "start_time": "2023-04-01T11:05:55.151Z"
      },
      {
        "duration": 20,
        "start_time": "2023-04-01T11:05:59.566Z"
      },
      {
        "duration": 7260,
        "start_time": "2023-04-01T11:06:20.493Z"
      },
      {
        "duration": 67,
        "start_time": "2023-04-01T11:08:55.945Z"
      },
      {
        "duration": 61,
        "start_time": "2023-04-01T11:09:22.380Z"
      },
      {
        "duration": 79112,
        "start_time": "2023-04-01T11:11:35.061Z"
      },
      {
        "duration": 85013,
        "start_time": "2023-04-01T11:17:01.494Z"
      },
      {
        "duration": 176499,
        "start_time": "2023-04-01T11:21:22.624Z"
      },
      {
        "duration": 2,
        "start_time": "2023-04-01T11:24:41.446Z"
      },
      {
        "duration": 294,
        "start_time": "2023-04-01T11:25:22.740Z"
      },
      {
        "duration": 601,
        "start_time": "2023-04-01T11:25:34.577Z"
      },
      {
        "duration": 19,
        "start_time": "2023-04-01T11:41:28.102Z"
      },
      {
        "duration": 22,
        "start_time": "2023-04-01T11:42:35.325Z"
      },
      {
        "duration": 4,
        "start_time": "2023-04-01T11:42:41.508Z"
      },
      {
        "duration": 8,
        "start_time": "2023-04-01T11:42:46.625Z"
      },
      {
        "duration": 3,
        "start_time": "2023-04-01T11:46:32.485Z"
      },
      {
        "duration": 581,
        "start_time": "2023-04-01T11:50:35.066Z"
      },
      {
        "duration": 19059,
        "start_time": "2023-04-01T11:50:42.516Z"
      },
      {
        "duration": 5,
        "start_time": "2023-04-01T11:51:14.270Z"
      },
      {
        "duration": 7,
        "start_time": "2023-04-01T11:51:17.350Z"
      },
      {
        "duration": 8,
        "start_time": "2023-04-01T11:51:27.940Z"
      },
      {
        "duration": 54303,
        "start_time": "2023-04-01T11:52:40.194Z"
      },
      {
        "duration": 4,
        "start_time": "2023-04-01T11:54:12.635Z"
      },
      {
        "duration": 15,
        "start_time": "2023-04-01T11:54:15.479Z"
      },
      {
        "duration": 9382,
        "start_time": "2023-04-01T11:54:57.271Z"
      },
      {
        "duration": 5,
        "start_time": "2023-04-01T11:55:12.376Z"
      },
      {
        "duration": 10,
        "start_time": "2023-04-01T11:55:14.965Z"
      },
      {
        "duration": 16840,
        "start_time": "2023-04-01T11:55:29.275Z"
      },
      {
        "duration": 5,
        "start_time": "2023-04-01T11:55:49.860Z"
      },
      {
        "duration": 9,
        "start_time": "2023-04-01T11:55:52.056Z"
      },
      {
        "duration": 15,
        "start_time": "2023-04-01T11:56:11.658Z"
      },
      {
        "duration": 77792,
        "start_time": "2023-04-01T11:56:15.325Z"
      },
      {
        "duration": 9,
        "start_time": "2023-04-01T11:57:39.907Z"
      },
      {
        "duration": 520,
        "start_time": "2023-04-01T11:57:42.756Z"
      },
      {
        "duration": 16903,
        "start_time": "2023-04-01T11:57:46.320Z"
      },
      {
        "duration": 3,
        "start_time": "2023-04-01T11:58:08.233Z"
      },
      {
        "duration": 9,
        "start_time": "2023-04-01T11:58:11.034Z"
      },
      {
        "duration": 27,
        "start_time": "2023-04-01T11:58:32.966Z"
      },
      {
        "duration": 748098,
        "start_time": "2023-04-01T11:58:36.517Z"
      },
      {
        "duration": 40,
        "start_time": "2023-04-01T12:12:32.922Z"
      },
      {
        "duration": 5361,
        "start_time": "2023-04-01T12:12:35.318Z"
      },
      {
        "duration": 622804,
        "start_time": "2023-04-01T12:13:31.822Z"
      },
      {
        "duration": 5,
        "start_time": "2023-04-01T12:24:03.656Z"
      },
      {
        "duration": 64,
        "start_time": "2023-04-01T12:24:06.557Z"
      },
      {
        "duration": 29,
        "start_time": "2023-04-01T12:29:28.905Z"
      },
      {
        "duration": 4,
        "start_time": "2023-04-01T12:29:30.893Z"
      },
      {
        "duration": 2898,
        "start_time": "2023-04-01T12:31:39.310Z"
      },
      {
        "duration": 23,
        "start_time": "2023-04-01T12:39:32.416Z"
      },
      {
        "duration": 12,
        "start_time": "2023-04-01T12:39:41.864Z"
      },
      {
        "duration": 77443,
        "start_time": "2023-04-01T12:39:46.213Z"
      },
      {
        "duration": 9,
        "start_time": "2023-04-01T12:41:28.098Z"
      },
      {
        "duration": 4,
        "start_time": "2023-04-01T12:41:29.894Z"
      },
      {
        "duration": 320,
        "start_time": "2023-04-01T12:41:31.505Z"
      },
      {
        "duration": 218105,
        "start_time": "2023-04-01T12:41:34.337Z"
      },
      {
        "duration": 223414,
        "start_time": "2023-04-01T12:46:45.905Z"
      },
      {
        "duration": 3057,
        "start_time": "2023-04-01T12:54:08.779Z"
      },
      {
        "duration": 314,
        "start_time": "2023-04-01T12:56:04.354Z"
      },
      {
        "duration": 319,
        "start_time": "2023-04-01T12:57:48.744Z"
      },
      {
        "duration": 108,
        "start_time": "2023-04-01T12:59:22.545Z"
      },
      {
        "duration": 286721,
        "start_time": "2023-04-01T12:59:57.165Z"
      },
      {
        "duration": 10830,
        "start_time": "2023-04-04T16:23:12.311Z"
      },
      {
        "duration": 2780,
        "start_time": "2023-04-04T16:23:26.430Z"
      },
      {
        "duration": 17,
        "start_time": "2023-04-04T16:23:30.851Z"
      },
      {
        "duration": 16,
        "start_time": "2023-04-04T16:23:34.064Z"
      },
      {
        "duration": 6,
        "start_time": "2023-04-04T16:23:38.170Z"
      },
      {
        "duration": 9,
        "start_time": "2023-04-04T16:23:42.788Z"
      },
      {
        "duration": 11,
        "start_time": "2023-04-04T16:24:56.259Z"
      },
      {
        "duration": 9620,
        "start_time": "2023-04-04T16:26:00.392Z"
      },
      {
        "duration": 7,
        "start_time": "2023-04-04T16:26:56.740Z"
      },
      {
        "duration": 3,
        "start_time": "2023-04-04T16:26:58.685Z"
      },
      {
        "duration": 67,
        "start_time": "2023-04-04T16:27:39.614Z"
      },
      {
        "duration": 5,
        "start_time": "2023-04-04T16:27:45.906Z"
      },
      {
        "duration": 381,
        "start_time": "2023-04-04T16:29:33.811Z"
      },
      {
        "duration": 9,
        "start_time": "2023-04-04T16:30:13.962Z"
      },
      {
        "duration": 122,
        "start_time": "2023-04-04T16:30:54.506Z"
      },
      {
        "duration": 52,
        "start_time": "2023-04-04T16:31:47.076Z"
      },
      {
        "duration": 84,
        "start_time": "2023-04-04T16:32:21.960Z"
      },
      {
        "duration": 81,
        "start_time": "2023-04-04T16:33:00.628Z"
      },
      {
        "duration": 172838,
        "start_time": "2023-04-04T16:33:24.279Z"
      },
      {
        "duration": 4,
        "start_time": "2023-04-04T16:36:36.812Z"
      },
      {
        "duration": 973,
        "start_time": "2023-04-04T16:36:36.820Z"
      },
      {
        "duration": 8,
        "start_time": "2023-04-04T16:36:37.794Z"
      },
      {
        "duration": 47,
        "start_time": "2023-04-04T16:36:37.820Z"
      },
      {
        "duration": 27,
        "start_time": "2023-04-04T16:36:37.869Z"
      },
      {
        "duration": 57,
        "start_time": "2023-04-04T16:36:37.898Z"
      },
      {
        "duration": 32,
        "start_time": "2023-04-04T16:36:37.956Z"
      },
      {
        "duration": 10214,
        "start_time": "2023-04-04T16:36:37.989Z"
      },
      {
        "duration": 21,
        "start_time": "2023-04-04T16:36:48.204Z"
      },
      {
        "duration": 9,
        "start_time": "2023-04-04T16:36:48.235Z"
      },
      {
        "duration": 15,
        "start_time": "2023-04-04T16:36:48.246Z"
      },
      {
        "duration": 49,
        "start_time": "2023-04-04T16:36:48.263Z"
      },
      {
        "duration": 55,
        "start_time": "2023-04-04T16:37:25.232Z"
      },
      {
        "duration": 41622,
        "start_time": "2023-04-04T16:37:32.271Z"
      },
      {
        "duration": 38179,
        "start_time": "2023-04-04T16:39:21.111Z"
      },
      {
        "duration": 11,
        "start_time": "2023-04-04T16:47:25.706Z"
      },
      {
        "duration": 19798,
        "start_time": "2023-04-04T16:47:29.293Z"
      },
      {
        "duration": 9,
        "start_time": "2023-04-04T16:50:52.683Z"
      },
      {
        "duration": 9,
        "start_time": "2023-04-04T16:50:55.581Z"
      },
      {
        "duration": 4,
        "start_time": "2023-04-04T16:50:56.551Z"
      },
      {
        "duration": 56,
        "start_time": "2023-04-04T16:51:04.950Z"
      },
      {
        "duration": 41904,
        "start_time": "2023-04-04T16:51:08.446Z"
      },
      {
        "duration": 205,
        "start_time": "2023-04-04T17:10:12.257Z"
      },
      {
        "duration": 1223,
        "start_time": "2023-04-04T17:11:48.550Z"
      },
      {
        "duration": 5,
        "start_time": "2023-04-04T17:12:19.016Z"
      },
      {
        "duration": 50,
        "start_time": "2023-04-04T17:13:01.324Z"
      },
      {
        "duration": 4,
        "start_time": "2023-04-04T17:13:19.384Z"
      },
      {
        "duration": 18,
        "start_time": "2023-04-04T17:13:40.547Z"
      },
      {
        "duration": 61,
        "start_time": "2023-04-04T17:13:59.451Z"
      },
      {
        "duration": 3,
        "start_time": "2023-04-04T17:15:23.894Z"
      },
      {
        "duration": 335,
        "start_time": "2023-04-04T17:15:59.175Z"
      },
      {
        "duration": 763,
        "start_time": "2023-04-04T17:16:12.911Z"
      },
      {
        "duration": 596,
        "start_time": "2023-04-04T17:16:18.800Z"
      },
      {
        "duration": 23,
        "start_time": "2023-04-04T17:16:29.161Z"
      },
      {
        "duration": 768,
        "start_time": "2023-04-04T17:16:36.364Z"
      },
      {
        "duration": 19,
        "start_time": "2023-04-04T17:16:47.997Z"
      },
      {
        "duration": 5,
        "start_time": "2023-04-04T17:16:56.614Z"
      },
      {
        "duration": 316,
        "start_time": "2023-04-04T17:17:35.330Z"
      },
      {
        "duration": 1057,
        "start_time": "2023-04-04T17:18:02.079Z"
      },
      {
        "duration": 895,
        "start_time": "2023-04-04T17:18:21.063Z"
      },
      {
        "duration": 4,
        "start_time": "2023-04-04T17:18:32.098Z"
      },
      {
        "duration": 10,
        "start_time": "2023-04-04T17:18:47.890Z"
      },
      {
        "duration": 8804,
        "start_time": "2023-04-04T17:18:49.781Z"
      },
      {
        "duration": 7,
        "start_time": "2023-04-04T17:19:57.719Z"
      },
      {
        "duration": 9,
        "start_time": "2023-04-04T17:20:00.924Z"
      },
      {
        "duration": 4,
        "start_time": "2023-04-04T17:20:03.597Z"
      },
      {
        "duration": 38,
        "start_time": "2023-04-04T17:20:33.776Z"
      },
      {
        "duration": 739,
        "start_time": "2023-04-04T17:20:39.153Z"
      },
      {
        "duration": 5,
        "start_time": "2023-04-04T17:20:44.941Z"
      },
      {
        "duration": 9,
        "start_time": "2023-04-04T17:21:03.328Z"
      },
      {
        "duration": 10210,
        "start_time": "2023-04-04T17:22:20.550Z"
      },
      {
        "duration": 4,
        "start_time": "2023-04-04T17:22:35.036Z"
      },
      {
        "duration": 9,
        "start_time": "2023-04-04T17:22:37.703Z"
      },
      {
        "duration": 12854,
        "start_time": "2023-04-04T17:23:04.737Z"
      },
      {
        "duration": 5,
        "start_time": "2023-04-04T17:23:21.533Z"
      },
      {
        "duration": 15,
        "start_time": "2023-04-04T17:23:24.017Z"
      },
      {
        "duration": 13,
        "start_time": "2023-04-04T17:23:41.375Z"
      },
      {
        "duration": 76688,
        "start_time": "2023-04-04T17:23:46.976Z"
      },
      {
        "duration": 9,
        "start_time": "2023-04-04T17:25:56.690Z"
      },
      {
        "duration": 4,
        "start_time": "2023-04-04T17:25:57.517Z"
      },
      {
        "duration": 275,
        "start_time": "2023-04-04T17:25:59.965Z"
      },
      {
        "duration": 8695,
        "start_time": "2023-04-04T17:26:32.907Z"
      },
      {
        "duration": 15894,
        "start_time": "2023-04-04T17:26:47.987Z"
      },
      {
        "duration": 23155,
        "start_time": "2023-04-04T17:28:01.084Z"
      },
      {
        "duration": 4,
        "start_time": "2023-04-04T17:28:32.857Z"
      },
      {
        "duration": 10,
        "start_time": "2023-04-04T17:28:35.685Z"
      },
      {
        "duration": 3798,
        "start_time": "2023-04-04T17:28:59.677Z"
      },
      {
        "duration": 8,
        "start_time": "2023-04-04T17:29:42.354Z"
      },
      {
        "duration": 11,
        "start_time": "2023-04-04T17:29:47.517Z"
      },
      {
        "duration": 175463,
        "start_time": "2023-04-04T17:31:05.911Z"
      },
      {
        "duration": 9,
        "start_time": "2023-04-04T17:34:06.180Z"
      },
      {
        "duration": 4,
        "start_time": "2023-04-04T17:34:07.787Z"
      },
      {
        "duration": 263,
        "start_time": "2023-04-04T17:34:18.592Z"
      },
      {
        "duration": 3743,
        "start_time": "2023-04-04T17:34:27.025Z"
      },
      {
        "duration": 228544,
        "start_time": "2023-04-04T17:34:42.945Z"
      },
      {
        "duration": 8045,
        "start_time": "2023-04-04T17:39:28.279Z"
      },
      {
        "duration": 5,
        "start_time": "2023-04-04T17:39:47.664Z"
      },
      {
        "duration": 11,
        "start_time": "2023-04-04T17:39:50.245Z"
      },
      {
        "duration": 20,
        "start_time": "2023-04-04T17:40:12.988Z"
      }
    ],
    "kernelspec": {
      "display_name": "Python 3 (ipykernel)",
      "language": "python",
      "name": "python3"
    },
    "language_info": {
      "codemirror_mode": {
        "name": "ipython",
        "version": 3
      },
      "file_extension": ".py",
      "mimetype": "text/x-python",
      "name": "python",
      "nbconvert_exporter": "python",
      "pygments_lexer": "ipython3",
      "version": "3.10.9"
    },
    "toc": {
      "base_numbering": 1,
      "nav_menu": {},
      "number_sections": true,
      "sideBar": true,
      "skip_h1_title": true,
      "title_cell": "Содержание",
      "title_sidebar": "Contents",
      "toc_cell": true,
      "toc_position": {
        "height": "calc(100% - 180px)",
        "left": "10px",
        "top": "150px",
        "width": "302.391px"
      },
      "toc_section_display": true,
      "toc_window_display": false
    },
    "colab": {
      "provenance": []
    }
  },
  "nbformat": 4,
  "nbformat_minor": 0
}