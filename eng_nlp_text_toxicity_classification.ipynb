{
  "cells": [
    {
      "cell_type": "markdown",
      "metadata": {
        "id": "L7r0fNunJHaT"
      },
      "source": [
        "# NLP toxic comments classification"
      ]
    },
    {
      "cell_type": "markdown",
      "metadata": {
        "id": "Lm88rZznJHaU"
      },
      "source": [
        "Project Description\n",
        "\n",
        "An online store is launching a new service. Now users can edit and expand product descriptions, similar to how it's done in wiki communities. This means that customers can suggest edits and comment on changes made by others. The store needs a tool that can identify toxic comments and send them for moderation.\n",
        "\n",
        "The task is to train a model to classify comments as either positive or negative. A dataset with labels indicating the toxicity of the edits is available. The goal is to build a model with an F1 score of at least 0.74.\n",
        "\n",
        "The data is stored in the toxic_comments.csv file. The 'text' column contains the comment text, and 'toxic' is the target feature."
      ]
    },
    {
      "cell_type": "code",
      "execution_count": null,
      "metadata": {
        "id": "zY3lwlcOJHaU",
        "outputId": "835a92f8-fd3c-47e5-cb57-342175211e7f",
        "colab": {
          "base_uri": "https://localhost:8080/"
        }
      },
      "outputs": [
        {
          "output_type": "stream",
          "name": "stdout",
          "text": [
            "Collecting catboost\n",
            "  Downloading catboost-1.2.2-cp310-cp310-manylinux2014_x86_64.whl (98.7 MB)\n",
            "\u001b[2K     \u001b[90m━━━━━━━━━━━━━━━━━━━━━━━━━━━━━━━━━━━━━━━━\u001b[0m \u001b[32m98.7/98.7 MB\u001b[0m \u001b[31m8.3 MB/s\u001b[0m eta \u001b[36m0:00:00\u001b[0m\n",
            "\u001b[?25hRequirement already satisfied: graphviz in /usr/local/lib/python3.10/dist-packages (from catboost) (0.20.1)\n",
            "Requirement already satisfied: matplotlib in /usr/local/lib/python3.10/dist-packages (from catboost) (3.7.1)\n",
            "Requirement already satisfied: numpy>=1.16.0 in /usr/local/lib/python3.10/dist-packages (from catboost) (1.23.5)\n",
            "Requirement already satisfied: pandas>=0.24 in /usr/local/lib/python3.10/dist-packages (from catboost) (1.5.3)\n",
            "Requirement already satisfied: scipy in /usr/local/lib/python3.10/dist-packages (from catboost) (1.11.3)\n",
            "Requirement already satisfied: plotly in /usr/local/lib/python3.10/dist-packages (from catboost) (5.15.0)\n",
            "Requirement already satisfied: six in /usr/local/lib/python3.10/dist-packages (from catboost) (1.16.0)\n",
            "Requirement already satisfied: python-dateutil>=2.8.1 in /usr/local/lib/python3.10/dist-packages (from pandas>=0.24->catboost) (2.8.2)\n",
            "Requirement already satisfied: pytz>=2020.1 in /usr/local/lib/python3.10/dist-packages (from pandas>=0.24->catboost) (2023.3.post1)\n",
            "Requirement already satisfied: contourpy>=1.0.1 in /usr/local/lib/python3.10/dist-packages (from matplotlib->catboost) (1.1.1)\n",
            "Requirement already satisfied: cycler>=0.10 in /usr/local/lib/python3.10/dist-packages (from matplotlib->catboost) (0.12.1)\n",
            "Requirement already satisfied: fonttools>=4.22.0 in /usr/local/lib/python3.10/dist-packages (from matplotlib->catboost) (4.43.1)\n",
            "Requirement already satisfied: kiwisolver>=1.0.1 in /usr/local/lib/python3.10/dist-packages (from matplotlib->catboost) (1.4.5)\n",
            "Requirement already satisfied: packaging>=20.0 in /usr/local/lib/python3.10/dist-packages (from matplotlib->catboost) (23.2)\n",
            "Requirement already satisfied: pillow>=6.2.0 in /usr/local/lib/python3.10/dist-packages (from matplotlib->catboost) (9.4.0)\n",
            "Requirement already satisfied: pyparsing>=2.3.1 in /usr/local/lib/python3.10/dist-packages (from matplotlib->catboost) (3.1.1)\n",
            "Requirement already satisfied: tenacity>=6.2.0 in /usr/local/lib/python3.10/dist-packages (from plotly->catboost) (8.2.3)\n",
            "Installing collected packages: catboost\n",
            "Successfully installed catboost-1.2.2\n"
          ]
        }
      ],
      "source": [
        "!pip install catboost"
      ]
    },
    {
      "cell_type": "code",
      "execution_count": null,
      "metadata": {
        "id": "f5o-bCaBJHaV",
        "outputId": "ca03294d-5993-4a27-d22a-b48d51520f7c",
        "colab": {
          "base_uri": "https://localhost:8080/"
        }
      },
      "outputs": [
        {
          "output_type": "stream",
          "name": "stdout",
          "text": [
            "Requirement already satisfied: spacy in /usr/local/lib/python3.10/dist-packages (3.6.1)\n",
            "Requirement already satisfied: spacy-legacy<3.1.0,>=3.0.11 in /usr/local/lib/python3.10/dist-packages (from spacy) (3.0.12)\n",
            "Requirement already satisfied: spacy-loggers<2.0.0,>=1.0.0 in /usr/local/lib/python3.10/dist-packages (from spacy) (1.0.5)\n",
            "Requirement already satisfied: murmurhash<1.1.0,>=0.28.0 in /usr/local/lib/python3.10/dist-packages (from spacy) (1.0.10)\n",
            "Requirement already satisfied: cymem<2.1.0,>=2.0.2 in /usr/local/lib/python3.10/dist-packages (from spacy) (2.0.8)\n",
            "Requirement already satisfied: preshed<3.1.0,>=3.0.2 in /usr/local/lib/python3.10/dist-packages (from spacy) (3.0.9)\n",
            "Requirement already satisfied: thinc<8.2.0,>=8.1.8 in /usr/local/lib/python3.10/dist-packages (from spacy) (8.1.12)\n",
            "Requirement already satisfied: wasabi<1.2.0,>=0.9.1 in /usr/local/lib/python3.10/dist-packages (from spacy) (1.1.2)\n",
            "Requirement already satisfied: srsly<3.0.0,>=2.4.3 in /usr/local/lib/python3.10/dist-packages (from spacy) (2.4.8)\n",
            "Requirement already satisfied: catalogue<2.1.0,>=2.0.6 in /usr/local/lib/python3.10/dist-packages (from spacy) (2.0.10)\n",
            "Requirement already satisfied: typer<0.10.0,>=0.3.0 in /usr/local/lib/python3.10/dist-packages (from spacy) (0.9.0)\n",
            "Requirement already satisfied: pathy>=0.10.0 in /usr/local/lib/python3.10/dist-packages (from spacy) (0.10.3)\n",
            "Requirement already satisfied: smart-open<7.0.0,>=5.2.1 in /usr/local/lib/python3.10/dist-packages (from spacy) (6.4.0)\n",
            "Requirement already satisfied: tqdm<5.0.0,>=4.38.0 in /usr/local/lib/python3.10/dist-packages (from spacy) (4.66.1)\n",
            "Requirement already satisfied: numpy>=1.15.0 in /usr/local/lib/python3.10/dist-packages (from spacy) (1.23.5)\n",
            "Requirement already satisfied: requests<3.0.0,>=2.13.0 in /usr/local/lib/python3.10/dist-packages (from spacy) (2.31.0)\n",
            "Requirement already satisfied: pydantic!=1.8,!=1.8.1,<3.0.0,>=1.7.4 in /usr/local/lib/python3.10/dist-packages (from spacy) (1.10.13)\n",
            "Requirement already satisfied: jinja2 in /usr/local/lib/python3.10/dist-packages (from spacy) (3.1.2)\n",
            "Requirement already satisfied: setuptools in /usr/local/lib/python3.10/dist-packages (from spacy) (67.7.2)\n",
            "Requirement already satisfied: packaging>=20.0 in /usr/local/lib/python3.10/dist-packages (from spacy) (23.2)\n",
            "Requirement already satisfied: langcodes<4.0.0,>=3.2.0 in /usr/local/lib/python3.10/dist-packages (from spacy) (3.3.0)\n",
            "Requirement already satisfied: typing-extensions>=4.2.0 in /usr/local/lib/python3.10/dist-packages (from pydantic!=1.8,!=1.8.1,<3.0.0,>=1.7.4->spacy) (4.5.0)\n",
            "Requirement already satisfied: charset-normalizer<4,>=2 in /usr/local/lib/python3.10/dist-packages (from requests<3.0.0,>=2.13.0->spacy) (3.3.1)\n",
            "Requirement already satisfied: idna<4,>=2.5 in /usr/local/lib/python3.10/dist-packages (from requests<3.0.0,>=2.13.0->spacy) (3.4)\n",
            "Requirement already satisfied: urllib3<3,>=1.21.1 in /usr/local/lib/python3.10/dist-packages (from requests<3.0.0,>=2.13.0->spacy) (2.0.7)\n",
            "Requirement already satisfied: certifi>=2017.4.17 in /usr/local/lib/python3.10/dist-packages (from requests<3.0.0,>=2.13.0->spacy) (2023.7.22)\n",
            "Requirement already satisfied: blis<0.8.0,>=0.7.8 in /usr/local/lib/python3.10/dist-packages (from thinc<8.2.0,>=8.1.8->spacy) (0.7.11)\n",
            "Requirement already satisfied: confection<1.0.0,>=0.0.1 in /usr/local/lib/python3.10/dist-packages (from thinc<8.2.0,>=8.1.8->spacy) (0.1.3)\n",
            "Requirement already satisfied: click<9.0.0,>=7.1.1 in /usr/local/lib/python3.10/dist-packages (from typer<0.10.0,>=0.3.0->spacy) (8.1.7)\n",
            "Requirement already satisfied: MarkupSafe>=2.0 in /usr/local/lib/python3.10/dist-packages (from jinja2->spacy) (2.1.3)\n"
          ]
        }
      ],
      "source": [
        "!pip install spacy"
      ]
    },
    {
      "cell_type": "code",
      "execution_count": null,
      "metadata": {
        "id": "8nJGoVUBJHaW",
        "outputId": "4bf48da2-1f8d-41f9-fc02-ddd95b821f39",
        "colab": {
          "base_uri": "https://localhost:8080/"
        }
      },
      "outputs": [
        {
          "output_type": "stream",
          "name": "stdout",
          "text": [
            "\u001b[38;5;2m✔ Download and installation successful\u001b[0m\n",
            "You can now load the package via spacy.load('en_core_web_trf')\n",
            "\u001b[38;5;2m✔ Download and installation successful\u001b[0m\n",
            "You can now load the package via spacy.load('en_core_web_sm')\n"
          ]
        }
      ],
      "source": [
        "from spacy.cli import download\n",
        "download(\"en_core_web_trf\")\n",
        "download(\"en_core_web_sm\")"
      ]
    },
    {
      "cell_type": "code",
      "execution_count": null,
      "metadata": {
        "id": "Z05uu8ZQJHaW",
        "outputId": "cde7617d-ac0f-4bf1-b39d-0094c6a6ea20",
        "colab": {
          "base_uri": "https://localhost:8080/"
        }
      },
      "outputs": [
        {
          "output_type": "stream",
          "name": "stdout",
          "text": [
            "Requirement already satisfied: spacy[transformers] in /usr/local/lib/python3.10/dist-packages (3.6.1)\n",
            "Requirement already satisfied: spacy-legacy<3.1.0,>=3.0.11 in /usr/local/lib/python3.10/dist-packages (from spacy[transformers]) (3.0.12)\n",
            "Requirement already satisfied: spacy-loggers<2.0.0,>=1.0.0 in /usr/local/lib/python3.10/dist-packages (from spacy[transformers]) (1.0.5)\n",
            "Requirement already satisfied: murmurhash<1.1.0,>=0.28.0 in /usr/local/lib/python3.10/dist-packages (from spacy[transformers]) (1.0.10)\n",
            "Requirement already satisfied: cymem<2.1.0,>=2.0.2 in /usr/local/lib/python3.10/dist-packages (from spacy[transformers]) (2.0.8)\n",
            "Requirement already satisfied: preshed<3.1.0,>=3.0.2 in /usr/local/lib/python3.10/dist-packages (from spacy[transformers]) (3.0.9)\n",
            "Requirement already satisfied: thinc<8.2.0,>=8.1.8 in /usr/local/lib/python3.10/dist-packages (from spacy[transformers]) (8.1.12)\n",
            "Requirement already satisfied: wasabi<1.2.0,>=0.9.1 in /usr/local/lib/python3.10/dist-packages (from spacy[transformers]) (1.1.2)\n",
            "Requirement already satisfied: srsly<3.0.0,>=2.4.3 in /usr/local/lib/python3.10/dist-packages (from spacy[transformers]) (2.4.8)\n",
            "Requirement already satisfied: catalogue<2.1.0,>=2.0.6 in /usr/local/lib/python3.10/dist-packages (from spacy[transformers]) (2.0.10)\n",
            "Requirement already satisfied: typer<0.10.0,>=0.3.0 in /usr/local/lib/python3.10/dist-packages (from spacy[transformers]) (0.9.0)\n",
            "Requirement already satisfied: pathy>=0.10.0 in /usr/local/lib/python3.10/dist-packages (from spacy[transformers]) (0.10.3)\n",
            "Requirement already satisfied: smart-open<7.0.0,>=5.2.1 in /usr/local/lib/python3.10/dist-packages (from spacy[transformers]) (6.4.0)\n",
            "Requirement already satisfied: tqdm<5.0.0,>=4.38.0 in /usr/local/lib/python3.10/dist-packages (from spacy[transformers]) (4.66.1)\n",
            "Requirement already satisfied: numpy>=1.15.0 in /usr/local/lib/python3.10/dist-packages (from spacy[transformers]) (1.23.5)\n",
            "Requirement already satisfied: requests<3.0.0,>=2.13.0 in /usr/local/lib/python3.10/dist-packages (from spacy[transformers]) (2.31.0)\n",
            "Requirement already satisfied: pydantic!=1.8,!=1.8.1,<3.0.0,>=1.7.4 in /usr/local/lib/python3.10/dist-packages (from spacy[transformers]) (1.10.13)\n",
            "Requirement already satisfied: jinja2 in /usr/local/lib/python3.10/dist-packages (from spacy[transformers]) (3.1.2)\n",
            "Requirement already satisfied: setuptools in /usr/local/lib/python3.10/dist-packages (from spacy[transformers]) (67.7.2)\n",
            "Requirement already satisfied: packaging>=20.0 in /usr/local/lib/python3.10/dist-packages (from spacy[transformers]) (23.2)\n",
            "Requirement already satisfied: langcodes<4.0.0,>=3.2.0 in /usr/local/lib/python3.10/dist-packages (from spacy[transformers]) (3.3.0)\n",
            "Requirement already satisfied: spacy-transformers<1.3.0,>=1.1.2 in /usr/local/lib/python3.10/dist-packages (from spacy[transformers]) (1.2.5)\n",
            "Requirement already satisfied: typing-extensions>=4.2.0 in /usr/local/lib/python3.10/dist-packages (from pydantic!=1.8,!=1.8.1,<3.0.0,>=1.7.4->spacy[transformers]) (4.5.0)\n",
            "Requirement already satisfied: charset-normalizer<4,>=2 in /usr/local/lib/python3.10/dist-packages (from requests<3.0.0,>=2.13.0->spacy[transformers]) (3.3.1)\n",
            "Requirement already satisfied: idna<4,>=2.5 in /usr/local/lib/python3.10/dist-packages (from requests<3.0.0,>=2.13.0->spacy[transformers]) (3.4)\n",
            "Requirement already satisfied: urllib3<3,>=1.21.1 in /usr/local/lib/python3.10/dist-packages (from requests<3.0.0,>=2.13.0->spacy[transformers]) (2.0.7)\n",
            "Requirement already satisfied: certifi>=2017.4.17 in /usr/local/lib/python3.10/dist-packages (from requests<3.0.0,>=2.13.0->spacy[transformers]) (2023.7.22)\n",
            "Requirement already satisfied: transformers<4.31.0,>=3.4.0 in /usr/local/lib/python3.10/dist-packages (from spacy-transformers<1.3.0,>=1.1.2->spacy[transformers]) (4.30.2)\n",
            "Requirement already satisfied: torch>=1.8.0 in /usr/local/lib/python3.10/dist-packages (from spacy-transformers<1.3.0,>=1.1.2->spacy[transformers]) (2.1.0+cu118)\n",
            "Requirement already satisfied: spacy-alignments<1.0.0,>=0.7.2 in /usr/local/lib/python3.10/dist-packages (from spacy-transformers<1.3.0,>=1.1.2->spacy[transformers]) (0.9.1)\n",
            "Requirement already satisfied: blis<0.8.0,>=0.7.8 in /usr/local/lib/python3.10/dist-packages (from thinc<8.2.0,>=8.1.8->spacy[transformers]) (0.7.11)\n",
            "Requirement already satisfied: confection<1.0.0,>=0.0.1 in /usr/local/lib/python3.10/dist-packages (from thinc<8.2.0,>=8.1.8->spacy[transformers]) (0.1.3)\n",
            "Requirement already satisfied: click<9.0.0,>=7.1.1 in /usr/local/lib/python3.10/dist-packages (from typer<0.10.0,>=0.3.0->spacy[transformers]) (8.1.7)\n",
            "Requirement already satisfied: MarkupSafe>=2.0 in /usr/local/lib/python3.10/dist-packages (from jinja2->spacy[transformers]) (2.1.3)\n",
            "Requirement already satisfied: filelock in /usr/local/lib/python3.10/dist-packages (from torch>=1.8.0->spacy-transformers<1.3.0,>=1.1.2->spacy[transformers]) (3.12.4)\n",
            "Requirement already satisfied: sympy in /usr/local/lib/python3.10/dist-packages (from torch>=1.8.0->spacy-transformers<1.3.0,>=1.1.2->spacy[transformers]) (1.12)\n",
            "Requirement already satisfied: networkx in /usr/local/lib/python3.10/dist-packages (from torch>=1.8.0->spacy-transformers<1.3.0,>=1.1.2->spacy[transformers]) (3.2)\n",
            "Requirement already satisfied: fsspec in /usr/local/lib/python3.10/dist-packages (from torch>=1.8.0->spacy-transformers<1.3.0,>=1.1.2->spacy[transformers]) (2023.6.0)\n",
            "Requirement already satisfied: triton==2.1.0 in /usr/local/lib/python3.10/dist-packages (from torch>=1.8.0->spacy-transformers<1.3.0,>=1.1.2->spacy[transformers]) (2.1.0)\n",
            "Requirement already satisfied: huggingface-hub<1.0,>=0.14.1 in /usr/local/lib/python3.10/dist-packages (from transformers<4.31.0,>=3.4.0->spacy-transformers<1.3.0,>=1.1.2->spacy[transformers]) (0.18.0)\n",
            "Requirement already satisfied: pyyaml>=5.1 in /usr/local/lib/python3.10/dist-packages (from transformers<4.31.0,>=3.4.0->spacy-transformers<1.3.0,>=1.1.2->spacy[transformers]) (6.0.1)\n",
            "Requirement already satisfied: regex!=2019.12.17 in /usr/local/lib/python3.10/dist-packages (from transformers<4.31.0,>=3.4.0->spacy-transformers<1.3.0,>=1.1.2->spacy[transformers]) (2023.6.3)\n",
            "Requirement already satisfied: tokenizers!=0.11.3,<0.14,>=0.11.1 in /usr/local/lib/python3.10/dist-packages (from transformers<4.31.0,>=3.4.0->spacy-transformers<1.3.0,>=1.1.2->spacy[transformers]) (0.13.3)\n",
            "Requirement already satisfied: safetensors>=0.3.1 in /usr/local/lib/python3.10/dist-packages (from transformers<4.31.0,>=3.4.0->spacy-transformers<1.3.0,>=1.1.2->spacy[transformers]) (0.4.0)\n",
            "Requirement already satisfied: mpmath>=0.19 in /usr/local/lib/python3.10/dist-packages (from sympy->torch>=1.8.0->spacy-transformers<1.3.0,>=1.1.2->spacy[transformers]) (1.3.0)\n"
          ]
        }
      ],
      "source": [
        "!pip install 'spacy[transformers]'"
      ]
    },
    {
      "cell_type": "markdown",
      "metadata": {
        "id": "GKQv4Pp9JHaX"
      },
      "source": [
        "## Preprocessing Data"
      ]
    },
    {
      "cell_type": "code",
      "execution_count": null,
      "metadata": {
        "id": "h3cixxiaJHaY"
      },
      "outputs": [],
      "source": [
        "import pandas as pd\n",
        "import numpy as np\n",
        "from sklearn.feature_extraction.text import TfidfVectorizer\n",
        "\n",
        "from sklearn.tree import DecisionTreeClassifier\n",
        "from catboost import CatBoostClassifier\n",
        "from sklearn.model_selection import GridSearchCV\n",
        "from sklearn.model_selection import RandomizedSearchCV\n",
        "from sklearn.metrics import f1_score\n",
        "from sklearn.dummy import DummyClassifier\n",
        "from sklearn.model_selection import train_test_split\n",
        "from sklearn.model_selection import cross_validate\n",
        "from sklearn.linear_model import LogisticRegression\n",
        "from sklearn.pipeline import Pipeline\n",
        "\n",
        "import re\n",
        "import spacy_transformers\n",
        "import spacy\n",
        "\n",
        "from tqdm import tqdm\n",
        "\n",
        "from google.colab import drive"
      ]
    },
    {
      "cell_type": "markdown",
      "metadata": {
        "id": "VHp_bOEOJHaY"
      },
      "source": [
        "**Let's take a look at the raw data.**"
      ]
    },
    {
      "cell_type": "code",
      "execution_count": null,
      "metadata": {
        "id": "1pTpjNegJHaZ",
        "outputId": "88ae384e-a711-4398-ba97-6a5582c42c25",
        "colab": {
          "base_uri": "https://localhost:8080/",
          "height": 221
        }
      },
      "outputs": [
        {
          "output_type": "stream",
          "name": "stdout",
          "text": [
            "Mounted at /content/drive\n"
          ]
        },
        {
          "output_type": "execute_result",
          "data": {
            "text/plain": [
              "   Unnamed: 0                                               text  toxic\n",
              "0           0  Explanation\\nWhy the edits made under my usern...      0\n",
              "1           1  D'aww! He matches this background colour I'm s...      0\n",
              "2           2  Hey man, I'm really not trying to edit war. It...      0\n",
              "3           3  \"\\nMore\\nI can't make any real suggestions on ...      0\n",
              "4           4  You, sir, are my hero. Any chance you remember...      0"
            ],
            "text/html": [
              "\n",
              "  <div id=\"df-8a54e40f-0408-431d-b71c-00aa453d1e3a\" class=\"colab-df-container\">\n",
              "    <div>\n",
              "<style scoped>\n",
              "    .dataframe tbody tr th:only-of-type {\n",
              "        vertical-align: middle;\n",
              "    }\n",
              "\n",
              "    .dataframe tbody tr th {\n",
              "        vertical-align: top;\n",
              "    }\n",
              "\n",
              "    .dataframe thead th {\n",
              "        text-align: right;\n",
              "    }\n",
              "</style>\n",
              "<table border=\"1\" class=\"dataframe\">\n",
              "  <thead>\n",
              "    <tr style=\"text-align: right;\">\n",
              "      <th></th>\n",
              "      <th>Unnamed: 0</th>\n",
              "      <th>text</th>\n",
              "      <th>toxic</th>\n",
              "    </tr>\n",
              "  </thead>\n",
              "  <tbody>\n",
              "    <tr>\n",
              "      <th>0</th>\n",
              "      <td>0</td>\n",
              "      <td>Explanation\\nWhy the edits made under my usern...</td>\n",
              "      <td>0</td>\n",
              "    </tr>\n",
              "    <tr>\n",
              "      <th>1</th>\n",
              "      <td>1</td>\n",
              "      <td>D'aww! He matches this background colour I'm s...</td>\n",
              "      <td>0</td>\n",
              "    </tr>\n",
              "    <tr>\n",
              "      <th>2</th>\n",
              "      <td>2</td>\n",
              "      <td>Hey man, I'm really not trying to edit war. It...</td>\n",
              "      <td>0</td>\n",
              "    </tr>\n",
              "    <tr>\n",
              "      <th>3</th>\n",
              "      <td>3</td>\n",
              "      <td>\"\\nMore\\nI can't make any real suggestions on ...</td>\n",
              "      <td>0</td>\n",
              "    </tr>\n",
              "    <tr>\n",
              "      <th>4</th>\n",
              "      <td>4</td>\n",
              "      <td>You, sir, are my hero. Any chance you remember...</td>\n",
              "      <td>0</td>\n",
              "    </tr>\n",
              "  </tbody>\n",
              "</table>\n",
              "</div>\n",
              "    <div class=\"colab-df-buttons\">\n",
              "\n",
              "  <div class=\"colab-df-container\">\n",
              "    <button class=\"colab-df-convert\" onclick=\"convertToInteractive('df-8a54e40f-0408-431d-b71c-00aa453d1e3a')\"\n",
              "            title=\"Convert this dataframe to an interactive table.\"\n",
              "            style=\"display:none;\">\n",
              "\n",
              "  <svg xmlns=\"http://www.w3.org/2000/svg\" height=\"24px\" viewBox=\"0 -960 960 960\">\n",
              "    <path d=\"M120-120v-720h720v720H120Zm60-500h600v-160H180v160Zm220 220h160v-160H400v160Zm0 220h160v-160H400v160ZM180-400h160v-160H180v160Zm440 0h160v-160H620v160ZM180-180h160v-160H180v160Zm440 0h160v-160H620v160Z\"/>\n",
              "  </svg>\n",
              "    </button>\n",
              "\n",
              "  <style>\n",
              "    .colab-df-container {\n",
              "      display:flex;\n",
              "      gap: 12px;\n",
              "    }\n",
              "\n",
              "    .colab-df-convert {\n",
              "      background-color: #E8F0FE;\n",
              "      border: none;\n",
              "      border-radius: 50%;\n",
              "      cursor: pointer;\n",
              "      display: none;\n",
              "      fill: #1967D2;\n",
              "      height: 32px;\n",
              "      padding: 0 0 0 0;\n",
              "      width: 32px;\n",
              "    }\n",
              "\n",
              "    .colab-df-convert:hover {\n",
              "      background-color: #E2EBFA;\n",
              "      box-shadow: 0px 1px 2px rgba(60, 64, 67, 0.3), 0px 1px 3px 1px rgba(60, 64, 67, 0.15);\n",
              "      fill: #174EA6;\n",
              "    }\n",
              "\n",
              "    .colab-df-buttons div {\n",
              "      margin-bottom: 4px;\n",
              "    }\n",
              "\n",
              "    [theme=dark] .colab-df-convert {\n",
              "      background-color: #3B4455;\n",
              "      fill: #D2E3FC;\n",
              "    }\n",
              "\n",
              "    [theme=dark] .colab-df-convert:hover {\n",
              "      background-color: #434B5C;\n",
              "      box-shadow: 0px 1px 3px 1px rgba(0, 0, 0, 0.15);\n",
              "      filter: drop-shadow(0px 1px 2px rgba(0, 0, 0, 0.3));\n",
              "      fill: #FFFFFF;\n",
              "    }\n",
              "  </style>\n",
              "\n",
              "    <script>\n",
              "      const buttonEl =\n",
              "        document.querySelector('#df-8a54e40f-0408-431d-b71c-00aa453d1e3a button.colab-df-convert');\n",
              "      buttonEl.style.display =\n",
              "        google.colab.kernel.accessAllowed ? 'block' : 'none';\n",
              "\n",
              "      async function convertToInteractive(key) {\n",
              "        const element = document.querySelector('#df-8a54e40f-0408-431d-b71c-00aa453d1e3a');\n",
              "        const dataTable =\n",
              "          await google.colab.kernel.invokeFunction('convertToInteractive',\n",
              "                                                    [key], {});\n",
              "        if (!dataTable) return;\n",
              "\n",
              "        const docLinkHtml = 'Like what you see? Visit the ' +\n",
              "          '<a target=\"_blank\" href=https://colab.research.google.com/notebooks/data_table.ipynb>data table notebook</a>'\n",
              "          + ' to learn more about interactive tables.';\n",
              "        element.innerHTML = '';\n",
              "        dataTable['output_type'] = 'display_data';\n",
              "        await google.colab.output.renderOutput(dataTable, element);\n",
              "        const docLink = document.createElement('div');\n",
              "        docLink.innerHTML = docLinkHtml;\n",
              "        element.appendChild(docLink);\n",
              "      }\n",
              "    </script>\n",
              "  </div>\n",
              "\n",
              "\n",
              "<div id=\"df-74b54f94-92bd-49d5-95a8-dc0937a57a8e\">\n",
              "  <button class=\"colab-df-quickchart\" onclick=\"quickchart('df-74b54f94-92bd-49d5-95a8-dc0937a57a8e')\"\n",
              "            title=\"Suggest charts.\"\n",
              "            style=\"display:none;\">\n",
              "\n",
              "<svg xmlns=\"http://www.w3.org/2000/svg\" height=\"24px\"viewBox=\"0 0 24 24\"\n",
              "     width=\"24px\">\n",
              "    <g>\n",
              "        <path d=\"M19 3H5c-1.1 0-2 .9-2 2v14c0 1.1.9 2 2 2h14c1.1 0 2-.9 2-2V5c0-1.1-.9-2-2-2zM9 17H7v-7h2v7zm4 0h-2V7h2v10zm4 0h-2v-4h2v4z\"/>\n",
              "    </g>\n",
              "</svg>\n",
              "  </button>\n",
              "\n",
              "<style>\n",
              "  .colab-df-quickchart {\n",
              "      --bg-color: #E8F0FE;\n",
              "      --fill-color: #1967D2;\n",
              "      --hover-bg-color: #E2EBFA;\n",
              "      --hover-fill-color: #174EA6;\n",
              "      --disabled-fill-color: #AAA;\n",
              "      --disabled-bg-color: #DDD;\n",
              "  }\n",
              "\n",
              "  [theme=dark] .colab-df-quickchart {\n",
              "      --bg-color: #3B4455;\n",
              "      --fill-color: #D2E3FC;\n",
              "      --hover-bg-color: #434B5C;\n",
              "      --hover-fill-color: #FFFFFF;\n",
              "      --disabled-bg-color: #3B4455;\n",
              "      --disabled-fill-color: #666;\n",
              "  }\n",
              "\n",
              "  .colab-df-quickchart {\n",
              "    background-color: var(--bg-color);\n",
              "    border: none;\n",
              "    border-radius: 50%;\n",
              "    cursor: pointer;\n",
              "    display: none;\n",
              "    fill: var(--fill-color);\n",
              "    height: 32px;\n",
              "    padding: 0;\n",
              "    width: 32px;\n",
              "  }\n",
              "\n",
              "  .colab-df-quickchart:hover {\n",
              "    background-color: var(--hover-bg-color);\n",
              "    box-shadow: 0 1px 2px rgba(60, 64, 67, 0.3), 0 1px 3px 1px rgba(60, 64, 67, 0.15);\n",
              "    fill: var(--button-hover-fill-color);\n",
              "  }\n",
              "\n",
              "  .colab-df-quickchart-complete:disabled,\n",
              "  .colab-df-quickchart-complete:disabled:hover {\n",
              "    background-color: var(--disabled-bg-color);\n",
              "    fill: var(--disabled-fill-color);\n",
              "    box-shadow: none;\n",
              "  }\n",
              "\n",
              "  .colab-df-spinner {\n",
              "    border: 2px solid var(--fill-color);\n",
              "    border-color: transparent;\n",
              "    border-bottom-color: var(--fill-color);\n",
              "    animation:\n",
              "      spin 1s steps(1) infinite;\n",
              "  }\n",
              "\n",
              "  @keyframes spin {\n",
              "    0% {\n",
              "      border-color: transparent;\n",
              "      border-bottom-color: var(--fill-color);\n",
              "      border-left-color: var(--fill-color);\n",
              "    }\n",
              "    20% {\n",
              "      border-color: transparent;\n",
              "      border-left-color: var(--fill-color);\n",
              "      border-top-color: var(--fill-color);\n",
              "    }\n",
              "    30% {\n",
              "      border-color: transparent;\n",
              "      border-left-color: var(--fill-color);\n",
              "      border-top-color: var(--fill-color);\n",
              "      border-right-color: var(--fill-color);\n",
              "    }\n",
              "    40% {\n",
              "      border-color: transparent;\n",
              "      border-right-color: var(--fill-color);\n",
              "      border-top-color: var(--fill-color);\n",
              "    }\n",
              "    60% {\n",
              "      border-color: transparent;\n",
              "      border-right-color: var(--fill-color);\n",
              "    }\n",
              "    80% {\n",
              "      border-color: transparent;\n",
              "      border-right-color: var(--fill-color);\n",
              "      border-bottom-color: var(--fill-color);\n",
              "    }\n",
              "    90% {\n",
              "      border-color: transparent;\n",
              "      border-bottom-color: var(--fill-color);\n",
              "    }\n",
              "  }\n",
              "</style>\n",
              "\n",
              "  <script>\n",
              "    async function quickchart(key) {\n",
              "      const quickchartButtonEl =\n",
              "        document.querySelector('#' + key + ' button');\n",
              "      quickchartButtonEl.disabled = true;  // To prevent multiple clicks.\n",
              "      quickchartButtonEl.classList.add('colab-df-spinner');\n",
              "      try {\n",
              "        const charts = await google.colab.kernel.invokeFunction(\n",
              "            'suggestCharts', [key], {});\n",
              "      } catch (error) {\n",
              "        console.error('Error during call to suggestCharts:', error);\n",
              "      }\n",
              "      quickchartButtonEl.classList.remove('colab-df-spinner');\n",
              "      quickchartButtonEl.classList.add('colab-df-quickchart-complete');\n",
              "    }\n",
              "    (() => {\n",
              "      let quickchartButtonEl =\n",
              "        document.querySelector('#df-74b54f94-92bd-49d5-95a8-dc0937a57a8e button');\n",
              "      quickchartButtonEl.style.display =\n",
              "        google.colab.kernel.accessAllowed ? 'block' : 'none';\n",
              "    })();\n",
              "  </script>\n",
              "</div>\n",
              "    </div>\n",
              "  </div>\n"
            ]
          },
          "metadata": {},
          "execution_count": 8
        }
      ],
      "source": [
        "drive.mount('/content/drive')\n",
        "data = pd.read_csv('/content/drive/My Drive/projects/NLP_toxic_comments_classification/toxic_comments.csv')\n",
        "data.head()"
      ]
    },
    {
      "cell_type": "markdown",
      "metadata": {
        "id": "9GQ-qEzDJHaZ"
      },
      "source": [
        "**Delete the extra column.**"
      ]
    },
    {
      "cell_type": "code",
      "execution_count": null,
      "metadata": {
        "id": "ZrI3gLy1JHaZ",
        "outputId": "051799e0-ecb3-4c14-84c3-45216e242ab6",
        "colab": {
          "base_uri": "https://localhost:8080/",
          "height": 204
        }
      },
      "outputs": [
        {
          "output_type": "execute_result",
          "data": {
            "text/plain": [
              "                                                text  toxic\n",
              "0  Explanation\\nWhy the edits made under my usern...      0\n",
              "1  D'aww! He matches this background colour I'm s...      0\n",
              "2  Hey man, I'm really not trying to edit war. It...      0\n",
              "3  \"\\nMore\\nI can't make any real suggestions on ...      0\n",
              "4  You, sir, are my hero. Any chance you remember...      0"
            ],
            "text/html": [
              "\n",
              "  <div id=\"df-c1b37fc5-ccc5-41ed-8518-c8a86d945f2e\" class=\"colab-df-container\">\n",
              "    <div>\n",
              "<style scoped>\n",
              "    .dataframe tbody tr th:only-of-type {\n",
              "        vertical-align: middle;\n",
              "    }\n",
              "\n",
              "    .dataframe tbody tr th {\n",
              "        vertical-align: top;\n",
              "    }\n",
              "\n",
              "    .dataframe thead th {\n",
              "        text-align: right;\n",
              "    }\n",
              "</style>\n",
              "<table border=\"1\" class=\"dataframe\">\n",
              "  <thead>\n",
              "    <tr style=\"text-align: right;\">\n",
              "      <th></th>\n",
              "      <th>text</th>\n",
              "      <th>toxic</th>\n",
              "    </tr>\n",
              "  </thead>\n",
              "  <tbody>\n",
              "    <tr>\n",
              "      <th>0</th>\n",
              "      <td>Explanation\\nWhy the edits made under my usern...</td>\n",
              "      <td>0</td>\n",
              "    </tr>\n",
              "    <tr>\n",
              "      <th>1</th>\n",
              "      <td>D'aww! He matches this background colour I'm s...</td>\n",
              "      <td>0</td>\n",
              "    </tr>\n",
              "    <tr>\n",
              "      <th>2</th>\n",
              "      <td>Hey man, I'm really not trying to edit war. It...</td>\n",
              "      <td>0</td>\n",
              "    </tr>\n",
              "    <tr>\n",
              "      <th>3</th>\n",
              "      <td>\"\\nMore\\nI can't make any real suggestions on ...</td>\n",
              "      <td>0</td>\n",
              "    </tr>\n",
              "    <tr>\n",
              "      <th>4</th>\n",
              "      <td>You, sir, are my hero. Any chance you remember...</td>\n",
              "      <td>0</td>\n",
              "    </tr>\n",
              "  </tbody>\n",
              "</table>\n",
              "</div>\n",
              "    <div class=\"colab-df-buttons\">\n",
              "\n",
              "  <div class=\"colab-df-container\">\n",
              "    <button class=\"colab-df-convert\" onclick=\"convertToInteractive('df-c1b37fc5-ccc5-41ed-8518-c8a86d945f2e')\"\n",
              "            title=\"Convert this dataframe to an interactive table.\"\n",
              "            style=\"display:none;\">\n",
              "\n",
              "  <svg xmlns=\"http://www.w3.org/2000/svg\" height=\"24px\" viewBox=\"0 -960 960 960\">\n",
              "    <path d=\"M120-120v-720h720v720H120Zm60-500h600v-160H180v160Zm220 220h160v-160H400v160Zm0 220h160v-160H400v160ZM180-400h160v-160H180v160Zm440 0h160v-160H620v160ZM180-180h160v-160H180v160Zm440 0h160v-160H620v160Z\"/>\n",
              "  </svg>\n",
              "    </button>\n",
              "\n",
              "  <style>\n",
              "    .colab-df-container {\n",
              "      display:flex;\n",
              "      gap: 12px;\n",
              "    }\n",
              "\n",
              "    .colab-df-convert {\n",
              "      background-color: #E8F0FE;\n",
              "      border: none;\n",
              "      border-radius: 50%;\n",
              "      cursor: pointer;\n",
              "      display: none;\n",
              "      fill: #1967D2;\n",
              "      height: 32px;\n",
              "      padding: 0 0 0 0;\n",
              "      width: 32px;\n",
              "    }\n",
              "\n",
              "    .colab-df-convert:hover {\n",
              "      background-color: #E2EBFA;\n",
              "      box-shadow: 0px 1px 2px rgba(60, 64, 67, 0.3), 0px 1px 3px 1px rgba(60, 64, 67, 0.15);\n",
              "      fill: #174EA6;\n",
              "    }\n",
              "\n",
              "    .colab-df-buttons div {\n",
              "      margin-bottom: 4px;\n",
              "    }\n",
              "\n",
              "    [theme=dark] .colab-df-convert {\n",
              "      background-color: #3B4455;\n",
              "      fill: #D2E3FC;\n",
              "    }\n",
              "\n",
              "    [theme=dark] .colab-df-convert:hover {\n",
              "      background-color: #434B5C;\n",
              "      box-shadow: 0px 1px 3px 1px rgba(0, 0, 0, 0.15);\n",
              "      filter: drop-shadow(0px 1px 2px rgba(0, 0, 0, 0.3));\n",
              "      fill: #FFFFFF;\n",
              "    }\n",
              "  </style>\n",
              "\n",
              "    <script>\n",
              "      const buttonEl =\n",
              "        document.querySelector('#df-c1b37fc5-ccc5-41ed-8518-c8a86d945f2e button.colab-df-convert');\n",
              "      buttonEl.style.display =\n",
              "        google.colab.kernel.accessAllowed ? 'block' : 'none';\n",
              "\n",
              "      async function convertToInteractive(key) {\n",
              "        const element = document.querySelector('#df-c1b37fc5-ccc5-41ed-8518-c8a86d945f2e');\n",
              "        const dataTable =\n",
              "          await google.colab.kernel.invokeFunction('convertToInteractive',\n",
              "                                                    [key], {});\n",
              "        if (!dataTable) return;\n",
              "\n",
              "        const docLinkHtml = 'Like what you see? Visit the ' +\n",
              "          '<a target=\"_blank\" href=https://colab.research.google.com/notebooks/data_table.ipynb>data table notebook</a>'\n",
              "          + ' to learn more about interactive tables.';\n",
              "        element.innerHTML = '';\n",
              "        dataTable['output_type'] = 'display_data';\n",
              "        await google.colab.output.renderOutput(dataTable, element);\n",
              "        const docLink = document.createElement('div');\n",
              "        docLink.innerHTML = docLinkHtml;\n",
              "        element.appendChild(docLink);\n",
              "      }\n",
              "    </script>\n",
              "  </div>\n",
              "\n",
              "\n",
              "<div id=\"df-3f10e9c6-cb37-4cbe-b19c-afa003f51a33\">\n",
              "  <button class=\"colab-df-quickchart\" onclick=\"quickchart('df-3f10e9c6-cb37-4cbe-b19c-afa003f51a33')\"\n",
              "            title=\"Suggest charts.\"\n",
              "            style=\"display:none;\">\n",
              "\n",
              "<svg xmlns=\"http://www.w3.org/2000/svg\" height=\"24px\"viewBox=\"0 0 24 24\"\n",
              "     width=\"24px\">\n",
              "    <g>\n",
              "        <path d=\"M19 3H5c-1.1 0-2 .9-2 2v14c0 1.1.9 2 2 2h14c1.1 0 2-.9 2-2V5c0-1.1-.9-2-2-2zM9 17H7v-7h2v7zm4 0h-2V7h2v10zm4 0h-2v-4h2v4z\"/>\n",
              "    </g>\n",
              "</svg>\n",
              "  </button>\n",
              "\n",
              "<style>\n",
              "  .colab-df-quickchart {\n",
              "      --bg-color: #E8F0FE;\n",
              "      --fill-color: #1967D2;\n",
              "      --hover-bg-color: #E2EBFA;\n",
              "      --hover-fill-color: #174EA6;\n",
              "      --disabled-fill-color: #AAA;\n",
              "      --disabled-bg-color: #DDD;\n",
              "  }\n",
              "\n",
              "  [theme=dark] .colab-df-quickchart {\n",
              "      --bg-color: #3B4455;\n",
              "      --fill-color: #D2E3FC;\n",
              "      --hover-bg-color: #434B5C;\n",
              "      --hover-fill-color: #FFFFFF;\n",
              "      --disabled-bg-color: #3B4455;\n",
              "      --disabled-fill-color: #666;\n",
              "  }\n",
              "\n",
              "  .colab-df-quickchart {\n",
              "    background-color: var(--bg-color);\n",
              "    border: none;\n",
              "    border-radius: 50%;\n",
              "    cursor: pointer;\n",
              "    display: none;\n",
              "    fill: var(--fill-color);\n",
              "    height: 32px;\n",
              "    padding: 0;\n",
              "    width: 32px;\n",
              "  }\n",
              "\n",
              "  .colab-df-quickchart:hover {\n",
              "    background-color: var(--hover-bg-color);\n",
              "    box-shadow: 0 1px 2px rgba(60, 64, 67, 0.3), 0 1px 3px 1px rgba(60, 64, 67, 0.15);\n",
              "    fill: var(--button-hover-fill-color);\n",
              "  }\n",
              "\n",
              "  .colab-df-quickchart-complete:disabled,\n",
              "  .colab-df-quickchart-complete:disabled:hover {\n",
              "    background-color: var(--disabled-bg-color);\n",
              "    fill: var(--disabled-fill-color);\n",
              "    box-shadow: none;\n",
              "  }\n",
              "\n",
              "  .colab-df-spinner {\n",
              "    border: 2px solid var(--fill-color);\n",
              "    border-color: transparent;\n",
              "    border-bottom-color: var(--fill-color);\n",
              "    animation:\n",
              "      spin 1s steps(1) infinite;\n",
              "  }\n",
              "\n",
              "  @keyframes spin {\n",
              "    0% {\n",
              "      border-color: transparent;\n",
              "      border-bottom-color: var(--fill-color);\n",
              "      border-left-color: var(--fill-color);\n",
              "    }\n",
              "    20% {\n",
              "      border-color: transparent;\n",
              "      border-left-color: var(--fill-color);\n",
              "      border-top-color: var(--fill-color);\n",
              "    }\n",
              "    30% {\n",
              "      border-color: transparent;\n",
              "      border-left-color: var(--fill-color);\n",
              "      border-top-color: var(--fill-color);\n",
              "      border-right-color: var(--fill-color);\n",
              "    }\n",
              "    40% {\n",
              "      border-color: transparent;\n",
              "      border-right-color: var(--fill-color);\n",
              "      border-top-color: var(--fill-color);\n",
              "    }\n",
              "    60% {\n",
              "      border-color: transparent;\n",
              "      border-right-color: var(--fill-color);\n",
              "    }\n",
              "    80% {\n",
              "      border-color: transparent;\n",
              "      border-right-color: var(--fill-color);\n",
              "      border-bottom-color: var(--fill-color);\n",
              "    }\n",
              "    90% {\n",
              "      border-color: transparent;\n",
              "      border-bottom-color: var(--fill-color);\n",
              "    }\n",
              "  }\n",
              "</style>\n",
              "\n",
              "  <script>\n",
              "    async function quickchart(key) {\n",
              "      const quickchartButtonEl =\n",
              "        document.querySelector('#' + key + ' button');\n",
              "      quickchartButtonEl.disabled = true;  // To prevent multiple clicks.\n",
              "      quickchartButtonEl.classList.add('colab-df-spinner');\n",
              "      try {\n",
              "        const charts = await google.colab.kernel.invokeFunction(\n",
              "            'suggestCharts', [key], {});\n",
              "      } catch (error) {\n",
              "        console.error('Error during call to suggestCharts:', error);\n",
              "      }\n",
              "      quickchartButtonEl.classList.remove('colab-df-spinner');\n",
              "      quickchartButtonEl.classList.add('colab-df-quickchart-complete');\n",
              "    }\n",
              "    (() => {\n",
              "      let quickchartButtonEl =\n",
              "        document.querySelector('#df-3f10e9c6-cb37-4cbe-b19c-afa003f51a33 button');\n",
              "      quickchartButtonEl.style.display =\n",
              "        google.colab.kernel.accessAllowed ? 'block' : 'none';\n",
              "    })();\n",
              "  </script>\n",
              "</div>\n",
              "    </div>\n",
              "  </div>\n"
            ]
          },
          "metadata": {},
          "execution_count": 9
        }
      ],
      "source": [
        "data = data.drop('Unnamed: 0', axis=1)\n",
        "data.head()"
      ]
    },
    {
      "cell_type": "code",
      "execution_count": null,
      "metadata": {
        "id": "oUV2TZaTJHaZ",
        "outputId": "b01af43f-01c2-43ca-82ae-8edbfff29a95",
        "colab": {
          "base_uri": "https://localhost:8080/"
        }
      },
      "outputs": [
        {
          "output_type": "execute_result",
          "data": {
            "text/plain": [
              "0.10161213369158527"
            ]
          },
          "metadata": {},
          "execution_count": 10
        }
      ],
      "source": [
        "data['toxic'].mean()"
      ]
    },
    {
      "cell_type": "markdown",
      "metadata": {
        "id": "SjpRt76xJHaa"
      },
      "source": [
        "**Toxic comments make up 10% of the total sample.**\n",
        "\n",
        "**Let's look at the absolute ratios.**"
      ]
    },
    {
      "cell_type": "code",
      "execution_count": null,
      "metadata": {
        "id": "gi0xiKqXJHaa",
        "outputId": "d094bac2-0bf5-44b9-d9aa-be6d46145fb3",
        "colab": {
          "base_uri": "https://localhost:8080/"
        }
      },
      "outputs": [
        {
          "output_type": "execute_result",
          "data": {
            "text/plain": [
              "0    143106\n",
              "1     16186\n",
              "Name: toxic, dtype: int64"
            ]
          },
          "metadata": {},
          "execution_count": 11
        }
      ],
      "source": [
        "data['toxic'].value_counts()"
      ]
    },
    {
      "cell_type": "markdown",
      "metadata": {
        "id": "Bw8qyJ8qJHaa"
      },
      "source": [
        "**Let’s take a random sample from the original dataset in order to maintain a similar class ratio in it as in the original sample and do all the work on it, because There is not enough power to work on the full dataset, however, if there were enough power, the work would be identical.**"
      ]
    },
    {
      "cell_type": "code",
      "execution_count": null,
      "metadata": {
        "id": "UO3YZ97NJHaa",
        "outputId": "f62a8f7b-54b1-4f27-cef9-79a066955b11",
        "colab": {
          "base_uri": "https://localhost:8080/"
        }
      },
      "outputs": [
        {
          "output_type": "execute_result",
          "data": {
            "text/plain": [
              "0.10116"
            ]
          },
          "metadata": {},
          "execution_count": 12
        }
      ],
      "source": [
        "df = data.sample(50000).reset_index(drop=True)\n",
        "df['toxic'].mean()"
      ]
    },
    {
      "cell_type": "markdown",
      "metadata": {
        "id": "iHAKIu_-JHaa"
      },
      "source": [
        "**The ratio of classes in the new sample remained similar to the original one.**\n",
        "\n",
        "**We will prepare the data, namely, we will do tokenization using the tools of the Spacy library.**"
      ]
    },
    {
      "cell_type": "code",
      "source": [
        "nlp = spacy.load('en_core_web_sm')\n",
        "tqdm.pandas()\n",
        "\n",
        "new_corpus = []\n",
        "for doc in tqdm(nlp.pipe(df['text'], batch_size=64, n_process=-1, disable=[\"parser\", \"ner\"]), total=len(df['text'])):\n",
        "    word_list = [tok.lemma_ for tok in doc]\n",
        "    new_corpus.append(' '.join(word_list))\n",
        "\n",
        "df['lemm_text'] = new_corpus"
      ],
      "metadata": {
        "id": "K-plspXBLlmF",
        "outputId": "f9082ca7-ebed-4132-ea1e-fa2e53fa4c74",
        "colab": {
          "base_uri": "https://localhost:8080/"
        }
      },
      "execution_count": null,
      "outputs": [
        {
          "output_type": "stream",
          "name": "stderr",
          "text": [
            "100%|██████████| 50000/50000 [08:39<00:00, 96.19it/s] \n"
          ]
        }
      ]
    },
    {
      "cell_type": "markdown",
      "source": [
        "**Clean up the lemmatized text**"
      ],
      "metadata": {
        "id": "O3BPN2tekbBY"
      }
    },
    {
      "cell_type": "code",
      "source": [
        "def clear_text(text):\n",
        "  cleared_text = re.sub(r'[^a-zA-Z]', ' ',text)\n",
        "  cleared_text = cleared_text.lower()\n",
        "  return ' '.join(cleared_text.split())\n",
        "\n",
        "df['clear_text'] = df['lemm_text'].progress_apply(clear_text)"
      ],
      "metadata": {
        "id": "BfswTwUHkebE",
        "outputId": "96f561fd-676a-41b1-fe9f-70677908b7d9",
        "colab": {
          "base_uri": "https://localhost:8080/"
        }
      },
      "execution_count": null,
      "outputs": [
        {
          "output_type": "stream",
          "name": "stderr",
          "text": [
            "100%|██████████| 50000/50000 [00:02<00:00, 19375.59it/s]\n"
          ]
        }
      ]
    },
    {
      "cell_type": "markdown",
      "metadata": {
        "id": "OwP5fGd8JHab"
      },
      "source": [
        "**We will divide our sample into training and testing. There will be no validation, because we will use cross-validation.**"
      ]
    },
    {
      "cell_type": "code",
      "execution_count": null,
      "metadata": {
        "id": "myRa_k-4JHab",
        "outputId": "3d9b3986-5eb5-4d80-f172-d8a39992c568",
        "colab": {
          "base_uri": "https://localhost:8080/",
          "height": 87
        }
      },
      "outputs": [
        {
          "output_type": "display_data",
          "data": {
            "text/plain": [
              "'train shape:'"
            ],
            "application/vnd.google.colaboratory.intrinsic+json": {
              "type": "string"
            }
          },
          "metadata": {}
        },
        {
          "output_type": "display_data",
          "data": {
            "text/plain": [
              "(40000, 4)"
            ]
          },
          "metadata": {}
        },
        {
          "output_type": "display_data",
          "data": {
            "text/plain": [
              "'test shape:'"
            ],
            "application/vnd.google.colaboratory.intrinsic+json": {
              "type": "string"
            }
          },
          "metadata": {}
        },
        {
          "output_type": "display_data",
          "data": {
            "text/plain": [
              "(10000, 4)"
            ]
          },
          "metadata": {}
        }
      ],
      "source": [
        "#split the features and target feature into training and test samples in a ratio of 80/20\n",
        "train, test = train_test_split(df, test_size = 0.2, random_state=1)\n",
        "\n",
        "display('train shape:', train.shape)\n",
        "display('test shape:', test.shape)"
      ]
    },
    {
      "cell_type": "markdown",
      "metadata": {
        "id": "k6x2moHeJHab"
      },
      "source": [
        "**Now we will create a corpus for the test and training samples, use the TF_IDF vectorizer to obtain features from the source text for the training sample, and then based on them we will create features for the test sample.**"
      ]
    },
    {
      "cell_type": "code",
      "execution_count": null,
      "metadata": {
        "id": "JEKJSKJZJHac",
        "outputId": "99cc04c6-2c39-4fec-eb25-02a046f0c77a",
        "colab": {
          "base_uri": "https://localhost:8080/"
        }
      },
      "outputs": [
        {
          "output_type": "stream",
          "name": "stdout",
          "text": [
            "CPU times: user 4.83 s, sys: 166 ms, total: 4.99 s\n",
            "Wall time: 5.95 s\n"
          ]
        }
      ],
      "source": [
        "%%time\n",
        "corpus_train = train['lemm_text']\n",
        "corpus_test = test['lemm_text']\n",
        "\n",
        "\n",
        "count_tf_idf_train = TfidfVectorizer()\n",
        "\n",
        "features_train = count_tf_idf_train.fit_transform(corpus_train)\n",
        "target_train = train['toxic']\n",
        "features_test = count_tf_idf_train.transform(corpus_test)\n",
        "target_test = test['toxic']"
      ]
    },
    {
      "cell_type": "markdown",
      "metadata": {
        "id": "OzOZUMPJJHac"
      },
      "source": [
        "## Training Models"
      ]
    },
    {
      "cell_type": "markdown",
      "metadata": {
        "id": "n1KqH8PwJHac"
      },
      "source": [
        "### Decision tree classifier model"
      ]
    },
    {
      "cell_type": "markdown",
      "metadata": {
        "id": "brxgDsdZJHac"
      },
      "source": [
        "**We will use GridSearchCV with built-in cross-validation to find the best result of the f1 metric, which we use as an estimate of our model according to the problem conditions.**"
      ]
    },
    {
      "cell_type": "code",
      "execution_count": null,
      "metadata": {
        "id": "yyrlosSyJHac",
        "outputId": "9df148e0-ce5b-4bac-c9ed-a0949ea0d493",
        "colab": {
          "base_uri": "https://localhost:8080/"
        }
      },
      "outputs": [
        {
          "output_type": "stream",
          "name": "stdout",
          "text": [
            "CPU times: user 1min 6s, sys: 125 ms, total: 1min 6s\n",
            "Wall time: 1min 26s\n"
          ]
        },
        {
          "output_type": "execute_result",
          "data": {
            "text/plain": [
              "{'criterion': 'gini', 'max_depth': 7}"
            ]
          },
          "metadata": {},
          "execution_count": 17
        }
      ],
      "source": [
        "%%time\n",
        "model_tree = DecisionTreeClassifier(random_state=1)\n",
        "param = {\n",
        "         'criterion': ['gini', 'entropy'],\n",
        "         'max_depth': range(1, 10, 3)\n",
        "        }\n",
        "gridsearch_tree = GridSearchCV(\n",
        "    estimator=model_tree,\n",
        "    param_grid=param,\n",
        "    scoring='f1',\n",
        "    cv=3)\n",
        "gridsearch_tree.fit(features_train, target_train)\n",
        "gridsearch_tree.best_params_"
      ]
    },
    {
      "cell_type": "markdown",
      "metadata": {
        "id": "Qlo9oSX9JHac"
      },
      "source": [
        "**Now let's see what the best result of the f1 metric was achieved by the decision tree classifier model.**"
      ]
    },
    {
      "cell_type": "code",
      "execution_count": null,
      "metadata": {
        "id": "SAcJHT4JJHad",
        "outputId": "89422879-51d9-4687-b59c-17e8a87bb83a",
        "colab": {
          "base_uri": "https://localhost:8080/"
        }
      },
      "outputs": [
        {
          "output_type": "execute_result",
          "data": {
            "text/plain": [
              "0.559"
            ]
          },
          "metadata": {},
          "execution_count": 19
        }
      ],
      "source": [
        "f1_train_tree = round(gridsearch_tree.best_score_, 3)\n",
        "f1_train_tree"
      ]
    },
    {
      "cell_type": "markdown",
      "metadata": {
        "id": "Pf0xQPKKJHad"
      },
      "source": [
        "### Model classifier CatBoost"
      ]
    },
    {
      "cell_type": "markdown",
      "metadata": {
        "id": "PsKps4cSJHad"
      },
      "source": [
        "**We will use GridSearchCV with built-in cross-validation to find the best result of the f1 metric, which we use as an estimate of our model according to the problem conditions. Let us display this value of the metric f1.**"
      ]
    },
    {
      "cell_type": "code",
      "execution_count": null,
      "metadata": {
        "id": "CniFxmyGJHad",
        "outputId": "500111b1-dc53-4e49-f4d0-33ec567a626f",
        "colab": {
          "base_uri": "https://localhost:8080/"
        }
      },
      "outputs": [
        {
          "output_type": "stream",
          "name": "stdout",
          "text": [
            "CPU times: user 1h 36min 33s, sys: 36.7 s, total: 1h 37min 10s\n",
            "Wall time: 1h 4min 31s\n"
          ]
        },
        {
          "output_type": "execute_result",
          "data": {
            "text/plain": [
              "0.72"
            ]
          },
          "metadata": {},
          "execution_count": 20
        }
      ],
      "source": [
        "%%time\n",
        "model = CatBoostClassifier(silent=True, random_state=1)\n",
        "param = {}\n",
        "gridsearch_cat = GridSearchCV(\n",
        "    estimator=model,\n",
        "    param_grid=param,\n",
        "    scoring='f1',\n",
        "    cv=3)\n",
        "gridsearch_cat.fit(features_train, target_train)\n",
        "f1_train_cat = round(gridsearch_cat.best_score_, 3)\n",
        "f1_train_cat"
      ]
    },
    {
      "cell_type": "markdown",
      "metadata": {
        "id": "pbcjsfOIJHae"
      },
      "source": [
        "## Model Comparison"
      ]
    },
    {
      "cell_type": "markdown",
      "metadata": {
        "id": "W_p4HHGjJHae"
      },
      "source": [
        "**The CatBoost model performed better of these two models. Let us now check what result of the f1 metric this model will show on the test sample.**"
      ]
    },
    {
      "cell_type": "code",
      "source": [
        "%%time\n",
        "predictions_test = gridsearch_cat.best_estimator_.predict(features_test)\n",
        "f1_test = f1_score(target_test, predictions_test)\n",
        "f1_test"
      ],
      "metadata": {
        "id": "iXtJ9SQ7B6Ud",
        "outputId": "f3d4478c-8d40-4759-9cfe-f7409f7dedea",
        "colab": {
          "base_uri": "https://localhost:8080/"
        }
      },
      "execution_count": null,
      "outputs": [
        {
          "output_type": "stream",
          "name": "stdout",
          "text": [
            "CPU times: user 410 ms, sys: 7.97 ms, total: 418 ms\n",
            "Wall time: 593 ms\n"
          ]
        },
        {
          "output_type": "execute_result",
          "data": {
            "text/plain": [
              "0.7402135231316725"
            ]
          },
          "metadata": {},
          "execution_count": 25
        }
      ]
    },
    {
      "cell_type": "markdown",
      "metadata": {
        "id": "-oUmhAvxJHae"
      },
      "source": [
        "**We managed to obtain a metric f1 value of 0.74 on the test sample, which satisfies the original task.**"
      ]
    },
    {
      "cell_type": "markdown",
      "metadata": {
        "id": "TEGvTgCqJHae"
      },
      "source": [
        "## Checking models for adequacy"
      ]
    },
    {
      "cell_type": "markdown",
      "metadata": {
        "id": "JLwNaCXrJHae"
      },
      "source": [
        "**Let's check the model for adequacy using the Dummy Model from the sklearn class, having previously imported it in the first step.**\n",
        "\n",
        "**The check is that the quality of the trained model selected above is higher than the quality of the Dummy model, which predicts the result without relying on the features of the training set.**"
      ]
    },
    {
      "cell_type": "code",
      "execution_count": null,
      "metadata": {
        "id": "2fz_hXZOJHaf",
        "outputId": "1d33eb2a-f8fd-4aa4-d1da-8db818c83aa0",
        "colab": {
          "base_uri": "https://localhost:8080/"
        }
      },
      "outputs": [
        {
          "output_type": "stream",
          "name": "stdout",
          "text": [
            "Лучшее значение метрики f1 для Dummy-модели на тренировочной выборке = 0.1684021448565768\n"
          ]
        }
      ],
      "source": [
        "model_dummy = DummyClassifier(random_state=10)\n",
        "parameters_dummy = {'strategy':['most_frequent', 'prior', 'stratified', 'uniform'],\n",
        "                   }\n",
        "gridsearch_dummy = GridSearchCV(\n",
        "    estimator=model_dummy,\n",
        "    param_grid=parameters_dummy,\n",
        "    scoring='f1',\n",
        "    cv=3, n_jobs=-1)\n",
        "gridsearch_dummy.fit(features_train, target_train)\n",
        "print('The best f1 metric value for the Dummy model on the training set =', gridsearch_dummy.best_score_)"
      ]
    },
    {
      "cell_type": "code",
      "execution_count": null,
      "metadata": {
        "id": "6VfcjBNZJHaf",
        "outputId": "9984674c-9bcb-41ea-c065-097189250e95",
        "colab": {
          "base_uri": "https://localhost:8080/"
        }
      },
      "outputs": [
        {
          "output_type": "stream",
          "name": "stdout",
          "text": [
            "Лучшее значение метрики f1 для Dummy-модели на тестовой выборке = 0.16993895396799208\n"
          ]
        }
      ],
      "source": [
        "predict_dummy = gridsearch_dummy.best_estimator_.predict(features_test)\n",
        "print('The best value of the f1 metric for the Dummy model on the test set =', f1_score(target_test, predict_dummy))"
      ]
    },
    {
      "cell_type": "markdown",
      "metadata": {
        "id": "Bx_loVAPJHaf"
      },
      "source": [
        "## Result"
      ]
    },
    {
      "cell_type": "markdown",
      "metadata": {
        "id": "MH42nFq6JHaf"
      },
      "source": [
        "**As a result, using the Dummy model, it was possible to obtain the best quality of the model with f1 equal to 0.17 on the test sample, which is significantly lower than the best result of the selected and trained CatBoost model. Which proves the adequacy of the model we found and selected.**"
      ]
    }
  ],
  "metadata": {
    "ExecuteTimeLog": [
      {
        "duration": 3563,
        "start_time": "2023-03-31T22:01:11.694Z"
      },
      {
        "duration": 21,
        "start_time": "2023-03-31T22:01:36.413Z"
      },
      {
        "duration": 8,
        "start_time": "2023-03-31T22:02:45.400Z"
      },
      {
        "duration": 7,
        "start_time": "2023-03-31T22:04:32.715Z"
      },
      {
        "duration": 10,
        "start_time": "2023-03-31T22:05:21.387Z"
      },
      {
        "duration": 1099,
        "start_time": "2023-03-31T22:10:16.966Z"
      },
      {
        "duration": 1592,
        "start_time": "2023-04-01T10:06:03.484Z"
      },
      {
        "duration": 3380,
        "start_time": "2023-04-01T10:06:06.164Z"
      },
      {
        "duration": 14,
        "start_time": "2023-04-01T10:06:12.222Z"
      },
      {
        "duration": 147,
        "start_time": "2023-04-01T10:06:41.265Z"
      },
      {
        "duration": 15,
        "start_time": "2023-04-01T10:06:53.865Z"
      },
      {
        "duration": 7,
        "start_time": "2023-04-01T10:10:08.990Z"
      },
      {
        "duration": 12,
        "start_time": "2023-04-01T10:10:35.665Z"
      },
      {
        "duration": 3463,
        "start_time": "2023-04-01T10:14:05.713Z"
      },
      {
        "duration": 287,
        "start_time": "2023-04-01T10:16:02.469Z"
      },
      {
        "duration": 653,
        "start_time": "2023-04-01T10:16:22.453Z"
      },
      {
        "duration": 1204,
        "start_time": "2023-04-01T10:18:27.906Z"
      },
      {
        "duration": 19,
        "start_time": "2023-04-01T10:18:42.030Z"
      },
      {
        "duration": 4,
        "start_time": "2023-04-01T10:18:50.140Z"
      },
      {
        "duration": 5,
        "start_time": "2023-04-01T10:19:05.116Z"
      },
      {
        "duration": 14,
        "start_time": "2023-04-01T10:19:20.925Z"
      },
      {
        "duration": 19,
        "start_time": "2023-04-01T10:19:37.527Z"
      },
      {
        "duration": 20,
        "start_time": "2023-04-01T10:19:41.440Z"
      },
      {
        "duration": 8,
        "start_time": "2023-04-01T10:19:59.037Z"
      },
      {
        "duration": 18,
        "start_time": "2023-04-01T10:20:13.740Z"
      },
      {
        "duration": 6,
        "start_time": "2023-04-01T10:20:17.618Z"
      },
      {
        "duration": 7,
        "start_time": "2023-04-01T10:20:36.945Z"
      },
      {
        "duration": 22928,
        "start_time": "2023-04-01T10:23:56.885Z"
      },
      {
        "duration": 455,
        "start_time": "2023-04-01T10:24:23.298Z"
      },
      {
        "duration": 694,
        "start_time": "2023-04-01T10:26:30.465Z"
      },
      {
        "duration": 82,
        "start_time": "2023-04-01T10:28:18.141Z"
      },
      {
        "duration": 851,
        "start_time": "2023-04-01T10:36:35.532Z"
      },
      {
        "duration": 844,
        "start_time": "2023-04-01T10:37:36.586Z"
      },
      {
        "duration": 475,
        "start_time": "2023-04-01T10:41:31.068Z"
      },
      {
        "duration": 7,
        "start_time": "2023-04-01T10:43:57.506Z"
      },
      {
        "duration": 482,
        "start_time": "2023-04-01T10:44:00.405Z"
      },
      {
        "duration": 8,
        "start_time": "2023-04-01T10:45:20.146Z"
      },
      {
        "duration": 11,
        "start_time": "2023-04-01T10:45:50.701Z"
      },
      {
        "duration": 8735,
        "start_time": "2023-04-01T10:45:54.557Z"
      },
      {
        "duration": 86,
        "start_time": "2023-04-01T10:46:08.441Z"
      },
      {
        "duration": 86,
        "start_time": "2023-04-01T10:46:54.793Z"
      },
      {
        "duration": 29,
        "start_time": "2023-04-01T10:48:05.454Z"
      },
      {
        "duration": 109,
        "start_time": "2023-04-01T10:48:20.364Z"
      },
      {
        "duration": 84,
        "start_time": "2023-04-01T10:51:00.742Z"
      },
      {
        "duration": 3,
        "start_time": "2023-04-01T10:54:52.398Z"
      },
      {
        "duration": 835,
        "start_time": "2023-04-01T10:57:47.179Z"
      },
      {
        "duration": 785,
        "start_time": "2023-04-01T10:58:43.741Z"
      },
      {
        "duration": 11,
        "start_time": "2023-04-01T10:59:11.146Z"
      },
      {
        "duration": 6926,
        "start_time": "2023-04-01T10:59:18.621Z"
      },
      {
        "duration": 9,
        "start_time": "2023-04-01T11:00:15.688Z"
      },
      {
        "duration": 7604,
        "start_time": "2023-04-01T11:00:18.058Z"
      },
      {
        "duration": 10,
        "start_time": "2023-04-01T11:01:26.760Z"
      },
      {
        "duration": 7831,
        "start_time": "2023-04-01T11:01:29.086Z"
      },
      {
        "duration": 10,
        "start_time": "2023-04-01T11:05:55.151Z"
      },
      {
        "duration": 20,
        "start_time": "2023-04-01T11:05:59.566Z"
      },
      {
        "duration": 7260,
        "start_time": "2023-04-01T11:06:20.493Z"
      },
      {
        "duration": 67,
        "start_time": "2023-04-01T11:08:55.945Z"
      },
      {
        "duration": 61,
        "start_time": "2023-04-01T11:09:22.380Z"
      },
      {
        "duration": 79112,
        "start_time": "2023-04-01T11:11:35.061Z"
      },
      {
        "duration": 85013,
        "start_time": "2023-04-01T11:17:01.494Z"
      },
      {
        "duration": 176499,
        "start_time": "2023-04-01T11:21:22.624Z"
      },
      {
        "duration": 2,
        "start_time": "2023-04-01T11:24:41.446Z"
      },
      {
        "duration": 294,
        "start_time": "2023-04-01T11:25:22.740Z"
      },
      {
        "duration": 601,
        "start_time": "2023-04-01T11:25:34.577Z"
      },
      {
        "duration": 19,
        "start_time": "2023-04-01T11:41:28.102Z"
      },
      {
        "duration": 22,
        "start_time": "2023-04-01T11:42:35.325Z"
      },
      {
        "duration": 4,
        "start_time": "2023-04-01T11:42:41.508Z"
      },
      {
        "duration": 8,
        "start_time": "2023-04-01T11:42:46.625Z"
      },
      {
        "duration": 3,
        "start_time": "2023-04-01T11:46:32.485Z"
      },
      {
        "duration": 581,
        "start_time": "2023-04-01T11:50:35.066Z"
      },
      {
        "duration": 19059,
        "start_time": "2023-04-01T11:50:42.516Z"
      },
      {
        "duration": 5,
        "start_time": "2023-04-01T11:51:14.270Z"
      },
      {
        "duration": 7,
        "start_time": "2023-04-01T11:51:17.350Z"
      },
      {
        "duration": 8,
        "start_time": "2023-04-01T11:51:27.940Z"
      },
      {
        "duration": 54303,
        "start_time": "2023-04-01T11:52:40.194Z"
      },
      {
        "duration": 4,
        "start_time": "2023-04-01T11:54:12.635Z"
      },
      {
        "duration": 15,
        "start_time": "2023-04-01T11:54:15.479Z"
      },
      {
        "duration": 9382,
        "start_time": "2023-04-01T11:54:57.271Z"
      },
      {
        "duration": 5,
        "start_time": "2023-04-01T11:55:12.376Z"
      },
      {
        "duration": 10,
        "start_time": "2023-04-01T11:55:14.965Z"
      },
      {
        "duration": 16840,
        "start_time": "2023-04-01T11:55:29.275Z"
      },
      {
        "duration": 5,
        "start_time": "2023-04-01T11:55:49.860Z"
      },
      {
        "duration": 9,
        "start_time": "2023-04-01T11:55:52.056Z"
      },
      {
        "duration": 15,
        "start_time": "2023-04-01T11:56:11.658Z"
      },
      {
        "duration": 77792,
        "start_time": "2023-04-01T11:56:15.325Z"
      },
      {
        "duration": 9,
        "start_time": "2023-04-01T11:57:39.907Z"
      },
      {
        "duration": 520,
        "start_time": "2023-04-01T11:57:42.756Z"
      },
      {
        "duration": 16903,
        "start_time": "2023-04-01T11:57:46.320Z"
      },
      {
        "duration": 3,
        "start_time": "2023-04-01T11:58:08.233Z"
      },
      {
        "duration": 9,
        "start_time": "2023-04-01T11:58:11.034Z"
      },
      {
        "duration": 27,
        "start_time": "2023-04-01T11:58:32.966Z"
      },
      {
        "duration": 748098,
        "start_time": "2023-04-01T11:58:36.517Z"
      },
      {
        "duration": 40,
        "start_time": "2023-04-01T12:12:32.922Z"
      },
      {
        "duration": 5361,
        "start_time": "2023-04-01T12:12:35.318Z"
      },
      {
        "duration": 622804,
        "start_time": "2023-04-01T12:13:31.822Z"
      },
      {
        "duration": 5,
        "start_time": "2023-04-01T12:24:03.656Z"
      },
      {
        "duration": 64,
        "start_time": "2023-04-01T12:24:06.557Z"
      },
      {
        "duration": 29,
        "start_time": "2023-04-01T12:29:28.905Z"
      },
      {
        "duration": 4,
        "start_time": "2023-04-01T12:29:30.893Z"
      },
      {
        "duration": 2898,
        "start_time": "2023-04-01T12:31:39.310Z"
      },
      {
        "duration": 23,
        "start_time": "2023-04-01T12:39:32.416Z"
      },
      {
        "duration": 12,
        "start_time": "2023-04-01T12:39:41.864Z"
      },
      {
        "duration": 77443,
        "start_time": "2023-04-01T12:39:46.213Z"
      },
      {
        "duration": 9,
        "start_time": "2023-04-01T12:41:28.098Z"
      },
      {
        "duration": 4,
        "start_time": "2023-04-01T12:41:29.894Z"
      },
      {
        "duration": 320,
        "start_time": "2023-04-01T12:41:31.505Z"
      },
      {
        "duration": 218105,
        "start_time": "2023-04-01T12:41:34.337Z"
      },
      {
        "duration": 223414,
        "start_time": "2023-04-01T12:46:45.905Z"
      },
      {
        "duration": 3057,
        "start_time": "2023-04-01T12:54:08.779Z"
      },
      {
        "duration": 314,
        "start_time": "2023-04-01T12:56:04.354Z"
      },
      {
        "duration": 319,
        "start_time": "2023-04-01T12:57:48.744Z"
      },
      {
        "duration": 108,
        "start_time": "2023-04-01T12:59:22.545Z"
      },
      {
        "duration": 286721,
        "start_time": "2023-04-01T12:59:57.165Z"
      },
      {
        "duration": 10830,
        "start_time": "2023-04-04T16:23:12.311Z"
      },
      {
        "duration": 2780,
        "start_time": "2023-04-04T16:23:26.430Z"
      },
      {
        "duration": 17,
        "start_time": "2023-04-04T16:23:30.851Z"
      },
      {
        "duration": 16,
        "start_time": "2023-04-04T16:23:34.064Z"
      },
      {
        "duration": 6,
        "start_time": "2023-04-04T16:23:38.170Z"
      },
      {
        "duration": 9,
        "start_time": "2023-04-04T16:23:42.788Z"
      },
      {
        "duration": 11,
        "start_time": "2023-04-04T16:24:56.259Z"
      },
      {
        "duration": 9620,
        "start_time": "2023-04-04T16:26:00.392Z"
      },
      {
        "duration": 7,
        "start_time": "2023-04-04T16:26:56.740Z"
      },
      {
        "duration": 3,
        "start_time": "2023-04-04T16:26:58.685Z"
      },
      {
        "duration": 67,
        "start_time": "2023-04-04T16:27:39.614Z"
      },
      {
        "duration": 5,
        "start_time": "2023-04-04T16:27:45.906Z"
      },
      {
        "duration": 381,
        "start_time": "2023-04-04T16:29:33.811Z"
      },
      {
        "duration": 9,
        "start_time": "2023-04-04T16:30:13.962Z"
      },
      {
        "duration": 122,
        "start_time": "2023-04-04T16:30:54.506Z"
      },
      {
        "duration": 52,
        "start_time": "2023-04-04T16:31:47.076Z"
      },
      {
        "duration": 84,
        "start_time": "2023-04-04T16:32:21.960Z"
      },
      {
        "duration": 81,
        "start_time": "2023-04-04T16:33:00.628Z"
      },
      {
        "duration": 172838,
        "start_time": "2023-04-04T16:33:24.279Z"
      },
      {
        "duration": 4,
        "start_time": "2023-04-04T16:36:36.812Z"
      },
      {
        "duration": 973,
        "start_time": "2023-04-04T16:36:36.820Z"
      },
      {
        "duration": 8,
        "start_time": "2023-04-04T16:36:37.794Z"
      },
      {
        "duration": 47,
        "start_time": "2023-04-04T16:36:37.820Z"
      },
      {
        "duration": 27,
        "start_time": "2023-04-04T16:36:37.869Z"
      },
      {
        "duration": 57,
        "start_time": "2023-04-04T16:36:37.898Z"
      },
      {
        "duration": 32,
        "start_time": "2023-04-04T16:36:37.956Z"
      },
      {
        "duration": 10214,
        "start_time": "2023-04-04T16:36:37.989Z"
      },
      {
        "duration": 21,
        "start_time": "2023-04-04T16:36:48.204Z"
      },
      {
        "duration": 9,
        "start_time": "2023-04-04T16:36:48.235Z"
      },
      {
        "duration": 15,
        "start_time": "2023-04-04T16:36:48.246Z"
      },
      {
        "duration": 49,
        "start_time": "2023-04-04T16:36:48.263Z"
      },
      {
        "duration": 55,
        "start_time": "2023-04-04T16:37:25.232Z"
      },
      {
        "duration": 41622,
        "start_time": "2023-04-04T16:37:32.271Z"
      },
      {
        "duration": 38179,
        "start_time": "2023-04-04T16:39:21.111Z"
      },
      {
        "duration": 11,
        "start_time": "2023-04-04T16:47:25.706Z"
      },
      {
        "duration": 19798,
        "start_time": "2023-04-04T16:47:29.293Z"
      },
      {
        "duration": 9,
        "start_time": "2023-04-04T16:50:52.683Z"
      },
      {
        "duration": 9,
        "start_time": "2023-04-04T16:50:55.581Z"
      },
      {
        "duration": 4,
        "start_time": "2023-04-04T16:50:56.551Z"
      },
      {
        "duration": 56,
        "start_time": "2023-04-04T16:51:04.950Z"
      },
      {
        "duration": 41904,
        "start_time": "2023-04-04T16:51:08.446Z"
      },
      {
        "duration": 205,
        "start_time": "2023-04-04T17:10:12.257Z"
      },
      {
        "duration": 1223,
        "start_time": "2023-04-04T17:11:48.550Z"
      },
      {
        "duration": 5,
        "start_time": "2023-04-04T17:12:19.016Z"
      },
      {
        "duration": 50,
        "start_time": "2023-04-04T17:13:01.324Z"
      },
      {
        "duration": 4,
        "start_time": "2023-04-04T17:13:19.384Z"
      },
      {
        "duration": 18,
        "start_time": "2023-04-04T17:13:40.547Z"
      },
      {
        "duration": 61,
        "start_time": "2023-04-04T17:13:59.451Z"
      },
      {
        "duration": 3,
        "start_time": "2023-04-04T17:15:23.894Z"
      },
      {
        "duration": 335,
        "start_time": "2023-04-04T17:15:59.175Z"
      },
      {
        "duration": 763,
        "start_time": "2023-04-04T17:16:12.911Z"
      },
      {
        "duration": 596,
        "start_time": "2023-04-04T17:16:18.800Z"
      },
      {
        "duration": 23,
        "start_time": "2023-04-04T17:16:29.161Z"
      },
      {
        "duration": 768,
        "start_time": "2023-04-04T17:16:36.364Z"
      },
      {
        "duration": 19,
        "start_time": "2023-04-04T17:16:47.997Z"
      },
      {
        "duration": 5,
        "start_time": "2023-04-04T17:16:56.614Z"
      },
      {
        "duration": 316,
        "start_time": "2023-04-04T17:17:35.330Z"
      },
      {
        "duration": 1057,
        "start_time": "2023-04-04T17:18:02.079Z"
      },
      {
        "duration": 895,
        "start_time": "2023-04-04T17:18:21.063Z"
      },
      {
        "duration": 4,
        "start_time": "2023-04-04T17:18:32.098Z"
      },
      {
        "duration": 10,
        "start_time": "2023-04-04T17:18:47.890Z"
      },
      {
        "duration": 8804,
        "start_time": "2023-04-04T17:18:49.781Z"
      },
      {
        "duration": 7,
        "start_time": "2023-04-04T17:19:57.719Z"
      },
      {
        "duration": 9,
        "start_time": "2023-04-04T17:20:00.924Z"
      },
      {
        "duration": 4,
        "start_time": "2023-04-04T17:20:03.597Z"
      },
      {
        "duration": 38,
        "start_time": "2023-04-04T17:20:33.776Z"
      },
      {
        "duration": 739,
        "start_time": "2023-04-04T17:20:39.153Z"
      },
      {
        "duration": 5,
        "start_time": "2023-04-04T17:20:44.941Z"
      },
      {
        "duration": 9,
        "start_time": "2023-04-04T17:21:03.328Z"
      },
      {
        "duration": 10210,
        "start_time": "2023-04-04T17:22:20.550Z"
      },
      {
        "duration": 4,
        "start_time": "2023-04-04T17:22:35.036Z"
      },
      {
        "duration": 9,
        "start_time": "2023-04-04T17:22:37.703Z"
      },
      {
        "duration": 12854,
        "start_time": "2023-04-04T17:23:04.737Z"
      },
      {
        "duration": 5,
        "start_time": "2023-04-04T17:23:21.533Z"
      },
      {
        "duration": 15,
        "start_time": "2023-04-04T17:23:24.017Z"
      },
      {
        "duration": 13,
        "start_time": "2023-04-04T17:23:41.375Z"
      },
      {
        "duration": 76688,
        "start_time": "2023-04-04T17:23:46.976Z"
      },
      {
        "duration": 9,
        "start_time": "2023-04-04T17:25:56.690Z"
      },
      {
        "duration": 4,
        "start_time": "2023-04-04T17:25:57.517Z"
      },
      {
        "duration": 275,
        "start_time": "2023-04-04T17:25:59.965Z"
      },
      {
        "duration": 8695,
        "start_time": "2023-04-04T17:26:32.907Z"
      },
      {
        "duration": 15894,
        "start_time": "2023-04-04T17:26:47.987Z"
      },
      {
        "duration": 23155,
        "start_time": "2023-04-04T17:28:01.084Z"
      },
      {
        "duration": 4,
        "start_time": "2023-04-04T17:28:32.857Z"
      },
      {
        "duration": 10,
        "start_time": "2023-04-04T17:28:35.685Z"
      },
      {
        "duration": 3798,
        "start_time": "2023-04-04T17:28:59.677Z"
      },
      {
        "duration": 8,
        "start_time": "2023-04-04T17:29:42.354Z"
      },
      {
        "duration": 11,
        "start_time": "2023-04-04T17:29:47.517Z"
      },
      {
        "duration": 175463,
        "start_time": "2023-04-04T17:31:05.911Z"
      },
      {
        "duration": 9,
        "start_time": "2023-04-04T17:34:06.180Z"
      },
      {
        "duration": 4,
        "start_time": "2023-04-04T17:34:07.787Z"
      },
      {
        "duration": 263,
        "start_time": "2023-04-04T17:34:18.592Z"
      },
      {
        "duration": 3743,
        "start_time": "2023-04-04T17:34:27.025Z"
      },
      {
        "duration": 228544,
        "start_time": "2023-04-04T17:34:42.945Z"
      },
      {
        "duration": 8045,
        "start_time": "2023-04-04T17:39:28.279Z"
      },
      {
        "duration": 5,
        "start_time": "2023-04-04T17:39:47.664Z"
      },
      {
        "duration": 11,
        "start_time": "2023-04-04T17:39:50.245Z"
      },
      {
        "duration": 20,
        "start_time": "2023-04-04T17:40:12.988Z"
      }
    ],
    "kernelspec": {
      "display_name": "Python 3 (ipykernel)",
      "language": "python",
      "name": "python3"
    },
    "language_info": {
      "codemirror_mode": {
        "name": "ipython",
        "version": 3
      },
      "file_extension": ".py",
      "mimetype": "text/x-python",
      "name": "python",
      "nbconvert_exporter": "python",
      "pygments_lexer": "ipython3",
      "version": "3.10.9"
    },
    "toc": {
      "base_numbering": 1,
      "nav_menu": {},
      "number_sections": true,
      "sideBar": true,
      "skip_h1_title": true,
      "title_cell": "Содержание",
      "title_sidebar": "Contents",
      "toc_cell": true,
      "toc_position": {
        "height": "calc(100% - 180px)",
        "left": "10px",
        "top": "150px",
        "width": "302.391px"
      },
      "toc_section_display": true,
      "toc_window_display": false
    },
    "colab": {
      "provenance": []
    }
  },
  "nbformat": 4,
  "nbformat_minor": 0
}