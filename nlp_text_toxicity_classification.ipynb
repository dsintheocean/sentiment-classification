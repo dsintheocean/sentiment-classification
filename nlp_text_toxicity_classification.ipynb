{
 "cells": [
  {
   "attachments": {},
   "cell_type": "markdown",
   "metadata": {},
   "source": [
    "# Проект определения токсичности комментария"
   ]
  },
  {
   "attachments": {},
   "cell_type": "markdown",
   "metadata": {},
   "source": [
    "Проект оценки токсичности текста\n",
    "\n",
    "Описание проекта\n",
    "Интернет-магазин запускает новый сервис. Теперь пользователи могут редактировать и дополнять описания товаров, как в вики-сообществах. То есть клиенты предлагают свои правки и комментируют изменения других. Магазину нужен инструмент, который будет искать токсичные комментарии и отправлять их на модерацию. \n",
    "\n",
    "Задача - обучить модель классифицировать комментарии на позитивные и негативные. \n",
    "Имеется набор данных с разметкой о токсичности правок.\n",
    "Необходимо построить модель с целевым значением метрики качества F1 не ниже 0.75. \n",
    "\n",
    "Данные находятся в файле toxic_comments.csv.\n",
    "Столбец text в нём содержит текст комментария, а toxic — целевой признак."
   ]
  },
  {
   "cell_type": "code",
   "execution_count": 1,
   "metadata": {},
   "outputs": [
    {
     "name": "stdout",
     "output_type": "stream",
     "text": [
      "Collecting catboost\n",
      "  Downloading catboost-1.1.1-cp310-none-macosx_10_6_universal2.whl (22.0 MB)\n",
      "\u001b[2K     \u001b[90m━━━━━━━━━━━━━━━━━━━━━━━━━━━━━━━━━━━━━━━━\u001b[0m \u001b[32m22.0/22.0 MB\u001b[0m \u001b[31m5.6 MB/s\u001b[0m eta \u001b[36m0:00:00\u001b[0m00:01\u001b[0m00:01\u001b[0m\n",
      "\u001b[?25hRequirement already satisfied: plotly in /Users/mi_xzm/anaconda3/lib/python3.10/site-packages (from catboost) (5.9.0)\n",
      "Requirement already satisfied: numpy>=1.16.0 in /Users/mi_xzm/anaconda3/lib/python3.10/site-packages (from catboost) (1.23.5)\n",
      "Requirement already satisfied: scipy in /Users/mi_xzm/anaconda3/lib/python3.10/site-packages (from catboost) (1.10.0)\n",
      "Requirement already satisfied: pandas>=0.24.0 in /Users/mi_xzm/anaconda3/lib/python3.10/site-packages (from catboost) (1.5.3)\n",
      "Requirement already satisfied: matplotlib in /Users/mi_xzm/anaconda3/lib/python3.10/site-packages (from catboost) (3.7.0)\n",
      "Requirement already satisfied: six in /Users/mi_xzm/anaconda3/lib/python3.10/site-packages (from catboost) (1.16.0)\n",
      "Collecting graphviz\n",
      "  Downloading graphviz-0.20.1-py3-none-any.whl (47 kB)\n",
      "\u001b[2K     \u001b[90m━━━━━━━━━━━━━━━━━━━━━━━━━━━━━━━━━━━━━━━\u001b[0m \u001b[32m47.0/47.0 kB\u001b[0m \u001b[31m938.9 kB/s\u001b[0m eta \u001b[36m0:00:00\u001b[0ma \u001b[36m0:00:01\u001b[0m\n",
      "\u001b[?25hRequirement already satisfied: python-dateutil>=2.8.1 in /Users/mi_xzm/anaconda3/lib/python3.10/site-packages (from pandas>=0.24.0->catboost) (2.8.2)\n",
      "Requirement already satisfied: pytz>=2020.1 in /Users/mi_xzm/anaconda3/lib/python3.10/site-packages (from pandas>=0.24.0->catboost) (2022.7)\n",
      "Requirement already satisfied: contourpy>=1.0.1 in /Users/mi_xzm/anaconda3/lib/python3.10/site-packages (from matplotlib->catboost) (1.0.5)\n",
      "Requirement already satisfied: cycler>=0.10 in /Users/mi_xzm/anaconda3/lib/python3.10/site-packages (from matplotlib->catboost) (0.11.0)\n",
      "Requirement already satisfied: packaging>=20.0 in /Users/mi_xzm/anaconda3/lib/python3.10/site-packages (from matplotlib->catboost) (22.0)\n",
      "Requirement already satisfied: fonttools>=4.22.0 in /Users/mi_xzm/anaconda3/lib/python3.10/site-packages (from matplotlib->catboost) (4.25.0)\n",
      "Requirement already satisfied: pyparsing>=2.3.1 in /Users/mi_xzm/anaconda3/lib/python3.10/site-packages (from matplotlib->catboost) (3.0.9)\n",
      "Requirement already satisfied: pillow>=6.2.0 in /Users/mi_xzm/anaconda3/lib/python3.10/site-packages (from matplotlib->catboost) (9.4.0)\n",
      "Requirement already satisfied: kiwisolver>=1.0.1 in /Users/mi_xzm/anaconda3/lib/python3.10/site-packages (from matplotlib->catboost) (1.4.4)\n",
      "Requirement already satisfied: tenacity>=6.2.0 in /Users/mi_xzm/anaconda3/lib/python3.10/site-packages (from plotly->catboost) (8.0.1)\n",
      "Installing collected packages: graphviz, catboost\n",
      "Successfully installed catboost-1.1.1 graphviz-0.20.1\n"
     ]
    }
   ],
   "source": [
    "!pip install catboost"
   ]
  },
  {
   "cell_type": "code",
   "execution_count": 2,
   "metadata": {},
   "outputs": [
    {
     "name": "stdout",
     "output_type": "stream",
     "text": [
      "Collecting spacy\n",
      "  Downloading spacy-3.5.1-cp310-cp310-macosx_10_9_x86_64.whl (6.9 MB)\n",
      "\u001b[2K     \u001b[90m━━━━━━━━━━━━━━━━━━━━━━━━━━━━━━━━━━━━━━━━\u001b[0m \u001b[32m6.9/6.9 MB\u001b[0m \u001b[31m3.0 MB/s\u001b[0m eta \u001b[36m0:00:00\u001b[0m00:01\u001b[0m00:01\u001b[0m\n",
      "\u001b[?25hRequirement already satisfied: numpy>=1.15.0 in /Users/mi_xzm/anaconda3/lib/python3.10/site-packages (from spacy) (1.23.5)\n",
      "Collecting spacy-loggers<2.0.0,>=1.0.0\n",
      "  Downloading spacy_loggers-1.0.4-py3-none-any.whl (11 kB)\n",
      "Collecting srsly<3.0.0,>=2.4.3\n",
      "  Downloading srsly-2.4.6-cp310-cp310-macosx_10_9_x86_64.whl (491 kB)\n",
      "\u001b[2K     \u001b[90m━━━━━━━━━━━━━━━━━━━━━━━━━━━━━━━━━━━━━━━\u001b[0m \u001b[32m491.9/491.9 kB\u001b[0m \u001b[31m7.4 MB/s\u001b[0m eta \u001b[36m0:00:00\u001b[0ma \u001b[36m0:00:01\u001b[0m\n",
      "\u001b[?25hCollecting spacy-legacy<3.1.0,>=3.0.11\n",
      "  Downloading spacy_legacy-3.0.12-py2.py3-none-any.whl (29 kB)\n",
      "Collecting typer<0.8.0,>=0.3.0\n",
      "  Downloading typer-0.7.0-py3-none-any.whl (38 kB)\n",
      "Requirement already satisfied: smart-open<7.0.0,>=5.2.1 in /Users/mi_xzm/anaconda3/lib/python3.10/site-packages (from spacy) (5.2.1)\n",
      "Collecting wasabi<1.2.0,>=0.9.1\n",
      "  Downloading wasabi-1.1.1-py3-none-any.whl (27 kB)\n",
      "Collecting thinc<8.2.0,>=8.1.8\n",
      "  Downloading thinc-8.1.9-cp310-cp310-macosx_10_9_x86_64.whl (857 kB)\n",
      "\u001b[2K     \u001b[90m━━━━━━━━━━━━━━━━━━━━━━━━━━━━━━━━━━━━━━━\u001b[0m \u001b[32m857.4/857.4 kB\u001b[0m \u001b[31m9.7 MB/s\u001b[0m eta \u001b[36m0:00:00\u001b[0ma \u001b[36m0:00:01\u001b[0m\n",
      "\u001b[?25hCollecting catalogue<2.1.0,>=2.0.6\n",
      "  Downloading catalogue-2.0.8-py3-none-any.whl (17 kB)\n",
      "Requirement already satisfied: packaging>=20.0 in /Users/mi_xzm/anaconda3/lib/python3.10/site-packages (from spacy) (22.0)\n",
      "Collecting cymem<2.1.0,>=2.0.2\n",
      "  Downloading cymem-2.0.7-cp310-cp310-macosx_10_9_x86_64.whl (32 kB)\n",
      "Collecting preshed<3.1.0,>=3.0.2\n",
      "  Downloading preshed-3.0.8-cp310-cp310-macosx_10_9_x86_64.whl (106 kB)\n",
      "\u001b[2K     \u001b[90m━━━━━━━━━━━━━━━━━━━━━━━━━━━━━━━━━━━━━━━\u001b[0m \u001b[32m107.0/107.0 kB\u001b[0m \u001b[31m5.3 MB/s\u001b[0m eta \u001b[36m0:00:00\u001b[0m\n",
      "\u001b[?25hRequirement already satisfied: requests<3.0.0,>=2.13.0 in /Users/mi_xzm/anaconda3/lib/python3.10/site-packages (from spacy) (2.28.1)\n",
      "Collecting murmurhash<1.1.0,>=0.28.0\n",
      "  Downloading murmurhash-1.0.9-cp310-cp310-macosx_10_9_x86_64.whl (18 kB)\n",
      "Collecting pathy>=0.10.0\n",
      "  Downloading pathy-0.10.1-py3-none-any.whl (48 kB)\n",
      "\u001b[2K     \u001b[90m━━━━━━━━━━━━━━━━━━━━━━━━━━━━━━━━━━━━━━━━\u001b[0m \u001b[32m48.9/48.9 kB\u001b[0m \u001b[31m3.7 MB/s\u001b[0m eta \u001b[36m0:00:00\u001b[0m\n",
      "\u001b[?25hRequirement already satisfied: setuptools in /Users/mi_xzm/anaconda3/lib/python3.10/site-packages (from spacy) (65.6.3)\n",
      "Collecting langcodes<4.0.0,>=3.2.0\n",
      "  Downloading langcodes-3.3.0-py3-none-any.whl (181 kB)\n",
      "\u001b[2K     \u001b[90m━━━━━━━━━━━━━━━━━━━━━━━━━━━━━━━━━━━━━━━\u001b[0m \u001b[32m181.6/181.6 kB\u001b[0m \u001b[31m9.8 MB/s\u001b[0m eta \u001b[36m0:00:00\u001b[0m\n",
      "\u001b[?25hCollecting pydantic!=1.8,!=1.8.1,<1.11.0,>=1.7.4\n",
      "  Downloading pydantic-1.10.7-cp310-cp310-macosx_10_9_x86_64.whl (2.9 MB)\n",
      "\u001b[2K     \u001b[90m━━━━━━━━━━━━━━━━━━━━━━━━━━━━━━━━━━━━━━━━\u001b[0m \u001b[32m2.9/2.9 MB\u001b[0m \u001b[31m9.9 MB/s\u001b[0m eta \u001b[36m0:00:00\u001b[0m:00:01\u001b[0m00:01\u001b[0m\n",
      "\u001b[?25hRequirement already satisfied: jinja2 in /Users/mi_xzm/anaconda3/lib/python3.10/site-packages (from spacy) (3.1.2)\n",
      "Requirement already satisfied: tqdm<5.0.0,>=4.38.0 in /Users/mi_xzm/anaconda3/lib/python3.10/site-packages (from spacy) (4.64.1)\n",
      "Requirement already satisfied: typing-extensions>=4.2.0 in /Users/mi_xzm/anaconda3/lib/python3.10/site-packages (from pydantic!=1.8,!=1.8.1,<1.11.0,>=1.7.4->spacy) (4.4.0)\n",
      "Requirement already satisfied: charset-normalizer<3,>=2 in /Users/mi_xzm/anaconda3/lib/python3.10/site-packages (from requests<3.0.0,>=2.13.0->spacy) (2.0.4)\n",
      "Requirement already satisfied: certifi>=2017.4.17 in /Users/mi_xzm/anaconda3/lib/python3.10/site-packages (from requests<3.0.0,>=2.13.0->spacy) (2022.12.7)\n",
      "Requirement already satisfied: idna<4,>=2.5 in /Users/mi_xzm/anaconda3/lib/python3.10/site-packages (from requests<3.0.0,>=2.13.0->spacy) (3.4)\n",
      "Requirement already satisfied: urllib3<1.27,>=1.21.1 in /Users/mi_xzm/anaconda3/lib/python3.10/site-packages (from requests<3.0.0,>=2.13.0->spacy) (1.26.14)\n",
      "Collecting confection<1.0.0,>=0.0.1\n",
      "  Downloading confection-0.0.4-py3-none-any.whl (32 kB)\n",
      "Collecting blis<0.8.0,>=0.7.8\n",
      "  Downloading blis-0.7.9-cp310-cp310-macosx_10_9_x86_64.whl (6.1 MB)\n",
      "\u001b[2K     \u001b[90m━━━━━━━━━━━━━━━━━━━━━━━━━━━━━━━━━━━━━━━━\u001b[0m \u001b[32m6.1/6.1 MB\u001b[0m \u001b[31m10.9 MB/s\u001b[0m eta \u001b[36m0:00:00\u001b[0m00:01\u001b[0m00:01\u001b[0m\n",
      "\u001b[?25hRequirement already satisfied: click<9.0.0,>=7.1.1 in /Users/mi_xzm/anaconda3/lib/python3.10/site-packages (from typer<0.8.0,>=0.3.0->spacy) (8.0.4)\n",
      "Requirement already satisfied: MarkupSafe>=2.0 in /Users/mi_xzm/anaconda3/lib/python3.10/site-packages (from jinja2->spacy) (2.1.1)\n",
      "Installing collected packages: cymem, wasabi, typer, spacy-loggers, spacy-legacy, pydantic, murmurhash, langcodes, catalogue, blis, srsly, preshed, pathy, confection, thinc, spacy\n",
      "Successfully installed blis-0.7.9 catalogue-2.0.8 confection-0.0.4 cymem-2.0.7 langcodes-3.3.0 murmurhash-1.0.9 pathy-0.10.1 preshed-3.0.8 pydantic-1.10.7 spacy-3.5.1 spacy-legacy-3.0.12 spacy-loggers-1.0.4 srsly-2.4.6 thinc-8.1.9 typer-0.7.0 wasabi-1.1.1\n"
     ]
    }
   ],
   "source": [
    "!pip install spacy"
   ]
  },
  {
   "cell_type": "code",
   "execution_count": 11,
   "metadata": {},
   "outputs": [
    {
     "name": "stdout",
     "output_type": "stream",
     "text": [
      "Retrieving notices: ...working... done\n",
      "Collecting package metadata (current_repodata.json): done\n",
      "Solving environment: done\n",
      "\n",
      "\n",
      "==> WARNING: A newer version of conda exists. <==\n",
      "  current version: 23.1.0\n",
      "  latest version: 23.3.1\n",
      "\n",
      "Please update conda by running\n",
      "\n",
      "    $ conda update -n base -c conda-forge conda\n",
      "\n",
      "Or to minimize the number of packages updated during conda update use\n",
      "\n",
      "     conda install conda=23.3.1\n",
      "\n",
      "\n",
      "\n",
      "## Package Plan ##\n",
      "\n",
      "  environment location: /Users/mi_xzm/anaconda3\n",
      "\n",
      "  added / updated specs:\n",
      "    - spacy\n",
      "\n",
      "\n",
      "The following packages will be downloaded:\n",
      "\n",
      "    package                    |            build\n",
      "    ---------------------------|-----------------\n",
      "    catalogue-2.0.8            |  py310h2ec42d9_1          32 KB  conda-forge\n",
      "    commonmark-0.9.1           |             py_0          46 KB  conda-forge\n",
      "    confection-0.0.4           |  py310ha188af9_1          62 KB  conda-forge\n",
      "    cymem-2.0.7                |  py310h7a76584_1          34 KB  conda-forge\n",
      "    cython-blis-0.7.9          |  py310h936d966_1         5.6 MB  conda-forge\n",
      "    dataclasses-0.8            |     pyhc8e2a94_3          10 KB  conda-forge\n",
      "    langcodes-3.3.0            |     pyhd8ed1ab_0         156 KB  conda-forge\n",
      "    murmurhash-1.0.9           |  py310h7a76584_1          23 KB  conda-forge\n",
      "    pathy-0.10.1               |     pyhd8ed1ab_0          42 KB  conda-forge\n",
      "    preshed-3.0.8              |  py310h7a76584_1          92 KB  conda-forge\n",
      "    pydantic-1.10.7            |  py310h90acd4f_0         1.8 MB  conda-forge\n",
      "    rich-12.6.0                |     pyhd8ed1ab_0         170 KB  conda-forge\n",
      "    shellingham-1.5.1          |     pyhd8ed1ab_0          14 KB  conda-forge\n",
      "    spacy-3.5.1                |  py310h3e792ce_0         4.6 MB  conda-forge\n",
      "    spacy-legacy-3.0.12        |     pyhd8ed1ab_0          28 KB  conda-forge\n",
      "    spacy-loggers-1.0.4        |     pyhd8ed1ab_0          15 KB  conda-forge\n",
      "    srsly-2.4.6                |  py310h7a76584_0         540 KB  conda-forge\n",
      "    thinc-8.1.9                |  py310h3e792ce_0         745 KB  conda-forge\n",
      "    typer-0.7.0                |     pyhd8ed1ab_0          56 KB  conda-forge\n",
      "    wasabi-1.1.1               |  py310h2ec42d9_1          47 KB  conda-forge\n",
      "    ------------------------------------------------------------\n",
      "                                           Total:        14.1 MB\n",
      "\n",
      "The following NEW packages will be INSTALLED:\n",
      "\n",
      "  catalogue          conda-forge/osx-64::catalogue-2.0.8-py310h2ec42d9_1 \n",
      "  commonmark         conda-forge/noarch::commonmark-0.9.1-py_0 \n",
      "  confection         conda-forge/osx-64::confection-0.0.4-py310ha188af9_1 \n",
      "  cymem              conda-forge/osx-64::cymem-2.0.7-py310h7a76584_1 \n",
      "  cython-blis        conda-forge/osx-64::cython-blis-0.7.9-py310h936d966_1 \n",
      "  dataclasses        conda-forge/noarch::dataclasses-0.8-pyhc8e2a94_3 \n",
      "  langcodes          conda-forge/noarch::langcodes-3.3.0-pyhd8ed1ab_0 \n",
      "  murmurhash         conda-forge/osx-64::murmurhash-1.0.9-py310h7a76584_1 \n",
      "  pathy              conda-forge/noarch::pathy-0.10.1-pyhd8ed1ab_0 \n",
      "  preshed            conda-forge/osx-64::preshed-3.0.8-py310h7a76584_1 \n",
      "  pydantic           conda-forge/osx-64::pydantic-1.10.7-py310h90acd4f_0 \n",
      "  rich               conda-forge/noarch::rich-12.6.0-pyhd8ed1ab_0 \n",
      "  shellingham        conda-forge/noarch::shellingham-1.5.1-pyhd8ed1ab_0 \n",
      "  spacy              conda-forge/osx-64::spacy-3.5.1-py310h3e792ce_0 \n",
      "  spacy-legacy       conda-forge/noarch::spacy-legacy-3.0.12-pyhd8ed1ab_0 \n",
      "  spacy-loggers      conda-forge/noarch::spacy-loggers-1.0.4-pyhd8ed1ab_0 \n",
      "  srsly              conda-forge/osx-64::srsly-2.4.6-py310h7a76584_0 \n",
      "  thinc              conda-forge/osx-64::thinc-8.1.9-py310h3e792ce_0 \n",
      "  typer              conda-forge/noarch::typer-0.7.0-pyhd8ed1ab_0 \n",
      "  wasabi             conda-forge/osx-64::wasabi-1.1.1-py310h2ec42d9_1 \n",
      "\n",
      "\n",
      "\n",
      "Downloading and Extracting Packages\n",
      "pydantic-1.10.7      | 1.8 MB    |                                       |   0% \n",
      "murmurhash-1.0.9     | 23 KB     |                                       |   0% \u001b[A\n",
      "\n",
      "typer-0.7.0          | 56 KB     |                                       |   0% \u001b[A\u001b[A\n",
      "\n",
      "\n",
      "langcodes-3.3.0      | 156 KB    |                                       |   0% \u001b[A\u001b[A\u001b[A\n",
      "\n",
      "\n",
      "\n",
      "dataclasses-0.8      | 10 KB     |                                       |   0% \u001b[A\u001b[A\u001b[A\u001b[A\n",
      "\n",
      "\n",
      "\n",
      "\n",
      "cymem-2.0.7          | 34 KB     |                                       |   0% \u001b[A\u001b[A\u001b[A\u001b[A\u001b[A\n",
      "\n",
      "\n",
      "\n",
      "\n",
      "\n",
      "wasabi-1.1.1         | 47 KB     |                                       |   0% \u001b[A\u001b[A\u001b[A\u001b[A\u001b[A\u001b[A\n",
      "\n",
      "\n",
      "\n",
      "\n",
      "\n",
      "\n",
      "srsly-2.4.6          | 540 KB    |                                       |   0% \u001b[A\u001b[A\u001b[A\u001b[A\u001b[A\u001b[A\u001b[A\n",
      "\n",
      "\n",
      "\n",
      "\n",
      "\n",
      "\n",
      "\n",
      "rich-12.6.0          | 170 KB    |                                       |   0% \u001b[A\u001b[A\u001b[A\u001b[A\u001b[A\u001b[A\u001b[A\u001b[A\n",
      "\n",
      "\n",
      "\n",
      "\n",
      "\n",
      "\n",
      "\n",
      "\n",
      "spacy-loggers-1.0.4  | 15 KB     |                                       |   0% \u001b[A\u001b[A\u001b[A\u001b[A\u001b[A\u001b[A\u001b[A\u001b[A\u001b[A\n",
      "\n",
      "\n",
      "\n",
      "\n",
      "\n",
      "\n",
      "\n",
      "\n",
      "\n",
      "spacy-legacy-3.0.12  | 28 KB     |                                       |   0% \u001b[A\u001b[A\u001b[A\u001b[A\u001b[A\u001b[A\u001b[A\u001b[A\u001b[A\u001b[A\n",
      "\n",
      "\n",
      "\n",
      "\n",
      "\n",
      "\n",
      "\n",
      "\n",
      "\n",
      "\n",
      "commonmark-0.9.1     | 46 KB     |                                       |   0% \u001b[A\u001b[A\u001b[A\u001b[A\u001b[A\u001b[A\u001b[A\u001b[A\u001b[A\u001b[A\u001b[A\n",
      "\n",
      "\n",
      "\n",
      "\n",
      "\n",
      "\n",
      "\n",
      "\n",
      "\n",
      "\n",
      "\n",
      "preshed-3.0.8        | 92 KB     |                                       |   0% \u001b[A\u001b[A\u001b[A\u001b[A\u001b[A\u001b[A\u001b[A\u001b[A\u001b[A\u001b[A\u001b[A\u001b[A\n",
      "\n",
      "\n",
      "\n",
      "\n",
      "\n",
      "\n",
      "\n",
      "\n",
      "\n",
      "\n",
      "\n",
      "\n",
      "confection-0.0.4     | 62 KB     |                                       |   0% \u001b[A\u001b[A\u001b[A\u001b[A\u001b[A\u001b[A\u001b[A\u001b[A\u001b[A\u001b[A\u001b[A\u001b[A\u001b[A\n",
      "\n",
      "\n",
      "\n",
      "\n",
      "\n",
      "\n",
      "\n",
      "\n",
      "\n",
      "\n",
      "\n",
      "\n",
      "\n",
      "shellingham-1.5.1    | 14 KB     |                                       |   0% \u001b[A\u001b[A\u001b[A\u001b[A\u001b[A\u001b[A\u001b[A\u001b[A\u001b[A\u001b[A\u001b[A\u001b[A\u001b[A\u001b[A\n",
      "\n",
      "\n",
      "\n",
      "\n",
      "\n",
      "\n",
      "\n",
      "\n",
      "\n",
      "\n",
      "\n",
      "\n",
      "\n",
      "\n",
      "cython-blis-0.7.9    | 5.6 MB    |                                       |   0% \u001b[A\u001b[A\u001b[A\u001b[A\u001b[A\u001b[A\u001b[A\u001b[A\u001b[A\u001b[A\u001b[A\u001b[A\u001b[A\u001b[A\u001b[A\n",
      "\n",
      "\n",
      "\n",
      "\n",
      "\n",
      "\n",
      "\n",
      "\n",
      "\n",
      "\n",
      "\n",
      "\n",
      "\n",
      "\n",
      "\n",
      "spacy-3.5.1          | 4.6 MB    |                                       |   0% \u001b[A\u001b[A\u001b[A\u001b[A\u001b[A\u001b[A\u001b[A\u001b[A\u001b[A\u001b[A\u001b[A\u001b[A\u001b[A\u001b[A\u001b[A\u001b[A\n",
      "\n",
      "\n",
      "\n",
      "\n",
      "\n",
      "\n",
      "\n",
      "\n",
      "\n",
      "\n",
      "\n",
      "\n",
      "\n",
      "\n",
      "\n",
      "\n",
      "thinc-8.1.9          | 745 KB    |                                       |   0% \u001b[A\u001b[A\u001b[A\u001b[A\u001b[A\u001b[A\u001b[A\u001b[A\u001b[A\u001b[A\u001b[A\u001b[A\u001b[A\u001b[A\u001b[A\u001b[A\u001b[A\n",
      "\n",
      "\n",
      "\n",
      "\n",
      "\n",
      "\n",
      "\n",
      "\n",
      "\n",
      "\n",
      "\n",
      "\n",
      "\n",
      "\n",
      "\n",
      "\n",
      "\n",
      "catalogue-2.0.8      | 32 KB     |                                       |   0% \u001b[A\u001b[A\u001b[A\u001b[A\u001b[A\u001b[A\u001b[A\u001b[A\u001b[A\u001b[A\u001b[A\u001b[A\u001b[A\u001b[A\u001b[A\u001b[A\u001b[A\u001b[A\n",
      "\n",
      "\n",
      "\n",
      "\n",
      "\n",
      "\n",
      "\n",
      "\n",
      "\n",
      "\n",
      "\n",
      "\n",
      "\n",
      "\n",
      "\n",
      "\n",
      "\n",
      "\n",
      "pathy-0.10.1         | 42 KB     |                                       |   0% \u001b[A\u001b[A\u001b[A\u001b[A\u001b[A\u001b[A\u001b[A\u001b[A\u001b[A\u001b[A\u001b[A\u001b[A\u001b[A\u001b[A\u001b[A\u001b[A\u001b[A\u001b[A\u001b[A\n",
      "\n",
      "\n",
      "\n",
      "dataclasses-0.8      | 10 KB     | ##################################### | 100% \u001b[A\u001b[A\u001b[A\u001b[A\n",
      "\n",
      "typer-0.7.0          | 56 KB     | ##########5                           |  28% \u001b[A\u001b[A\n",
      "\n",
      "\n",
      "\n",
      "pydantic-1.10.7      | 1.8 MB    | 3                                     |   1% \u001b[A\u001b[A\u001b[A\u001b[A\n",
      "murmurhash-1.0.9     | 23 KB     | #########################2            |  68% \u001b[A\n",
      "murmurhash-1.0.9     | 23 KB     | ##################################### | 100% \u001b[A\n",
      "\n",
      "typer-0.7.0          | 56 KB     | ##################################### | 100% \u001b[A\u001b[A\n",
      "\n",
      "typer-0.7.0          | 56 KB     | ##################################### | 100% \u001b[A\u001b[A\n",
      "\n",
      "\n",
      "pydantic-1.10.7      | 1.8 MB    | ###5                                  |   9% \u001b[A\u001b[A\u001b[A\n",
      "\n",
      "\n",
      "\n",
      "\n",
      "cymem-2.0.7          | 34 KB     | #################2                    |  47% \u001b[A\u001b[A\u001b[A\u001b[A\u001b[A\n",
      "\n",
      "\n",
      "\n",
      "\n",
      "cymem-2.0.7          | 34 KB     | ##################################### | 100% \u001b[A\u001b[A\u001b[A\u001b[A\u001b[A\n",
      "\n",
      "\n",
      "\n",
      "\n",
      "\n",
      "wasabi-1.1.1         | 47 KB     | ############7                         |  34% \u001b[A\u001b[A\u001b[A\u001b[A\u001b[A\u001b[A\n",
      "\n",
      "\n",
      "\n",
      "\n",
      "\n",
      "wasabi-1.1.1         | 47 KB     | ##################################### | 100% \u001b[A\u001b[A\u001b[A\u001b[A\u001b[A\u001b[A\n",
      "\n",
      "\n",
      "pydantic-1.10.7      | 1.8 MB    | ############7                         |  34% \u001b[A\u001b[A\u001b[A\n",
      "\n",
      "\n",
      "\n",
      "\n",
      "\n",
      "\n",
      "srsly-2.4.6          | 540 KB    | #                                     |   3% \u001b[A\u001b[A\u001b[A\u001b[A\u001b[A\u001b[A\u001b[A\n",
      "\n",
      "\n",
      "\n",
      "\n",
      "\n",
      "\n",
      "\n",
      "rich-12.6.0          | 170 KB    | ###4                                  |   9% \u001b[A\u001b[A\u001b[A\u001b[A\u001b[A\u001b[A\u001b[A\u001b[A\n",
      "\n",
      "\n",
      "pydantic-1.10.7      | 1.8 MB    | ##############################8       |  83% \u001b[A\u001b[A\u001b[A\n",
      "\n",
      "\n",
      "\n",
      "\n",
      "\n",
      "\n",
      "\n",
      "rich-12.6.0          | 170 KB    | ########################3             |  66% \u001b[A\u001b[A\u001b[A\u001b[A\u001b[A\u001b[A\u001b[A\u001b[A\n",
      "\n",
      "\n",
      "\n",
      "\n",
      "\n",
      "\n",
      "srsly-2.4.6          | 540 KB    | ########7                             |  24% \u001b[A\u001b[A\u001b[A\u001b[A\u001b[A\u001b[A\u001b[A\n",
      "\n",
      "\n",
      "\n",
      "\n",
      "\n",
      "\n",
      "\n",
      "\n",
      "\n",
      "spacy-legacy-3.0.12  | 28 KB     | #####################1                |  57% \u001b[A\u001b[A\u001b[A\u001b[A\u001b[A\u001b[A\u001b[A\u001b[A\u001b[A\u001b[A\n",
      "\n",
      "\n",
      "\n",
      "\n",
      "\n",
      "\n",
      "\n",
      "\n",
      "spacy-loggers-1.0.4  | 15 KB     | ##################################### | 100% \u001b[A\u001b[A\u001b[A\u001b[A\u001b[A\u001b[A\u001b[A\u001b[A\u001b[A\n",
      "\n",
      "\n",
      "\n",
      "\n",
      "\n",
      "\n",
      "\n",
      "\n",
      "\n",
      "spacy-legacy-3.0.12  | 28 KB     | ##################################### | 100% \u001b[A\u001b[A\u001b[A\u001b[A\u001b[A\u001b[A\u001b[A\u001b[A\u001b[A\u001b[A\n",
      "\n",
      "\n",
      "\n",
      "\n",
      "\n",
      "\n",
      "\n",
      "\n",
      "spacy-loggers-1.0.4  | 15 KB     | ##################################### | 100% \u001b[A\u001b[A\u001b[A\u001b[A\u001b[A\u001b[A\u001b[A\u001b[A\u001b[A\n",
      "\n",
      "\n",
      "\n",
      "\n",
      "\n",
      "\n",
      "\n",
      "\n",
      "\n",
      "\n",
      "pydantic-1.10.7      | 1.8 MB    | ##################################### | 100% \u001b[A\u001b[A\u001b[A\u001b[A\u001b[A\u001b[A\u001b[A\u001b[A\u001b[A\u001b[A\u001b[A\n",
      "\n",
      "\n",
      "\n",
      "\n",
      "\n",
      "\n",
      "\n",
      "rich-12.6.0          | 170 KB    | ##################################### | 100% \u001b[A\u001b[A\u001b[A\u001b[A\u001b[A\u001b[A\u001b[A\u001b[A\n",
      "\n",
      "\n",
      "\n",
      "\n",
      "\n",
      "\n",
      "\n",
      "rich-12.6.0          | 170 KB    | ##################################### | 100% \u001b[A\u001b[A\u001b[A\u001b[A\u001b[A\u001b[A\u001b[A\u001b[A\n",
      "\n",
      "\n",
      "\n",
      "\n",
      "\n",
      "\n",
      "srsly-2.4.6          | 540 KB    | ###################7                  |  53% \u001b[A\u001b[A\u001b[A\u001b[A\u001b[A\u001b[A\u001b[A\n",
      "\n",
      "\n",
      "\n",
      "\n",
      "\n",
      "\n",
      "\n",
      "\n",
      "\n",
      "\n",
      "commonmark-0.9.1     | 46 KB     | ##################################### | 100% \u001b[A\u001b[A\u001b[A\u001b[A\u001b[A\u001b[A\u001b[A\u001b[A\u001b[A\u001b[A\u001b[A\n",
      "\n",
      "\n",
      "\n",
      "\n",
      "\n",
      "\n",
      "\n",
      "\n",
      "\n",
      "\n",
      "\n",
      "\n",
      "confection-0.0.4     | 62 KB     | #########4                            |  26% \u001b[A\u001b[A\u001b[A\u001b[A\u001b[A\u001b[A\u001b[A\u001b[A\u001b[A\u001b[A\u001b[A\u001b[A\u001b[A\n",
      "\n",
      "\n",
      "\n",
      "\n",
      "\n",
      "\n",
      "\n",
      "\n",
      "\n",
      "\n",
      "\n",
      "\n",
      "\n",
      "shellingham-1.5.1    | 14 KB     | ##################################### | 100% \u001b[A\u001b[A\u001b[A\u001b[A\u001b[A\u001b[A\u001b[A\u001b[A\u001b[A\u001b[A\u001b[A\u001b[A\u001b[A\u001b[A\n",
      "\n",
      "\n",
      "\n",
      "\n",
      "\n",
      "\n",
      "srsly-2.4.6          | 540 KB    | ##################################### | 100% \u001b[A\u001b[A\u001b[A\u001b[A\u001b[A\u001b[A\u001b[A\n",
      "\n",
      "\n",
      "\n",
      "\n",
      "\n",
      "\n",
      "srsly-2.4.6          | 540 KB    | ##################################### | 100% \u001b[A\u001b[A\u001b[A\u001b[A\u001b[A\u001b[A\u001b[A\n",
      "\n",
      "\n",
      "\n",
      "\n",
      "\n",
      "\n",
      "\n",
      "\n",
      "\n",
      "\n",
      "\n",
      "\n",
      "\n",
      "shellingham-1.5.1    | 14 KB     | ##################################### | 100% \u001b[A\u001b[A\u001b[A\u001b[A\u001b[A\u001b[A\u001b[A\u001b[A\u001b[A\u001b[A\u001b[A\u001b[A\u001b[A\u001b[A\n",
      "\n",
      "\n",
      "\n",
      "\n",
      "\n",
      "\n",
      "\n",
      "\n",
      "\n",
      "\n",
      "\n",
      "\n",
      "confection-0.0.4     | 62 KB     | ##################################### | 100% \u001b[A\u001b[A\u001b[A\u001b[A\u001b[A\u001b[A\u001b[A\u001b[A\u001b[A\u001b[A\u001b[A\u001b[A\u001b[A\n",
      "\n",
      "\n",
      "\n",
      "\n",
      "\n",
      "\n",
      "\n",
      "\n",
      "\n",
      "\n",
      "\n",
      "preshed-3.0.8        | 92 KB     | ######4                               |  17% \u001b[A\u001b[A\u001b[A\u001b[A\u001b[A\u001b[A\u001b[A\u001b[A\u001b[A\u001b[A\u001b[A\u001b[A\n",
      "\n",
      "\n",
      "\n",
      "\n",
      "\n",
      "\n",
      "\n",
      "\n",
      "\n",
      "\n",
      "\n",
      "\n",
      "\n",
      "\n",
      "cython-blis-0.7.9    | 5.6 MB    | 1                                     |   0% \u001b[A\u001b[A\u001b[A\u001b[A\u001b[A\u001b[A\u001b[A\u001b[A\u001b[A\u001b[A\u001b[A\u001b[A\u001b[A\u001b[A\u001b[A\n",
      "\n",
      "\n",
      "\n",
      "\n",
      "\n",
      "\n",
      "\n",
      "\n",
      "\n",
      "\n",
      "\n",
      "preshed-3.0.8        | 92 KB     | ##################################### | 100% \u001b[A\u001b[A\u001b[A\u001b[A\u001b[A\u001b[A\u001b[A\u001b[A\u001b[A\u001b[A\u001b[A\u001b[A\n",
      "\n",
      "\n",
      "\n",
      "\n",
      "\n",
      "\n",
      "\n",
      "\n",
      "\n",
      "\n",
      "\n",
      "\n",
      "\n",
      "\n",
      "\n",
      "spacy-3.5.1          | 4.6 MB    | 1                                     |   0% \u001b[A\u001b[A\u001b[A\u001b[A\u001b[A\u001b[A\u001b[A\u001b[A\u001b[A\u001b[A\u001b[A\u001b[A\u001b[A\u001b[A\u001b[A\u001b[A\n",
      "\n",
      "\n",
      "\n",
      "\n",
      "\n",
      "\n",
      "\n",
      "\n",
      "\n",
      "\n",
      "\n",
      "\n",
      "\n",
      "\n",
      "\n",
      "\n",
      "\n",
      "\n",
      "pathy-0.10.1         | 42 KB     | ##############1                       |  38% \u001b[A\u001b[A\u001b[A\u001b[A\u001b[A\u001b[A\u001b[A\u001b[A\u001b[A\u001b[A\u001b[A\u001b[A\u001b[A\u001b[A\u001b[A\u001b[A\u001b[A\u001b[A\u001b[A\n",
      "\n",
      "\n",
      "\n",
      "\n",
      "\n",
      "\n",
      "\n",
      "\n",
      "\n",
      "\n",
      "\n",
      "\n",
      "\n",
      "\n",
      "cython-blis-0.7.9    | 5.6 MB    | ##6                                   |   7% \u001b[A\u001b[A\u001b[A\u001b[A\u001b[A\u001b[A\u001b[A\u001b[A\u001b[A\u001b[A\u001b[A\u001b[A\u001b[A\u001b[A\u001b[A\n",
      "\n",
      "\n",
      "\n",
      "\n",
      "\n",
      "\n",
      "\n",
      "\n",
      "\n",
      "\n",
      "\n",
      "\n",
      "\n",
      "\n",
      "\n",
      "\n",
      "\n",
      "\n",
      "pathy-0.10.1         | 42 KB     | ##################################### | 100% \u001b[A\u001b[A\u001b[A\u001b[A\u001b[A\u001b[A\u001b[A\u001b[A\u001b[A\u001b[A\u001b[A\u001b[A\u001b[A\u001b[A\u001b[A\u001b[A\u001b[A\u001b[A\u001b[A\n",
      "\n",
      "\n",
      "\n",
      "\n",
      "\n",
      "\n",
      "\n",
      "\n",
      "\n",
      "\n",
      "\n",
      "\n",
      "\n",
      "\n",
      "\n",
      "\n",
      "thinc-8.1.9          | 745 KB    | 7                                     |   2% \u001b[A\u001b[A\u001b[A\u001b[A\u001b[A\u001b[A\u001b[A\u001b[A\u001b[A\u001b[A\u001b[A\u001b[A\u001b[A\u001b[A\u001b[A\u001b[A\u001b[A\n",
      "\n",
      "\n",
      "\n",
      "\n",
      "\n",
      "\n",
      "\n",
      "\n",
      "\n",
      "\n",
      "\n",
      "\n",
      "\n",
      "\n",
      "\n",
      "spacy-3.5.1          | 4.6 MB    | ####5                                 |  12% \u001b[A\u001b[A\u001b[A\u001b[A\u001b[A\u001b[A\u001b[A\u001b[A\u001b[A\u001b[A\u001b[A\u001b[A\u001b[A\u001b[A\u001b[A\u001b[A\n",
      "\n",
      "\n",
      "\n",
      "\n",
      "\n",
      "\n",
      "\n",
      "\n",
      "\n",
      "\n",
      "\n",
      "\n",
      "\n",
      "\n",
      "\n",
      "\n",
      "\n",
      "catalogue-2.0.8      | 32 KB     | ##################2                   |  49% \u001b[A\u001b[A\u001b[A\u001b[A\u001b[A\u001b[A\u001b[A\u001b[A\u001b[A\u001b[A\u001b[A\u001b[A\u001b[A\u001b[A\u001b[A\u001b[A\u001b[A\u001b[A\n",
      "\n",
      "\n",
      "\n",
      "\n",
      "\n",
      "\n",
      "\n",
      "\n",
      "\n",
      "\n",
      "\n",
      "\n",
      "\n",
      "\n",
      "cython-blis-0.7.9    | 5.6 MB    | ######                                |  16% \u001b[A\u001b[A\u001b[A\u001b[A\u001b[A\u001b[A\u001b[A\u001b[A\u001b[A\u001b[A\u001b[A\u001b[A\u001b[A\u001b[A\u001b[A\n",
      "\n",
      "\n",
      "\n",
      "\n",
      "\n",
      "\n",
      "\n",
      "\n",
      "\n",
      "\n",
      "\n",
      "\n",
      "\n",
      "\n",
      "\n",
      "\n",
      "\n",
      "catalogue-2.0.8      | 32 KB     | ##################################### | 100% \u001b[A\u001b[A\u001b[A\u001b[A\u001b[A\u001b[A\u001b[A\u001b[A\u001b[A\u001b[A\u001b[A\u001b[A\u001b[A\u001b[A\u001b[A\u001b[A\u001b[A\u001b[A\n",
      "\n",
      "\n",
      "\n",
      "\n",
      "\n",
      "\n",
      "\n",
      "\n",
      "\n",
      "\n",
      "\n",
      "\n",
      "\n",
      "\n",
      "\n",
      "\n",
      "thinc-8.1.9          | 745 KB    | #######1                              |  19% \u001b[A\u001b[A\u001b[A\u001b[A\u001b[A\u001b[A\u001b[A\u001b[A\u001b[A\u001b[A\u001b[A\u001b[A\u001b[A\u001b[A\u001b[A\u001b[A\u001b[A\n",
      "\n",
      "\n",
      "\n",
      "\n",
      "\n",
      "\n",
      "\n",
      "\n",
      "\n",
      "\n",
      "\n",
      "\n",
      "\n",
      "\n",
      "\n",
      "spacy-3.5.1          | 4.6 MB    | #########1                            |  25% \u001b[A\u001b[A\u001b[A\u001b[A\u001b[A\u001b[A\u001b[A\u001b[A\u001b[A\u001b[A\u001b[A\u001b[A\u001b[A\u001b[A\u001b[A\u001b[A\n",
      "\n",
      "\n",
      "\n",
      "\n",
      "\n",
      "\n",
      "\n",
      "\n",
      "\n",
      "\n",
      "\n",
      "\n",
      "\n",
      "\n",
      "cython-blis-0.7.9    | 5.6 MB    | ##########                            |  27% \u001b[A\u001b[A\u001b[A\u001b[A\u001b[A\u001b[A\u001b[A\u001b[A\u001b[A\u001b[A\u001b[A\u001b[A\u001b[A\u001b[A\u001b[A\n",
      "\n",
      "\n",
      "\n",
      "\n",
      "\n",
      "\n",
      "\n",
      "\n",
      "\n",
      "\n",
      "\n",
      "\n",
      "\n",
      "\n",
      "\n",
      "\n",
      "thinc-8.1.9          | 745 KB    | ###########9                          |  32% \u001b[A\u001b[A\u001b[A\u001b[A\u001b[A\u001b[A\u001b[A\u001b[A\u001b[A\u001b[A\u001b[A\u001b[A\u001b[A\u001b[A\u001b[A\u001b[A\u001b[A\n",
      "\n",
      "\n",
      "\n",
      "\n",
      "\n",
      "\n",
      "\n",
      "\n",
      "\n",
      "\n",
      "\n",
      "\n",
      "\n",
      "\n",
      "\n",
      "spacy-3.5.1          | 4.6 MB    | ############5                         |  34% \u001b[A\u001b[A\u001b[A\u001b[A\u001b[A\u001b[A\u001b[A\u001b[A\u001b[A\u001b[A\u001b[A\u001b[A\u001b[A\u001b[A\u001b[A\u001b[A\n",
      "\n",
      "\n",
      "\n",
      "\n",
      "\n",
      "\n",
      "\n",
      "\n",
      "\n",
      "\n",
      "\n",
      "\n",
      "\n",
      "\n",
      "cython-blis-0.7.9    | 5.6 MB    | #############2                        |  36% \u001b[A\u001b[A\u001b[A\u001b[A\u001b[A\u001b[A\u001b[A\u001b[A\u001b[A\u001b[A\u001b[A\u001b[A\u001b[A\u001b[A\u001b[A\n",
      "\n",
      "\n",
      "\n",
      "\n",
      "\n",
      "\n",
      "\n",
      "\n",
      "\n",
      "\n",
      "\n",
      "\n",
      "\n",
      "\n",
      "\n",
      "\n",
      "thinc-8.1.9          | 745 KB    | ###################                   |  52% \u001b[A\u001b[A\u001b[A\u001b[A\u001b[A\u001b[A\u001b[A\u001b[A\u001b[A\u001b[A\u001b[A\u001b[A\u001b[A\u001b[A\u001b[A\u001b[A\u001b[A\n",
      "\n",
      "\n",
      "\n",
      "\n",
      "\n",
      "\n",
      "\n",
      "\n",
      "\n",
      "\n",
      "\n",
      "\n",
      "\n",
      "\n",
      "\n",
      "spacy-3.5.1          | 4.6 MB    | ################7                     |  45% \u001b[A\u001b[A\u001b[A\u001b[A\u001b[A\u001b[A\u001b[A\u001b[A\u001b[A\u001b[A\u001b[A\u001b[A\u001b[A\u001b[A\u001b[A\u001b[A\n",
      "\n",
      "\n",
      "\n",
      "\n",
      "\n",
      "\n",
      "\n",
      "\n",
      "\n",
      "\n",
      "\n",
      "\n",
      "\n",
      "\n",
      "cython-blis-0.7.9    | 5.6 MB    | #################1                    |  46% \u001b[A\u001b[A\u001b[A\u001b[A\u001b[A\u001b[A\u001b[A\u001b[A\u001b[A\u001b[A\u001b[A\u001b[A\u001b[A\u001b[A\u001b[A\n",
      "\n",
      "\n",
      "\n",
      "\n",
      "\n",
      "\n",
      "\n",
      "\n",
      "\n",
      "\n",
      "\n",
      "\n",
      "\n",
      "\n",
      "\n",
      "spacy-3.5.1          | 4.6 MB    | #####################2                |  58% \u001b[A\u001b[A\u001b[A\u001b[A\u001b[A\u001b[A\u001b[A\u001b[A\u001b[A\u001b[A\u001b[A\u001b[A\u001b[A\u001b[A\u001b[A\u001b[A\n",
      "\n",
      "\n",
      "\n",
      "\n",
      "\n",
      "\n",
      "\n",
      "\n",
      "\n",
      "\n",
      "\n",
      "\n",
      "\n",
      "\n",
      "\n",
      "\n",
      "thinc-8.1.9          | 745 KB    | ###########################           |  73% \u001b[A\u001b[A\u001b[A\u001b[A\u001b[A\u001b[A\u001b[A\u001b[A\u001b[A\u001b[A\u001b[A\u001b[A\u001b[A\u001b[A\u001b[A\u001b[A\u001b[A\n",
      "\n",
      "\n",
      "\n",
      "\n",
      "\n",
      "\n",
      "\n",
      "\n",
      "\n",
      "\n",
      "\n",
      "\n",
      "\n",
      "\n",
      "cython-blis-0.7.9    | 5.6 MB    | #####################1                |  57% \u001b[A\u001b[A\u001b[A\u001b[A\u001b[A\u001b[A\u001b[A\u001b[A\u001b[A\u001b[A\u001b[A\u001b[A\u001b[A\u001b[A\u001b[A\n",
      "\n",
      "\n",
      "\n",
      "\n",
      "\n",
      "\n",
      "\n",
      "\n",
      "\n",
      "\n",
      "\n",
      "\n",
      "\n",
      "\n",
      "\n",
      "spacy-3.5.1          | 4.6 MB    | ##########################            |  70% \u001b[A\u001b[A\u001b[A\u001b[A\u001b[A\u001b[A\u001b[A\u001b[A\u001b[A\u001b[A\u001b[A\u001b[A\u001b[A\u001b[A\u001b[A\u001b[A\n",
      "\n",
      "\n",
      "\n",
      "\n",
      "\n",
      "\n",
      "\n",
      "\n",
      "\n",
      "\n",
      "\n",
      "\n",
      "\n",
      "\n",
      "cython-blis-0.7.9    | 5.6 MB    | #########################2            |  68% \u001b[A\u001b[A\u001b[A\u001b[A\u001b[A\u001b[A\u001b[A\u001b[A\u001b[A\u001b[A\u001b[A\u001b[A\u001b[A\u001b[A\u001b[A\n",
      "\n",
      "\n",
      "\n",
      "\n",
      "\n",
      "\n",
      "\n",
      "\n",
      "\n",
      "\n",
      "\n",
      "\n",
      "\n",
      "\n",
      "\n",
      "\n",
      "thinc-8.1.9          | 745 KB    | ################################5     |  88% \u001b[A\u001b[A\u001b[A\u001b[A\u001b[A\u001b[A\u001b[A\u001b[A\u001b[A\u001b[A\u001b[A\u001b[A\u001b[A\u001b[A\u001b[A\u001b[A\u001b[A\n",
      "\n",
      "\n",
      "\n",
      "\n",
      "\n",
      "\n",
      "\n",
      "\n",
      "\n",
      "\n",
      "\n",
      "\n",
      "\n",
      "\n",
      "\n",
      "spacy-3.5.1          | 4.6 MB    | ###############################1      |  84% \u001b[A\u001b[A\u001b[A\u001b[A\u001b[A\u001b[A\u001b[A\u001b[A\u001b[A\u001b[A\u001b[A\u001b[A\u001b[A\u001b[A\u001b[A\u001b[A\n",
      "\n",
      "\n",
      "\n",
      "\n",
      "\n",
      "\n",
      "\n",
      "\n",
      "\n",
      "\n",
      "\n",
      "\n",
      "\n",
      "\n",
      "cython-blis-0.7.9    | 5.6 MB    | ############################8         |  78% \u001b[A\u001b[A\u001b[A\u001b[A\u001b[A\u001b[A\u001b[A\u001b[A\u001b[A\u001b[A\u001b[A\u001b[A\u001b[A\u001b[A\u001b[A\n",
      "\n",
      "\n",
      "\n",
      "\n",
      "\n",
      "\n",
      "\n",
      "\n",
      "\n",
      "\n",
      "\n",
      "\n",
      "\n",
      "\n",
      "\n",
      "spacy-3.5.1          | 4.6 MB    | ###################################2  |  95% \u001b[A\u001b[A\u001b[A\u001b[A\u001b[A\u001b[A\u001b[A\u001b[A\u001b[A\u001b[A\u001b[A\u001b[A\u001b[A\u001b[A\u001b[A\u001b[A\n",
      "\n",
      "\n",
      "\n",
      "\n",
      "\n",
      "\n",
      "\n",
      "\n",
      "\n",
      "\n",
      "\n",
      "\n",
      "\n",
      "\n",
      "\n",
      "\n",
      "thinc-8.1.9          | 745 KB    | ##################################### | 100% \u001b[A\u001b[A\u001b[A\u001b[A\u001b[A\u001b[A\u001b[A\u001b[A\u001b[A\u001b[A\u001b[A\u001b[A\u001b[A\u001b[A\u001b[A\u001b[A\u001b[A\n",
      "\n",
      "\n",
      "\n",
      "\n",
      "\n",
      "\n",
      "\n",
      "\n",
      "\n",
      "\n",
      "\n",
      "\n",
      "\n",
      "\n",
      "cython-blis-0.7.9    | 5.6 MB    | ################################4     |  88% \u001b[A\u001b[A\u001b[A\u001b[A\u001b[A\u001b[A\u001b[A\u001b[A\u001b[A\u001b[A\u001b[A\u001b[A\u001b[A\u001b[A\u001b[A\n",
      "\n",
      "\n",
      "\n",
      "\n",
      "\n",
      "\n",
      "\n",
      "\n",
      "\n",
      "\n",
      "\n",
      "\n",
      "\n",
      "\n",
      "\n",
      "spacy-3.5.1          | 4.6 MB    | ##################################### | 100% \u001b[A\u001b[A\u001b[A\u001b[A\u001b[A\u001b[A\u001b[A\u001b[A\u001b[A\u001b[A\u001b[A\u001b[A\u001b[A\u001b[A\u001b[A\u001b[A\n",
      "\n",
      "\n",
      "\n",
      "\n",
      "\n",
      "\n",
      "\n",
      "\n",
      "\n",
      "\n",
      "\n",
      "\n",
      "\n",
      "\n",
      "cython-blis-0.7.9    | 5.6 MB    | ##################################### | 100% \u001b[A\u001b[A\u001b[A\u001b[A\u001b[A\u001b[A\u001b[A\u001b[A\u001b[A\u001b[A\u001b[A\u001b[A\u001b[A\u001b[A\u001b[A\n",
      "\n",
      "\n",
      "\n",
      "\n",
      "\n",
      "\n",
      "\n",
      "\n",
      "\n",
      "\n",
      "\n",
      "\n",
      "\n",
      "\n",
      "                                                                                \u001b[A\u001b[A\u001b[A\u001b[A\u001b[A\u001b[A\u001b[A\u001b[A\u001b[A\u001b[A\u001b[A\u001b[A\u001b[A\u001b[A\u001b[A\n",
      "                                                                                \u001b[A\n",
      "\n",
      "                                                                                \u001b[A\u001b[A\n",
      "\n",
      "\n",
      "                                                                                \u001b[A\u001b[A\u001b[A\n",
      "\n",
      "\n",
      "\n",
      "                                                                                \u001b[A\u001b[A\u001b[A\u001b[A\n",
      "\n",
      "\n",
      "\n",
      "\n",
      "                                                                                \u001b[A\u001b[A\u001b[A\u001b[A\u001b[A\n",
      "\n",
      "\n",
      "\n",
      "\n",
      "\n",
      "                                                                                \u001b[A\u001b[A\u001b[A\u001b[A\u001b[A\u001b[A\n",
      "\n",
      "\n",
      "\n",
      "\n",
      "\n",
      "\n",
      "                                                                                \u001b[A\u001b[A\u001b[A\u001b[A\u001b[A\u001b[A\u001b[A\n",
      "\n",
      "\n",
      "\n",
      "\n",
      "\n",
      "\n",
      "\n",
      "                                                                                \u001b[A\u001b[A\u001b[A\u001b[A\u001b[A\u001b[A\u001b[A\u001b[A\n",
      "\n",
      "\n",
      "\n",
      "\n",
      "\n",
      "\n",
      "\n",
      "\n",
      "                                                                                \u001b[A\u001b[A\u001b[A\u001b[A\u001b[A\u001b[A\u001b[A\u001b[A\u001b[A\n",
      "\n",
      "\n",
      "\n",
      "\n",
      "\n",
      "\n",
      "\n",
      "\n",
      "\n",
      "                                                                                \u001b[A\u001b[A\u001b[A\u001b[A\u001b[A\u001b[A\u001b[A\u001b[A\u001b[A\u001b[A\n",
      "\n",
      "\n",
      "\n",
      "\n",
      "\n",
      "\n",
      "\n",
      "\n",
      "\n",
      "\n",
      "                                                                                \u001b[A\u001b[A\u001b[A\u001b[A\u001b[A\u001b[A\u001b[A\u001b[A\u001b[A\u001b[A\u001b[A\n",
      "\n",
      "\n",
      "\n",
      "\n",
      "\n",
      "\n",
      "\n",
      "\n",
      "\n",
      "\n",
      "\n",
      "                                                                                \u001b[A\u001b[A\u001b[A\u001b[A\u001b[A\u001b[A\u001b[A\u001b[A\u001b[A\u001b[A\u001b[A\u001b[A\n",
      "\n",
      "\n",
      "\n",
      "\n",
      "\n",
      "\n",
      "\n",
      "\n",
      "\n",
      "\n",
      "\n",
      "\n",
      "                                                                                \u001b[A\u001b[A\u001b[A\u001b[A\u001b[A\u001b[A\u001b[A\u001b[A\u001b[A\u001b[A\u001b[A\u001b[A\u001b[A\n",
      "\n",
      "\n",
      "\n",
      "\n",
      "\n",
      "\n",
      "\n",
      "\n",
      "\n",
      "\n",
      "\n",
      "\n",
      "\n",
      "                                                                                \u001b[A\u001b[A\u001b[A\u001b[A\u001b[A\u001b[A\u001b[A\u001b[A\u001b[A\u001b[A\u001b[A\u001b[A\u001b[A\u001b[A\n",
      "\n",
      "\n",
      "\n",
      "\n",
      "\n",
      "\n",
      "\n",
      "\n",
      "\n",
      "\n",
      "\n",
      "\n",
      "\n",
      "\n",
      "                                                                                \u001b[A\u001b[A\u001b[A\u001b[A\u001b[A\u001b[A\u001b[A\u001b[A\u001b[A\u001b[A\u001b[A\u001b[A\u001b[A\u001b[A\u001b[A\n",
      "\n",
      "\n",
      "\n",
      "\n",
      "\n",
      "\n",
      "\n",
      "\n",
      "\n",
      "\n",
      "\n",
      "\n",
      "\n",
      "\n",
      "\n",
      "                                                                                \u001b[A\u001b[A\u001b[A\u001b[A\u001b[A\u001b[A\u001b[A\u001b[A\u001b[A\u001b[A\u001b[A\u001b[A\u001b[A\u001b[A\u001b[A\u001b[A\n",
      "\n",
      "\n",
      "\n",
      "\n",
      "\n",
      "\n",
      "\n",
      "\n",
      "\n",
      "\n",
      "\n",
      "\n",
      "\n",
      "\n",
      "\n",
      "\n",
      "                                                                                \u001b[A\u001b[A\u001b[A\u001b[A\u001b[A\u001b[A\u001b[A\u001b[A\u001b[A\u001b[A\u001b[A\u001b[A\u001b[A\u001b[A\u001b[A\u001b[A\u001b[A\n",
      "\n",
      "\n",
      "\n",
      "\n",
      "\n",
      "\n",
      "\n",
      "\n",
      "\n",
      "\n",
      "\n",
      "\n",
      "\n",
      "\n",
      "\n",
      "\n",
      "\n",
      "                                                                                \u001b[A\u001b[A\u001b[A\u001b[A\u001b[A\u001b[A\u001b[A\u001b[A\u001b[A\u001b[A\u001b[A\u001b[A\u001b[A\u001b[A\u001b[A\u001b[A\u001b[A\u001b[A\n",
      "\n",
      "\n",
      "\n",
      "\n",
      "\n",
      "\n",
      "\n",
      "\n",
      "\n",
      "\n",
      "\n",
      "\n",
      "\n",
      "\n",
      "\n",
      "\n",
      "\n",
      "\n",
      "                                                                                \u001b[A\u001b[A\u001b[A\u001b[A\u001b[A\u001b[A\u001b[A\u001b[A\u001b[A\u001b[A\u001b[A\u001b[A\u001b[A\u001b[A\u001b[A\u001b[A\u001b[A\u001b[A\u001b[A\n",
      "Preparing transaction: done\n",
      "Verifying transaction: done\n",
      "Executing transaction: done\n",
      "\n",
      "Note: you may need to restart the kernel to use updated packages.\n"
     ]
    }
   ],
   "source": [
    "conda install -c conda-forge spacy"
   ]
  },
  {
   "cell_type": "code",
   "execution_count": 39,
   "metadata": {},
   "outputs": [
    {
     "name": "stdout",
     "output_type": "stream",
     "text": [
      "huggingface/tokenizers: The current process just got forked, after parallelism has already been used. Disabling parallelism to avoid deadlocks...\n",
      "To disable this warning, you can either:\n",
      "\t- Avoid using `tokenizers` before the fork if possible\n",
      "\t- Explicitly set the environment variable TOKENIZERS_PARALLELISM=(true | false)\n",
      "Collecting en-core-web-trf==3.5.0\n",
      "  Downloading https://github.com/explosion/spacy-models/releases/download/en_core_web_trf-3.5.0/en_core_web_trf-3.5.0-py3-none-any.whl (460.3 MB)\n",
      "\u001b[2K     \u001b[90m━━━━━━━━━━━━━━━━━━━━━━━━━━━━━━━━━━━━━━━\u001b[0m \u001b[32m460.3/460.3 MB\u001b[0m \u001b[31m6.7 MB/s\u001b[0m eta \u001b[36m0:00:00\u001b[0m00:01\u001b[0m00:02\u001b[0m\n",
      "\u001b[?25hRequirement already satisfied: spacy-transformers<1.3.0,>=1.2.0.dev0 in /Users/mi_xzm/anaconda3/lib/python3.10/site-packages (from en-core-web-trf==3.5.0) (1.2.2)\n",
      "Requirement already satisfied: spacy<3.6.0,>=3.5.0 in /Users/mi_xzm/anaconda3/lib/python3.10/site-packages (from en-core-web-trf==3.5.0) (3.5.1)\n",
      "Requirement already satisfied: langcodes<4.0.0,>=3.2.0 in /Users/mi_xzm/anaconda3/lib/python3.10/site-packages (from spacy<3.6.0,>=3.5.0->en-core-web-trf==3.5.0) (3.3.0)\n",
      "Requirement already satisfied: typer<0.8.0,>=0.3.0 in /Users/mi_xzm/anaconda3/lib/python3.10/site-packages (from spacy<3.6.0,>=3.5.0->en-core-web-trf==3.5.0) (0.7.0)\n",
      "Requirement already satisfied: spacy-loggers<2.0.0,>=1.0.0 in /Users/mi_xzm/anaconda3/lib/python3.10/site-packages (from spacy<3.6.0,>=3.5.0->en-core-web-trf==3.5.0) (1.0.4)\n",
      "Requirement already satisfied: catalogue<2.1.0,>=2.0.6 in /Users/mi_xzm/anaconda3/lib/python3.10/site-packages (from spacy<3.6.0,>=3.5.0->en-core-web-trf==3.5.0) (2.0.8)\n",
      "Requirement already satisfied: setuptools in /Users/mi_xzm/anaconda3/lib/python3.10/site-packages (from spacy<3.6.0,>=3.5.0->en-core-web-trf==3.5.0) (67.6.1)\n",
      "Requirement already satisfied: thinc<8.2.0,>=8.1.8 in /Users/mi_xzm/anaconda3/lib/python3.10/site-packages (from spacy<3.6.0,>=3.5.0->en-core-web-trf==3.5.0) (8.1.9)\n",
      "Requirement already satisfied: pathy>=0.10.0 in /Users/mi_xzm/anaconda3/lib/python3.10/site-packages (from spacy<3.6.0,>=3.5.0->en-core-web-trf==3.5.0) (0.10.1)\n",
      "Requirement already satisfied: jinja2 in /Users/mi_xzm/anaconda3/lib/python3.10/site-packages (from spacy<3.6.0,>=3.5.0->en-core-web-trf==3.5.0) (3.1.2)\n",
      "Requirement already satisfied: smart-open<7.0.0,>=5.2.1 in /Users/mi_xzm/anaconda3/lib/python3.10/site-packages (from spacy<3.6.0,>=3.5.0->en-core-web-trf==3.5.0) (5.2.1)\n",
      "Requirement already satisfied: tqdm<5.0.0,>=4.38.0 in /Users/mi_xzm/anaconda3/lib/python3.10/site-packages (from spacy<3.6.0,>=3.5.0->en-core-web-trf==3.5.0) (4.64.1)\n",
      "Requirement already satisfied: cymem<2.1.0,>=2.0.2 in /Users/mi_xzm/anaconda3/lib/python3.10/site-packages (from spacy<3.6.0,>=3.5.0->en-core-web-trf==3.5.0) (2.0.7)\n",
      "Requirement already satisfied: pydantic!=1.8,!=1.8.1,<1.11.0,>=1.7.4 in /Users/mi_xzm/anaconda3/lib/python3.10/site-packages (from spacy<3.6.0,>=3.5.0->en-core-web-trf==3.5.0) (1.10.7)\n",
      "Requirement already satisfied: wasabi<1.2.0,>=0.9.1 in /Users/mi_xzm/anaconda3/lib/python3.10/site-packages (from spacy<3.6.0,>=3.5.0->en-core-web-trf==3.5.0) (1.1.1)\n",
      "Requirement already satisfied: packaging>=20.0 in /Users/mi_xzm/anaconda3/lib/python3.10/site-packages (from spacy<3.6.0,>=3.5.0->en-core-web-trf==3.5.0) (22.0)\n",
      "Requirement already satisfied: srsly<3.0.0,>=2.4.3 in /Users/mi_xzm/anaconda3/lib/python3.10/site-packages (from spacy<3.6.0,>=3.5.0->en-core-web-trf==3.5.0) (2.4.6)\n",
      "Requirement already satisfied: numpy>=1.15.0 in /Users/mi_xzm/anaconda3/lib/python3.10/site-packages (from spacy<3.6.0,>=3.5.0->en-core-web-trf==3.5.0) (1.23.5)\n",
      "Requirement already satisfied: murmurhash<1.1.0,>=0.28.0 in /Users/mi_xzm/anaconda3/lib/python3.10/site-packages (from spacy<3.6.0,>=3.5.0->en-core-web-trf==3.5.0) (1.0.9)\n",
      "Requirement already satisfied: spacy-legacy<3.1.0,>=3.0.11 in /Users/mi_xzm/anaconda3/lib/python3.10/site-packages (from spacy<3.6.0,>=3.5.0->en-core-web-trf==3.5.0) (3.0.12)\n",
      "Requirement already satisfied: requests<3.0.0,>=2.13.0 in /Users/mi_xzm/anaconda3/lib/python3.10/site-packages (from spacy<3.6.0,>=3.5.0->en-core-web-trf==3.5.0) (2.28.1)\n",
      "Requirement already satisfied: preshed<3.1.0,>=3.0.2 in /Users/mi_xzm/anaconda3/lib/python3.10/site-packages (from spacy<3.6.0,>=3.5.0->en-core-web-trf==3.5.0) (3.0.8)\n",
      "Requirement already satisfied: spacy-alignments<1.0.0,>=0.7.2 in /Users/mi_xzm/anaconda3/lib/python3.10/site-packages (from spacy-transformers<1.3.0,>=1.2.0.dev0->en-core-web-trf==3.5.0) (0.9.0)\n",
      "Requirement already satisfied: transformers<4.27.0,>=3.4.0 in /Users/mi_xzm/anaconda3/lib/python3.10/site-packages (from spacy-transformers<1.3.0,>=1.2.0.dev0->en-core-web-trf==3.5.0) (4.24.0)\n",
      "Requirement already satisfied: torch>=1.8.0 in /Users/mi_xzm/anaconda3/lib/python3.10/site-packages (from spacy-transformers<1.3.0,>=1.2.0.dev0->en-core-web-trf==3.5.0) (1.12.1)\n",
      "Requirement already satisfied: typing-extensions>=4.2.0 in /Users/mi_xzm/anaconda3/lib/python3.10/site-packages (from pydantic!=1.8,!=1.8.1,<1.11.0,>=1.7.4->spacy<3.6.0,>=3.5.0->en-core-web-trf==3.5.0) (4.4.0)\n",
      "Requirement already satisfied: urllib3<1.27,>=1.21.1 in /Users/mi_xzm/anaconda3/lib/python3.10/site-packages (from requests<3.0.0,>=2.13.0->spacy<3.6.0,>=3.5.0->en-core-web-trf==3.5.0) (1.26.14)\n",
      "Requirement already satisfied: certifi>=2017.4.17 in /Users/mi_xzm/anaconda3/lib/python3.10/site-packages (from requests<3.0.0,>=2.13.0->spacy<3.6.0,>=3.5.0->en-core-web-trf==3.5.0) (2022.12.7)\n",
      "Requirement already satisfied: idna<4,>=2.5 in /Users/mi_xzm/anaconda3/lib/python3.10/site-packages (from requests<3.0.0,>=2.13.0->spacy<3.6.0,>=3.5.0->en-core-web-trf==3.5.0) (3.4)\n",
      "Requirement already satisfied: charset-normalizer<3,>=2 in /Users/mi_xzm/anaconda3/lib/python3.10/site-packages (from requests<3.0.0,>=2.13.0->spacy<3.6.0,>=3.5.0->en-core-web-trf==3.5.0) (2.0.4)\n",
      "Requirement already satisfied: blis<0.8.0,>=0.7.8 in /Users/mi_xzm/anaconda3/lib/python3.10/site-packages (from thinc<8.2.0,>=8.1.8->spacy<3.6.0,>=3.5.0->en-core-web-trf==3.5.0) (0.7.9)\n",
      "Requirement already satisfied: confection<1.0.0,>=0.0.1 in /Users/mi_xzm/anaconda3/lib/python3.10/site-packages (from thinc<8.2.0,>=8.1.8->spacy<3.6.0,>=3.5.0->en-core-web-trf==3.5.0) (0.0.4)\n",
      "Requirement already satisfied: pyyaml>=5.1 in /Users/mi_xzm/anaconda3/lib/python3.10/site-packages (from transformers<4.27.0,>=3.4.0->spacy-transformers<1.3.0,>=1.2.0.dev0->en-core-web-trf==3.5.0) (6.0)\n",
      "Requirement already satisfied: huggingface-hub<1.0,>=0.10.0 in /Users/mi_xzm/anaconda3/lib/python3.10/site-packages (from transformers<4.27.0,>=3.4.0->spacy-transformers<1.3.0,>=1.2.0.dev0->en-core-web-trf==3.5.0) (0.10.1)\n",
      "Requirement already satisfied: filelock in /Users/mi_xzm/anaconda3/lib/python3.10/site-packages (from transformers<4.27.0,>=3.4.0->spacy-transformers<1.3.0,>=1.2.0.dev0->en-core-web-trf==3.5.0) (3.9.0)\n",
      "Requirement already satisfied: tokenizers!=0.11.3,<0.14,>=0.11.1 in /Users/mi_xzm/anaconda3/lib/python3.10/site-packages (from transformers<4.27.0,>=3.4.0->spacy-transformers<1.3.0,>=1.2.0.dev0->en-core-web-trf==3.5.0) (0.11.4)\n",
      "Requirement already satisfied: regex!=2019.12.17 in /Users/mi_xzm/anaconda3/lib/python3.10/site-packages (from transformers<4.27.0,>=3.4.0->spacy-transformers<1.3.0,>=1.2.0.dev0->en-core-web-trf==3.5.0) (2022.7.9)\n",
      "Requirement already satisfied: click<9.0.0,>=7.1.1 in /Users/mi_xzm/anaconda3/lib/python3.10/site-packages (from typer<0.8.0,>=0.3.0->spacy<3.6.0,>=3.5.0->en-core-web-trf==3.5.0) (8.0.4)\n",
      "Requirement already satisfied: MarkupSafe>=2.0 in /Users/mi_xzm/anaconda3/lib/python3.10/site-packages (from jinja2->spacy<3.6.0,>=3.5.0->en-core-web-trf==3.5.0) (2.1.1)\n",
      "\u001b[38;5;2m✔ Download and installation successful\u001b[0m\n",
      "You can now load the package via spacy.load('en_core_web_trf')\n",
      "huggingface/tokenizers: The current process just got forked, after parallelism has already been used. Disabling parallelism to avoid deadlocks...\n",
      "To disable this warning, you can either:\n",
      "\t- Avoid using `tokenizers` before the fork if possible\n",
      "\t- Explicitly set the environment variable TOKENIZERS_PARALLELISM=(true | false)\n",
      "Collecting en-core-web-sm==3.5.0\n",
      "  Downloading https://github.com/explosion/spacy-models/releases/download/en_core_web_sm-3.5.0/en_core_web_sm-3.5.0-py3-none-any.whl (12.8 MB)\n",
      "\u001b[2K     \u001b[90m━━━━━━━━━━━━━━━━━━━━━━━━━━━━━━━━━━━━━━━━\u001b[0m \u001b[32m12.8/12.8 MB\u001b[0m \u001b[31m8.1 MB/s\u001b[0m eta \u001b[36m0:00:00\u001b[0m00:01\u001b[0m00:01\u001b[0m\n",
      "\u001b[?25hRequirement already satisfied: spacy<3.6.0,>=3.5.0 in /Users/mi_xzm/anaconda3/lib/python3.10/site-packages (from en-core-web-sm==3.5.0) (3.5.1)\n",
      "Requirement already satisfied: typer<0.8.0,>=0.3.0 in /Users/mi_xzm/anaconda3/lib/python3.10/site-packages (from spacy<3.6.0,>=3.5.0->en-core-web-sm==3.5.0) (0.7.0)\n",
      "Requirement already satisfied: wasabi<1.2.0,>=0.9.1 in /Users/mi_xzm/anaconda3/lib/python3.10/site-packages (from spacy<3.6.0,>=3.5.0->en-core-web-sm==3.5.0) (1.1.1)\n",
      "Requirement already satisfied: langcodes<4.0.0,>=3.2.0 in /Users/mi_xzm/anaconda3/lib/python3.10/site-packages (from spacy<3.6.0,>=3.5.0->en-core-web-sm==3.5.0) (3.3.0)\n",
      "Requirement already satisfied: spacy-legacy<3.1.0,>=3.0.11 in /Users/mi_xzm/anaconda3/lib/python3.10/site-packages (from spacy<3.6.0,>=3.5.0->en-core-web-sm==3.5.0) (3.0.12)\n",
      "Requirement already satisfied: pathy>=0.10.0 in /Users/mi_xzm/anaconda3/lib/python3.10/site-packages (from spacy<3.6.0,>=3.5.0->en-core-web-sm==3.5.0) (0.10.1)\n",
      "Requirement already satisfied: spacy-loggers<2.0.0,>=1.0.0 in /Users/mi_xzm/anaconda3/lib/python3.10/site-packages (from spacy<3.6.0,>=3.5.0->en-core-web-sm==3.5.0) (1.0.4)\n",
      "Requirement already satisfied: thinc<8.2.0,>=8.1.8 in /Users/mi_xzm/anaconda3/lib/python3.10/site-packages (from spacy<3.6.0,>=3.5.0->en-core-web-sm==3.5.0) (8.1.9)\n",
      "Requirement already satisfied: srsly<3.0.0,>=2.4.3 in /Users/mi_xzm/anaconda3/lib/python3.10/site-packages (from spacy<3.6.0,>=3.5.0->en-core-web-sm==3.5.0) (2.4.6)\n",
      "Requirement already satisfied: catalogue<2.1.0,>=2.0.6 in /Users/mi_xzm/anaconda3/lib/python3.10/site-packages (from spacy<3.6.0,>=3.5.0->en-core-web-sm==3.5.0) (2.0.8)\n",
      "Requirement already satisfied: preshed<3.1.0,>=3.0.2 in /Users/mi_xzm/anaconda3/lib/python3.10/site-packages (from spacy<3.6.0,>=3.5.0->en-core-web-sm==3.5.0) (3.0.8)\n",
      "Requirement already satisfied: numpy>=1.15.0 in /Users/mi_xzm/anaconda3/lib/python3.10/site-packages (from spacy<3.6.0,>=3.5.0->en-core-web-sm==3.5.0) (1.23.5)\n",
      "Requirement already satisfied: murmurhash<1.1.0,>=0.28.0 in /Users/mi_xzm/anaconda3/lib/python3.10/site-packages (from spacy<3.6.0,>=3.5.0->en-core-web-sm==3.5.0) (1.0.9)\n",
      "Requirement already satisfied: pydantic!=1.8,!=1.8.1,<1.11.0,>=1.7.4 in /Users/mi_xzm/anaconda3/lib/python3.10/site-packages (from spacy<3.6.0,>=3.5.0->en-core-web-sm==3.5.0) (1.10.7)\n",
      "Requirement already satisfied: requests<3.0.0,>=2.13.0 in /Users/mi_xzm/anaconda3/lib/python3.10/site-packages (from spacy<3.6.0,>=3.5.0->en-core-web-sm==3.5.0) (2.28.1)\n",
      "Requirement already satisfied: jinja2 in /Users/mi_xzm/anaconda3/lib/python3.10/site-packages (from spacy<3.6.0,>=3.5.0->en-core-web-sm==3.5.0) (3.1.2)\n",
      "Requirement already satisfied: cymem<2.1.0,>=2.0.2 in /Users/mi_xzm/anaconda3/lib/python3.10/site-packages (from spacy<3.6.0,>=3.5.0->en-core-web-sm==3.5.0) (2.0.7)\n",
      "Requirement already satisfied: smart-open<7.0.0,>=5.2.1 in /Users/mi_xzm/anaconda3/lib/python3.10/site-packages (from spacy<3.6.0,>=3.5.0->en-core-web-sm==3.5.0) (5.2.1)\n",
      "Requirement already satisfied: packaging>=20.0 in /Users/mi_xzm/anaconda3/lib/python3.10/site-packages (from spacy<3.6.0,>=3.5.0->en-core-web-sm==3.5.0) (22.0)\n",
      "Requirement already satisfied: setuptools in /Users/mi_xzm/anaconda3/lib/python3.10/site-packages (from spacy<3.6.0,>=3.5.0->en-core-web-sm==3.5.0) (67.6.1)\n",
      "Requirement already satisfied: tqdm<5.0.0,>=4.38.0 in /Users/mi_xzm/anaconda3/lib/python3.10/site-packages (from spacy<3.6.0,>=3.5.0->en-core-web-sm==3.5.0) (4.64.1)\n",
      "Requirement already satisfied: typing-extensions>=4.2.0 in /Users/mi_xzm/anaconda3/lib/python3.10/site-packages (from pydantic!=1.8,!=1.8.1,<1.11.0,>=1.7.4->spacy<3.6.0,>=3.5.0->en-core-web-sm==3.5.0) (4.4.0)\n",
      "Requirement already satisfied: urllib3<1.27,>=1.21.1 in /Users/mi_xzm/anaconda3/lib/python3.10/site-packages (from requests<3.0.0,>=2.13.0->spacy<3.6.0,>=3.5.0->en-core-web-sm==3.5.0) (1.26.14)\n",
      "Requirement already satisfied: idna<4,>=2.5 in /Users/mi_xzm/anaconda3/lib/python3.10/site-packages (from requests<3.0.0,>=2.13.0->spacy<3.6.0,>=3.5.0->en-core-web-sm==3.5.0) (3.4)\n",
      "Requirement already satisfied: certifi>=2017.4.17 in /Users/mi_xzm/anaconda3/lib/python3.10/site-packages (from requests<3.0.0,>=2.13.0->spacy<3.6.0,>=3.5.0->en-core-web-sm==3.5.0) (2022.12.7)\n",
      "Requirement already satisfied: charset-normalizer<3,>=2 in /Users/mi_xzm/anaconda3/lib/python3.10/site-packages (from requests<3.0.0,>=2.13.0->spacy<3.6.0,>=3.5.0->en-core-web-sm==3.5.0) (2.0.4)\n",
      "Requirement already satisfied: blis<0.8.0,>=0.7.8 in /Users/mi_xzm/anaconda3/lib/python3.10/site-packages (from thinc<8.2.0,>=8.1.8->spacy<3.6.0,>=3.5.0->en-core-web-sm==3.5.0) (0.7.9)\n",
      "Requirement already satisfied: confection<1.0.0,>=0.0.1 in /Users/mi_xzm/anaconda3/lib/python3.10/site-packages (from thinc<8.2.0,>=8.1.8->spacy<3.6.0,>=3.5.0->en-core-web-sm==3.5.0) (0.0.4)\n",
      "Requirement already satisfied: click<9.0.0,>=7.1.1 in /Users/mi_xzm/anaconda3/lib/python3.10/site-packages (from typer<0.8.0,>=0.3.0->spacy<3.6.0,>=3.5.0->en-core-web-sm==3.5.0) (8.0.4)\n",
      "Requirement already satisfied: MarkupSafe>=2.0 in /Users/mi_xzm/anaconda3/lib/python3.10/site-packages (from jinja2->spacy<3.6.0,>=3.5.0->en-core-web-sm==3.5.0) (2.1.1)\n",
      "Installing collected packages: en-core-web-sm\n",
      "Successfully installed en-core-web-sm-3.5.0\n",
      "\u001b[38;5;2m✔ Download and installation successful\u001b[0m\n",
      "You can now load the package via spacy.load('en_core_web_sm')\n"
     ]
    }
   ],
   "source": [
    "from spacy.cli import download\n",
    "download(\"en_core_web_trf\")\n",
    "download(\"en_core_web_sm\")"
   ]
  },
  {
   "cell_type": "code",
   "execution_count": 21,
   "metadata": {},
   "outputs": [
    {
     "name": "stdout",
     "output_type": "stream",
     "text": [
      "huggingface/tokenizers: The current process just got forked, after parallelism has already been used. Disabling parallelism to avoid deadlocks...\n",
      "To disable this warning, you can either:\n",
      "\t- Avoid using `tokenizers` before the fork if possible\n",
      "\t- Explicitly set the environment variable TOKENIZERS_PARALLELISM=(true | false)\n",
      "Requirement already satisfied: spacy[transformers] in /Users/mi_xzm/anaconda3/lib/python3.10/site-packages (3.5.1)\n",
      "Requirement already satisfied: thinc<8.2.0,>=8.1.8 in /Users/mi_xzm/anaconda3/lib/python3.10/site-packages (from spacy[transformers]) (8.1.9)\n",
      "Requirement already satisfied: packaging>=20.0 in /Users/mi_xzm/anaconda3/lib/python3.10/site-packages (from spacy[transformers]) (22.0)\n",
      "Requirement already satisfied: numpy>=1.15.0 in /Users/mi_xzm/anaconda3/lib/python3.10/site-packages (from spacy[transformers]) (1.23.5)\n",
      "Requirement already satisfied: typer<0.8.0,>=0.3.0 in /Users/mi_xzm/anaconda3/lib/python3.10/site-packages (from spacy[transformers]) (0.7.0)\n",
      "Requirement already satisfied: catalogue<2.1.0,>=2.0.6 in /Users/mi_xzm/anaconda3/lib/python3.10/site-packages (from spacy[transformers]) (2.0.8)\n",
      "Requirement already satisfied: tqdm<5.0.0,>=4.38.0 in /Users/mi_xzm/anaconda3/lib/python3.10/site-packages (from spacy[transformers]) (4.64.1)\n",
      "Requirement already satisfied: jinja2 in /Users/mi_xzm/anaconda3/lib/python3.10/site-packages (from spacy[transformers]) (3.1.2)\n",
      "Requirement already satisfied: spacy-loggers<2.0.0,>=1.0.0 in /Users/mi_xzm/anaconda3/lib/python3.10/site-packages (from spacy[transformers]) (1.0.4)\n",
      "Requirement already satisfied: preshed<3.1.0,>=3.0.2 in /Users/mi_xzm/anaconda3/lib/python3.10/site-packages (from spacy[transformers]) (3.0.8)\n",
      "Requirement already satisfied: setuptools in /Users/mi_xzm/anaconda3/lib/python3.10/site-packages (from spacy[transformers]) (67.6.1)\n",
      "Requirement already satisfied: cymem<2.1.0,>=2.0.2 in /Users/mi_xzm/anaconda3/lib/python3.10/site-packages (from spacy[transformers]) (2.0.7)\n",
      "Requirement already satisfied: spacy-legacy<3.1.0,>=3.0.11 in /Users/mi_xzm/anaconda3/lib/python3.10/site-packages (from spacy[transformers]) (3.0.12)\n",
      "Requirement already satisfied: murmurhash<1.1.0,>=0.28.0 in /Users/mi_xzm/anaconda3/lib/python3.10/site-packages (from spacy[transformers]) (1.0.9)\n",
      "Requirement already satisfied: wasabi<1.2.0,>=0.9.1 in /Users/mi_xzm/anaconda3/lib/python3.10/site-packages (from spacy[transformers]) (1.1.1)\n",
      "Requirement already satisfied: smart-open<7.0.0,>=5.2.1 in /Users/mi_xzm/anaconda3/lib/python3.10/site-packages (from spacy[transformers]) (5.2.1)\n",
      "Requirement already satisfied: srsly<3.0.0,>=2.4.3 in /Users/mi_xzm/anaconda3/lib/python3.10/site-packages (from spacy[transformers]) (2.4.6)\n",
      "Requirement already satisfied: requests<3.0.0,>=2.13.0 in /Users/mi_xzm/anaconda3/lib/python3.10/site-packages (from spacy[transformers]) (2.28.1)\n",
      "Requirement already satisfied: pathy>=0.10.0 in /Users/mi_xzm/anaconda3/lib/python3.10/site-packages (from spacy[transformers]) (0.10.1)\n",
      "Requirement already satisfied: langcodes<4.0.0,>=3.2.0 in /Users/mi_xzm/anaconda3/lib/python3.10/site-packages (from spacy[transformers]) (3.3.0)\n",
      "Requirement already satisfied: pydantic!=1.8,!=1.8.1,<1.11.0,>=1.7.4 in /Users/mi_xzm/anaconda3/lib/python3.10/site-packages (from spacy[transformers]) (1.10.7)\n",
      "Requirement already satisfied: spacy-transformers<1.3.0,>=1.1.2 in /Users/mi_xzm/anaconda3/lib/python3.10/site-packages (from spacy[transformers]) (1.2.2)\n",
      "Requirement already satisfied: typing-extensions>=4.2.0 in /Users/mi_xzm/anaconda3/lib/python3.10/site-packages (from pydantic!=1.8,!=1.8.1,<1.11.0,>=1.7.4->spacy[transformers]) (4.4.0)\n",
      "Requirement already satisfied: charset-normalizer<3,>=2 in /Users/mi_xzm/anaconda3/lib/python3.10/site-packages (from requests<3.0.0,>=2.13.0->spacy[transformers]) (2.0.4)\n",
      "Requirement already satisfied: urllib3<1.27,>=1.21.1 in /Users/mi_xzm/anaconda3/lib/python3.10/site-packages (from requests<3.0.0,>=2.13.0->spacy[transformers]) (1.26.14)\n",
      "Requirement already satisfied: idna<4,>=2.5 in /Users/mi_xzm/anaconda3/lib/python3.10/site-packages (from requests<3.0.0,>=2.13.0->spacy[transformers]) (3.4)\n",
      "Requirement already satisfied: certifi>=2017.4.17 in /Users/mi_xzm/anaconda3/lib/python3.10/site-packages (from requests<3.0.0,>=2.13.0->spacy[transformers]) (2022.12.7)\n",
      "Requirement already satisfied: transformers<4.27.0,>=3.4.0 in /Users/mi_xzm/anaconda3/lib/python3.10/site-packages (from spacy-transformers<1.3.0,>=1.1.2->spacy[transformers]) (4.24.0)\n",
      "Requirement already satisfied: torch>=1.8.0 in /Users/mi_xzm/anaconda3/lib/python3.10/site-packages (from spacy-transformers<1.3.0,>=1.1.2->spacy[transformers]) (1.12.1)\n",
      "Requirement already satisfied: spacy-alignments<1.0.0,>=0.7.2 in /Users/mi_xzm/anaconda3/lib/python3.10/site-packages (from spacy-transformers<1.3.0,>=1.1.2->spacy[transformers]) (0.9.0)\n",
      "Requirement already satisfied: confection<1.0.0,>=0.0.1 in /Users/mi_xzm/anaconda3/lib/python3.10/site-packages (from thinc<8.2.0,>=8.1.8->spacy[transformers]) (0.0.4)\n",
      "Requirement already satisfied: blis<0.8.0,>=0.7.8 in /Users/mi_xzm/anaconda3/lib/python3.10/site-packages (from thinc<8.2.0,>=8.1.8->spacy[transformers]) (0.7.9)\n",
      "Requirement already satisfied: click<9.0.0,>=7.1.1 in /Users/mi_xzm/anaconda3/lib/python3.10/site-packages (from typer<0.8.0,>=0.3.0->spacy[transformers]) (8.0.4)\n",
      "Requirement already satisfied: MarkupSafe>=2.0 in /Users/mi_xzm/anaconda3/lib/python3.10/site-packages (from jinja2->spacy[transformers]) (2.1.1)\n",
      "Requirement already satisfied: huggingface-hub<1.0,>=0.10.0 in /Users/mi_xzm/anaconda3/lib/python3.10/site-packages (from transformers<4.27.0,>=3.4.0->spacy-transformers<1.3.0,>=1.1.2->spacy[transformers]) (0.10.1)\n",
      "Requirement already satisfied: regex!=2019.12.17 in /Users/mi_xzm/anaconda3/lib/python3.10/site-packages (from transformers<4.27.0,>=3.4.0->spacy-transformers<1.3.0,>=1.1.2->spacy[transformers]) (2022.7.9)\n",
      "Requirement already satisfied: tokenizers!=0.11.3,<0.14,>=0.11.1 in /Users/mi_xzm/anaconda3/lib/python3.10/site-packages (from transformers<4.27.0,>=3.4.0->spacy-transformers<1.3.0,>=1.1.2->spacy[transformers]) (0.11.4)\n",
      "Requirement already satisfied: filelock in /Users/mi_xzm/anaconda3/lib/python3.10/site-packages (from transformers<4.27.0,>=3.4.0->spacy-transformers<1.3.0,>=1.1.2->spacy[transformers]) (3.9.0)\n",
      "Requirement already satisfied: pyyaml>=5.1 in /Users/mi_xzm/anaconda3/lib/python3.10/site-packages (from transformers<4.27.0,>=3.4.0->spacy-transformers<1.3.0,>=1.1.2->spacy[transformers]) (6.0)\n"
     ]
    }
   ],
   "source": [
    "!pip install 'spacy[transformers]'"
   ]
  },
  {
   "cell_type": "code",
   "execution_count": 22,
   "metadata": {},
   "outputs": [],
   "source": [
    "import spacy_transformers"
   ]
  },
  {
   "attachments": {},
   "cell_type": "markdown",
   "metadata": {},
   "source": [
    "## Подготовка"
   ]
  },
  {
   "cell_type": "code",
   "execution_count": 69,
   "metadata": {},
   "outputs": [],
   "source": [
    "import pandas as pd\n",
    "import numpy as np\n",
    "from sklearn.feature_extraction.text import TfidfVectorizer\n",
    "\n",
    "from sklearn.tree import DecisionTreeClassifier\n",
    "import lightgbm as lgb\n",
    "from catboost import CatBoostClassifier\n",
    "from sklearn.model_selection import GridSearchCV\n",
    "from sklearn.metrics import f1_score\n",
    "from sklearn.dummy import DummyClassifier\n",
    "from sklearn.model_selection import train_test_split\n",
    "from sklearn.model_selection import cross_validate\n",
    "\n",
    "import spacy"
   ]
  },
  {
   "attachments": {},
   "cell_type": "markdown",
   "metadata": {},
   "source": [
    "**Посмотрим на исходные данные.**"
   ]
  },
  {
   "cell_type": "code",
   "execution_count": 4,
   "metadata": {},
   "outputs": [],
   "source": [
    "data = pd.read_csv('/Users/mi_xzm/Documents/YaPrac/Project_ML_texts/toxic_comments.csv')"
   ]
  },
  {
   "attachments": {},
   "cell_type": "markdown",
   "metadata": {},
   "source": [
    "<div class=\"alert alert-warning\">\n",
    "<b>Комментарий ревьюера ⚠️:</b>Да, хорошо, только лучше, чтобы и на платформе ЯП запускался код\n",
    "    \n",
    "    \n",
    "```python\n",
    "path_yandex = 'datasets/toxic_comments.csv'    \n",
    "path = 'toxic_comments.csv'\n",
    "\n",
    "if os.path.exists(path):\n",
    "    data = pd.read_csv(path, index_col=[0])\n",
    "    display(data.head(5))\n",
    "elif os.path.exists(path_yandex):\n",
    "    data = pd.read_csv(path_yandex, index_col=[0])\n",
    "    display(data.head(5))\n",
    "else:\n",
    "    print('Ошибка в считывании данных')   \n",
    "```\n",
    "\n",
    "</div>"
   ]
  },
  {
   "attachments": {},
   "cell_type": "markdown",
   "metadata": {},
   "source": [
    "<div class=\"alert alert-info\"> <b>Комментарий студента:</b> Согласен, спасибо за замечание, первый раз просто делаю работы не в Юпитере Яндекса :).</div>"
   ]
  },
  {
   "cell_type": "code",
   "execution_count": 5,
   "metadata": {},
   "outputs": [
    {
     "data": {
      "text/html": [
       "<div>\n",
       "<style scoped>\n",
       "    .dataframe tbody tr th:only-of-type {\n",
       "        vertical-align: middle;\n",
       "    }\n",
       "\n",
       "    .dataframe tbody tr th {\n",
       "        vertical-align: top;\n",
       "    }\n",
       "\n",
       "    .dataframe thead th {\n",
       "        text-align: right;\n",
       "    }\n",
       "</style>\n",
       "<table border=\"1\" class=\"dataframe\">\n",
       "  <thead>\n",
       "    <tr style=\"text-align: right;\">\n",
       "      <th></th>\n",
       "      <th>Unnamed: 0</th>\n",
       "      <th>text</th>\n",
       "      <th>toxic</th>\n",
       "    </tr>\n",
       "  </thead>\n",
       "  <tbody>\n",
       "    <tr>\n",
       "      <th>0</th>\n",
       "      <td>0</td>\n",
       "      <td>Explanation\\nWhy the edits made under my usern...</td>\n",
       "      <td>0</td>\n",
       "    </tr>\n",
       "    <tr>\n",
       "      <th>1</th>\n",
       "      <td>1</td>\n",
       "      <td>D'aww! He matches this background colour I'm s...</td>\n",
       "      <td>0</td>\n",
       "    </tr>\n",
       "    <tr>\n",
       "      <th>2</th>\n",
       "      <td>2</td>\n",
       "      <td>Hey man, I'm really not trying to edit war. It...</td>\n",
       "      <td>0</td>\n",
       "    </tr>\n",
       "    <tr>\n",
       "      <th>3</th>\n",
       "      <td>3</td>\n",
       "      <td>\"\\nMore\\nI can't make any real suggestions on ...</td>\n",
       "      <td>0</td>\n",
       "    </tr>\n",
       "    <tr>\n",
       "      <th>4</th>\n",
       "      <td>4</td>\n",
       "      <td>You, sir, are my hero. Any chance you remember...</td>\n",
       "      <td>0</td>\n",
       "    </tr>\n",
       "  </tbody>\n",
       "</table>\n",
       "</div>"
      ],
      "text/plain": [
       "   Unnamed: 0                                               text  toxic\n",
       "0           0  Explanation\\nWhy the edits made under my usern...      0\n",
       "1           1  D'aww! He matches this background colour I'm s...      0\n",
       "2           2  Hey man, I'm really not trying to edit war. It...      0\n",
       "3           3  \"\\nMore\\nI can't make any real suggestions on ...      0\n",
       "4           4  You, sir, are my hero. Any chance you remember...      0"
      ]
     },
     "execution_count": 5,
     "metadata": {},
     "output_type": "execute_result"
    }
   ],
   "source": [
    "data.head()"
   ]
  },
  {
   "attachments": {},
   "cell_type": "markdown",
   "metadata": {},
   "source": [
    "**Удалим лишний столбец.**"
   ]
  },
  {
   "cell_type": "code",
   "execution_count": 6,
   "metadata": {},
   "outputs": [
    {
     "data": {
      "text/html": [
       "<div>\n",
       "<style scoped>\n",
       "    .dataframe tbody tr th:only-of-type {\n",
       "        vertical-align: middle;\n",
       "    }\n",
       "\n",
       "    .dataframe tbody tr th {\n",
       "        vertical-align: top;\n",
       "    }\n",
       "\n",
       "    .dataframe thead th {\n",
       "        text-align: right;\n",
       "    }\n",
       "</style>\n",
       "<table border=\"1\" class=\"dataframe\">\n",
       "  <thead>\n",
       "    <tr style=\"text-align: right;\">\n",
       "      <th></th>\n",
       "      <th>text</th>\n",
       "      <th>toxic</th>\n",
       "    </tr>\n",
       "  </thead>\n",
       "  <tbody>\n",
       "    <tr>\n",
       "      <th>0</th>\n",
       "      <td>Explanation\\nWhy the edits made under my usern...</td>\n",
       "      <td>0</td>\n",
       "    </tr>\n",
       "    <tr>\n",
       "      <th>1</th>\n",
       "      <td>D'aww! He matches this background colour I'm s...</td>\n",
       "      <td>0</td>\n",
       "    </tr>\n",
       "    <tr>\n",
       "      <th>2</th>\n",
       "      <td>Hey man, I'm really not trying to edit war. It...</td>\n",
       "      <td>0</td>\n",
       "    </tr>\n",
       "    <tr>\n",
       "      <th>3</th>\n",
       "      <td>\"\\nMore\\nI can't make any real suggestions on ...</td>\n",
       "      <td>0</td>\n",
       "    </tr>\n",
       "    <tr>\n",
       "      <th>4</th>\n",
       "      <td>You, sir, are my hero. Any chance you remember...</td>\n",
       "      <td>0</td>\n",
       "    </tr>\n",
       "  </tbody>\n",
       "</table>\n",
       "</div>"
      ],
      "text/plain": [
       "                                                text  toxic\n",
       "0  Explanation\\nWhy the edits made under my usern...      0\n",
       "1  D'aww! He matches this background colour I'm s...      0\n",
       "2  Hey man, I'm really not trying to edit war. It...      0\n",
       "3  \"\\nMore\\nI can't make any real suggestions on ...      0\n",
       "4  You, sir, are my hero. Any chance you remember...      0"
      ]
     },
     "execution_count": 6,
     "metadata": {},
     "output_type": "execute_result"
    }
   ],
   "source": [
    "data = data.drop('Unnamed: 0', axis=1)\n",
    "data.head()"
   ]
  },
  {
   "attachments": {},
   "cell_type": "markdown",
   "metadata": {},
   "source": [
    "<div class=\"alert alert-success\">\n",
    "<b>Комментарий ревьюера ✔️:</b> Хорошо</div>"
   ]
  },
  {
   "cell_type": "code",
   "execution_count": 7,
   "metadata": {},
   "outputs": [
    {
     "data": {
      "text/plain": [
       "0.10161213369158527"
      ]
     },
     "execution_count": 7,
     "metadata": {},
     "output_type": "execute_result"
    }
   ],
   "source": [
    "data['toxic'].mean()"
   ]
  },
  {
   "attachments": {},
   "cell_type": "markdown",
   "metadata": {},
   "source": [
    "**Токсических комментариев 10% от общего кол-ва в выборке.**\n",
    "\n",
    "**Посмотрим на соотношение в абсолютных значениях.**"
   ]
  },
  {
   "cell_type": "code",
   "execution_count": 8,
   "metadata": {},
   "outputs": [
    {
     "data": {
      "text/plain": [
       "0    143106\n",
       "1     16186\n",
       "Name: toxic, dtype: int64"
      ]
     },
     "execution_count": 8,
     "metadata": {},
     "output_type": "execute_result"
    }
   ],
   "source": [
    "data['toxic'].value_counts()"
   ]
  },
  {
   "attachments": {},
   "cell_type": "markdown",
   "metadata": {},
   "source": [
    "**Возьмем случайную выборку от исходного датасета, чтобы сохранить в ней аналогичное соотношение классов, как в исходной выборке и сделаем всю работу на ней, т.к. мощностей не хватает для работы на полном датасете, однако, если бы мощностей было достаточно, то работа производилась бы идентичная.**"
   ]
  },
  {
   "cell_type": "code",
   "execution_count": 50,
   "metadata": {},
   "outputs": [
    {
     "data": {
      "text/plain": [
       "0.1005"
      ]
     },
     "execution_count": 50,
     "metadata": {},
     "output_type": "execute_result"
    }
   ],
   "source": [
    "df = data.sample(50000).reset_index(drop=True)\n",
    "df['toxic'].mean()"
   ]
  },
  {
   "attachments": {},
   "cell_type": "markdown",
   "metadata": {},
   "source": [
    "**Соотношение классов в новой выборке осталось аналогичным исходной.**\n",
    "\n",
    "**Проведем подготовку данных, а именно сделаем токенизация через инструменты библиотеки Spacy, параллельно при этом очистим исходный текст от стоп-слов и неалфавитных символов.**"
   ]
  },
  {
   "cell_type": "code",
   "execution_count": 51,
   "metadata": {},
   "outputs": [
    {
     "name": "stdout",
     "output_type": "stream",
     "text": [
      "CPU times: user 10min 9s, sys: 3.46 s, total: 10min 12s\n",
      "Wall time: 10min 14s\n"
     ]
    },
    {
     "data": {
      "text/html": [
       "<div>\n",
       "<style scoped>\n",
       "    .dataframe tbody tr th:only-of-type {\n",
       "        vertical-align: middle;\n",
       "    }\n",
       "\n",
       "    .dataframe tbody tr th {\n",
       "        vertical-align: top;\n",
       "    }\n",
       "\n",
       "    .dataframe thead th {\n",
       "        text-align: right;\n",
       "    }\n",
       "</style>\n",
       "<table border=\"1\" class=\"dataframe\">\n",
       "  <thead>\n",
       "    <tr style=\"text-align: right;\">\n",
       "      <th></th>\n",
       "      <th>text</th>\n",
       "      <th>toxic</th>\n",
       "      <th>lemm_text</th>\n",
       "    </tr>\n",
       "  </thead>\n",
       "  <tbody>\n",
       "    <tr>\n",
       "      <th>0</th>\n",
       "      <td>If we don't have valid citations, we shouldn't...</td>\n",
       "      <td>0</td>\n",
       "      <td>valid citation add idea add paragraph clear ne...</td>\n",
       "    </tr>\n",
       "    <tr>\n",
       "      <th>1</th>\n",
       "      <td>dr karl loves himself, fuck yourselves wikiped...</td>\n",
       "      <td>1</td>\n",
       "      <td>dr karl love fuck wikipedia fuck wikipedia</td>\n",
       "    </tr>\n",
       "    <tr>\n",
       "      <th>2</th>\n",
       "      <td>I want my page staying clean - if you dont lik...</td>\n",
       "      <td>0</td>\n",
       "      <td>want page stay clean like ban</td>\n",
       "    </tr>\n",
       "    <tr>\n",
       "      <th>3</th>\n",
       "      <td>I may not be a member of a particular wiki pro...</td>\n",
       "      <td>0</td>\n",
       "      <td>member particular wiki project work profession...</td>\n",
       "    </tr>\n",
       "    <tr>\n",
       "      <th>4</th>\n",
       "      <td>Sorry, but I still believe you are mistaken.  ...</td>\n",
       "      <td>0</td>\n",
       "      <td>sorry believe mistaken force people reveal edi...</td>\n",
       "    </tr>\n",
       "    <tr>\n",
       "      <th>...</th>\n",
       "      <td>...</td>\n",
       "      <td>...</td>\n",
       "      <td>...</td>\n",
       "    </tr>\n",
       "    <tr>\n",
       "      <th>49995</th>\n",
       "      <td>U R A FUCKIN MUSLIM ARENT U?</td>\n",
       "      <td>1</td>\n",
       "      <td>u r FUCKIN MUSLIM arent u</td>\n",
       "    </tr>\n",
       "    <tr>\n",
       "      <th>49996</th>\n",
       "      <td>Vergina Sun \\n\\nΤετρακτύς εν δρασει!\\n\\nThe Ve...</td>\n",
       "      <td>0</td>\n",
       "      <td>Vergina Sun Τετρακτύς εν δρασει Vergina Sun an...</td>\n",
       "    </tr>\n",
       "    <tr>\n",
       "      <th>49997</th>\n",
       "      <td>I have finally got around to reading the talk ...</td>\n",
       "      <td>0</td>\n",
       "      <td>finally read talk page believe inclusion Forbe...</td>\n",
       "    </tr>\n",
       "    <tr>\n",
       "      <th>49998</th>\n",
       "      <td>If it isn't Gunga-Din, the loyal water bearer ...</td>\n",
       "      <td>0</td>\n",
       "      <td>Gunga Din loyal water bearer janitor offer ser...</td>\n",
       "    </tr>\n",
       "    <tr>\n",
       "      <th>49999</th>\n",
       "      <td>Possible sources \\n\\n Thesis</td>\n",
       "      <td>0</td>\n",
       "      <td>possible source Thesis</td>\n",
       "    </tr>\n",
       "  </tbody>\n",
       "</table>\n",
       "<p>50000 rows × 3 columns</p>\n",
       "</div>"
      ],
      "text/plain": [
       "                                                    text  toxic  \\\n",
       "0      If we don't have valid citations, we shouldn't...      0   \n",
       "1      dr karl loves himself, fuck yourselves wikiped...      1   \n",
       "2      I want my page staying clean - if you dont lik...      0   \n",
       "3      I may not be a member of a particular wiki pro...      0   \n",
       "4      Sorry, but I still believe you are mistaken.  ...      0   \n",
       "...                                                  ...    ...   \n",
       "49995                       U R A FUCKIN MUSLIM ARENT U?      1   \n",
       "49996  Vergina Sun \\n\\nΤετρακτύς εν δρασει!\\n\\nThe Ve...      0   \n",
       "49997  I have finally got around to reading the talk ...      0   \n",
       "49998  If it isn't Gunga-Din, the loyal water bearer ...      0   \n",
       "49999                       Possible sources \\n\\n Thesis      0   \n",
       "\n",
       "                                               lemm_text  \n",
       "0      valid citation add idea add paragraph clear ne...  \n",
       "1             dr karl love fuck wikipedia fuck wikipedia  \n",
       "2                          want page stay clean like ban  \n",
       "3      member particular wiki project work profession...  \n",
       "4      sorry believe mistaken force people reveal edi...  \n",
       "...                                                  ...  \n",
       "49995                          u r FUCKIN MUSLIM arent u  \n",
       "49996  Vergina Sun Τετρακτύς εν δρασει Vergina Sun an...  \n",
       "49997  finally read talk page believe inclusion Forbe...  \n",
       "49998  Gunga Din loyal water bearer janitor offer ser...  \n",
       "49999                             possible source Thesis  \n",
       "\n",
       "[50000 rows x 3 columns]"
      ]
     },
     "execution_count": 51,
     "metadata": {},
     "output_type": "execute_result"
    }
   ],
   "source": [
    "%%time\n",
    "nlp = spacy.load('en_core_web_sm')#, disable=['parser', 'ner'])\n",
    "\n",
    "# токенизация, очистка от стоп-слов и символов вне англ. алфавита исходного текста\n",
    "df['lemm_text'] = df['text'].apply(\n",
    "    lambda text: \n",
    "        \" \".join(\n",
    "            token.lemma_ for token in nlp(text)\n",
    "                if token.lemma_.lower() not in nlp.Defaults.stop_words and token.is_alpha\n",
    "        )\n",
    ")\n",
    "df"
   ]
  },
  {
   "attachments": {},
   "cell_type": "markdown",
   "metadata": {},
   "source": [
    "<div class=\"alert alert-success\">\n",
    "<b>Комментарий ревьюера ✔️:</b>\n",
    "Так же можешь попробовать сделай вот так используя spacy:\n",
    "    \n",
    "```python\n",
    "import spacy\n",
    "nlp = spacy.load('en_core_web_sm')\n",
    "\n",
    "def lemmatize_spacy(text):\n",
    "    return \" \".join([token.lemma_ for token in nlp(text)])\n",
    "\n",
    "data['lemm_spacy'] = data['text'].progress_apply(lemmatize_spacy)     \n",
    "```\n",
    "\n",
    "Вот так можно следить за выполнением функции (как раз выше его использовал)\n",
    "\n",
    "```python\n",
    "    \n",
    "from tqdm import tqdm\n",
    "tqdm.pandas()\n",
    "data['text'] = data['text'].progress_apply(lemmatize_text) \n",
    "```\n",
    "Где *lemmatize_text* - функция\n",
    "\n",
    "    \n",
    "P.S Кстати можно ускорить spacy ( раз в 5 +-)\n",
    "    \n",
    "```python\n",
    "new_corpus = []\n",
    "\n",
    "for doc in tqdm(nlp.pipe(data['text'], batch_size=64, n_process=-1, disable=[\"parser\", \"ner\"]), total=len(data['text'])):\n",
    "    word_list = [tok.lemma_ for tok in doc]\n",
    "    new_corpus.append(' '.join(word_list))\n",
    "    \n",
    "data['lemm_spacy_new'] = new_corpus   \n",
    "    \n",
    "    \n",
    "```\n",
    "    \n",
    "Для больших объемов текста ```SpaCy``` рекомендует использовать ```nlp.pipe```, который может работать в пакетах ```batch_size```(Допустим ```batch_size=64```, тогда все наши данные делятся на 64 пакета (как прям в фолдах, только там мы пишем число на сколько поделить наши данные (3/5/10 частей),а тут пишем, сколько данных отдать в обработку)  и имеет встроенную поддержку многопроцессорной обработки ```n_process``` (аналог ```n_jobs``` для GridSearchCV).\n",
    "\n",
    "Кроме того, нужно убедиться, что мы отключили все элементы конвейера, которые мы не планируем использовать, поскольку они просто потратят время на обработку. Если мы выполняем только лемматизацию, то необходимо передать ```disable=[\"parser\", \"ner\"]``` к ```nlp.pipe```.\n",
    "    \n",
    "    \n",
    "P.S.S Если запустишь ```nlp.pipe```, то первое время нужно подождать прежде, чем начнется обработка \n",
    "</div>"
   ]
  },
  {
   "attachments": {},
   "cell_type": "markdown",
   "metadata": {},
   "source": [
    "<div class=\"alert alert-info\"> <b>Комментарий студента:</b> Не совсем понял по первому пункту, где progress_apply: это функция этого самого tqdm для прогресс-бара процесса исполнения кода данной строки? Если да, то что означает вот это: tqdm.pandas()? Т.е. хочется понять принцип применения этого tqdm, мы должны оборачивать этой функцией какую часть кода и как именно, видел в цикле for ты обернул ей список, если я правильно понял.\n",
    "\n",
    "Про nlp.pipe дополнительно почитаю, спасибо.</div>"
   ]
  },
  {
   "attachments": {},
   "cell_type": "markdown",
   "metadata": {},
   "source": [
    "<div class=\"alert alert-success\">\n",
    "<b>Комментарий ревьюера V2✔️:</b>\n",
    "\n",
    "tqdm.pandas() мы так объявляем, что будем использовать tqdm для пандас. Метод progress_apply очень похож на метод apply, но добавляет индикатор прогресса, который показывает, сколько времени осталось до завершения операции и сколько времени уже прошло.\n",
    "    \n",
    "+  https://tqdm.github.io/docs/tqdm/\n",
    "    \n",
    "    \n",
    "Еще можно tqdm использовать для циклов показывая прогресс бар \n",
    "\n",
    "+  https://tqdm.github.io/\n",
    "    \n",
    "P.S progress_apply это просто уже tqdm сам допил, чтобы было удобнее наблюдать;)\n",
    "</div>"
   ]
  },
  {
   "attachments": {},
   "cell_type": "markdown",
   "metadata": {},
   "source": [
    "**Разобъем нашу выборку на тренировочную и тестовую. Валидационной не будет, т.к. будем использовать кросс-валидацию.**"
   ]
  },
  {
   "cell_type": "code",
   "execution_count": 52,
   "metadata": {},
   "outputs": [
    {
     "data": {
      "text/plain": [
       "(40000, 3)"
      ]
     },
     "execution_count": 52,
     "metadata": {},
     "output_type": "execute_result"
    }
   ],
   "source": [
    "#разбиваем признаки и целевые признаки на тренировочную и тестовую выборки в соотношении 80/20\n",
    "train, test = train_test_split(df, test_size=0.2, random_state=1)\n",
    "train.shape"
   ]
  },
  {
   "cell_type": "code",
   "execution_count": 53,
   "metadata": {},
   "outputs": [
    {
     "data": {
      "text/plain": [
       "(10000, 3)"
      ]
     },
     "execution_count": 53,
     "metadata": {},
     "output_type": "execute_result"
    }
   ],
   "source": [
    "test.shape"
   ]
  },
  {
   "attachments": {},
   "cell_type": "markdown",
   "metadata": {},
   "source": [
    "**Создадим теперь корпус для тестовой и тренировочной выборок, применим TF_IDF векторизатор для получения фичей из исходного текста для тренировочной выборки, а затем на их основе создадим фичи и для тестовой выборки.**"
   ]
  },
  {
   "cell_type": "code",
   "execution_count": 54,
   "metadata": {},
   "outputs": [
    {
     "name": "stdout",
     "output_type": "stream",
     "text": [
      "CPU times: user 881 ms, sys: 10.6 ms, total: 892 ms\n",
      "Wall time: 894 ms\n"
     ]
    }
   ],
   "source": [
    "%%time\n",
    "corpus_train = train['lemm_text']\n",
    "corpus_test = test['lemm_text']\n",
    "\n",
    "count_tf_idf_train = TfidfVectorizer()\n",
    "\n",
    "features_train = count_tf_idf_train.fit_transform(corpus_train)\n",
    "target_train = train['toxic']\n",
    "features_test = count_tf_idf_train.transform(corpus_test)\n",
    "target_test = test['toxic']"
   ]
  },
  {
   "attachments": {},
   "cell_type": "markdown",
   "metadata": {},
   "source": [
    "<div class=\"alert alert-success\">\n",
    "<b>Комментарий ревьюера ✔️:</b> Отлично, молодец, верно используешь Tfidf.\n",
    "    \n",
    "    \n",
    "Совет: Внутри кросс-валидации происходит разбиение выборки на train и valid. Однако, в таком случае векторизатор обучен на всей выборке(train), а это не совсем корректно. Чтобы избежать это можно воспользоваться Pipeline:\n",
    "    \n",
    "```python\n",
    "pipeline = Pipeline([\n",
    "    ('tfidf', TfidfVectorizer(stop_words=stopwords)),\n",
    "    ('logreg', LogisticRegression(random_state=42)),\n",
    "])\n",
    "parameters = {\n",
    "    'tfidf__max_df': (0.25, 0.5, 0.75),\n",
    "    'tfidf__ngram_range': [(1, 1), (1, 2), (1, 3)],\n",
    "    'logreg__C': [1,2,6]\n",
    "}\n",
    "\n",
    "grid_search_tune = RandomizedSearchCV(pipeline, parameters, cv=3, n_jobs=-1, scoring='f1', verbose=3)\n",
    "grid_search_tune.fit(train_features, train_targets)\n",
    "  \n",
    "    \n",
    "```\n",
    "    \n",
    "Это просто каркас, можешь сам выбрать какие параметры использовать для подбора:) \n",
    "    \n",
    "+  https://runebook.dev/ru/docs/scikit_learn/modules/generated/sklearn.model_selection.halvinggridsearchcv - тут про HalvingGridSearchCV\n",
    "    \n",
    "+  https://www.rupython.com/python-sklearn-pipeline-pipeline-28301.html - про pipeline\n",
    "+  https://towardsdatascience.com/how-to-use-sklearn-pipelines-for-ridiculously-neat-code-a61ab66ca90d\n",
    "\n",
    "</div>"
   ]
  },
  {
   "attachments": {},
   "cell_type": "markdown",
   "metadata": {},
   "source": [
    "<div class=\"alert alert-info\"> <b>Комментарий студента:</b> Спасибо, про пайплайны почитаю, слышал о них, но ранее не использовал. По поводу обучения на всем трейне, в который включается валидационная часть - абсолютно согласен. Имеет ли смысл использовать тогда просто разбиение на отдельно трейн и валид выборки, если не хотим использовать пайплайн для получения более \"честного\" результата? </div>"
   ]
  },
  {
   "attachments": {},
   "cell_type": "markdown",
   "metadata": {},
   "source": [
    "<div class=\"alert alert-success\">\n",
    "<b>Комментарий ревьюера V2✔️:</b> Имеешь ввиду, что если хочешь отказаться от pipeline, но при этом делать на три выборки, чтобы после кросс валидации еще и провалидироваться? Это не имеет смысла, так как валидационная выборка будет выступать в роли теста по сути (мы два раза проведем тест) + жалко данные(которые почти никак не используются) + кросс валидации гораздо более показательна, так как мы берем среднее\n",
    "    \n",
    "    \n",
    "+  https://academy.yandex.ru/handbook/ml/article/kross-validaciya\n",
    "+  https://academy.yandex.ru/handbook/ml/article/podbor-giperparametrov\n",
    "</div>"
   ]
  },
  {
   "attachments": {},
   "cell_type": "markdown",
   "metadata": {},
   "source": [
    "## Обучение"
   ]
  },
  {
   "attachments": {},
   "cell_type": "markdown",
   "metadata": {},
   "source": [
    "### Модель классификатор решающего дерева"
   ]
  },
  {
   "attachments": {},
   "cell_type": "markdown",
   "metadata": {},
   "source": [
    "**Будем использовать GridSearchCV со встроенной кросс-валидацией для поиска наилучшего результата метрики f1, которую мы используем в качестве оценки нашей модели по условию задачи.**"
   ]
  },
  {
   "cell_type": "code",
   "execution_count": 67,
   "metadata": {},
   "outputs": [
    {
     "name": "stdout",
     "output_type": "stream",
     "text": [
      "CPU times: user 17.5 s, sys: 163 ms, total: 17.6 s\n",
      "Wall time: 17.6 s\n"
     ]
    },
    {
     "data": {
      "text/plain": [
       "{'criterion': 'gini', 'max_depth': 7}"
      ]
     },
     "execution_count": 67,
     "metadata": {},
     "output_type": "execute_result"
    }
   ],
   "source": [
    "%%time\n",
    "model_tree = DecisionTreeClassifier(random_state=1)\n",
    "param = {\n",
    "         'criterion': ['gini', 'entropy'],\n",
    "         'max_depth': range(1, 10, 3)\n",
    "        }\n",
    "gridsearch_tree = GridSearchCV(\n",
    "    estimator=model_tree, \n",
    "    param_grid=param, \n",
    "    scoring='f1', \n",
    "    cv=3)\n",
    "gridsearch_tree.fit(features_train, target_train)\n",
    "gridsearch_tree.best_params_"
   ]
  },
  {
   "attachments": {},
   "cell_type": "markdown",
   "metadata": {},
   "source": [
    "**Посмотрим теперь, какой наилучший результат метрики f1 удалось достигнуть данной моделью.**"
   ]
  },
  {
   "cell_type": "code",
   "execution_count": 68,
   "metadata": {},
   "outputs": [
    {
     "data": {
      "text/plain": [
       "0.547"
      ]
     },
     "execution_count": 68,
     "metadata": {},
     "output_type": "execute_result"
    }
   ],
   "source": [
    "f1_train_tree = round(gridsearch_tree.best_score_, 3)\n",
    "f1_train_tree"
   ]
  },
  {
   "attachments": {},
   "cell_type": "markdown",
   "metadata": {},
   "source": [
    "### Модель классификатор CatBoost"
   ]
  },
  {
   "attachments": {},
   "cell_type": "markdown",
   "metadata": {},
   "source": [
    "**Будем использовать GridSearchCV со встроенной кросс-валидацией для поиска наилучшего результата метрики f1, которую мы используем в качестве оценки нашей модели по условию задачи. Выведем это значение метрики f1.**"
   ]
  },
  {
   "cell_type": "code",
   "execution_count": 61,
   "metadata": {},
   "outputs": [
    {
     "name": "stdout",
     "output_type": "stream",
     "text": [
      "CPU times: user 30min 4s, sys: 35.1 s, total: 30min 39s\n",
      "Wall time: 5min 56s\n"
     ]
    },
    {
     "data": {
      "text/plain": [
       "0.691"
      ]
     },
     "execution_count": 61,
     "metadata": {},
     "output_type": "execute_result"
    }
   ],
   "source": [
    "%%time\n",
    "model = CatBoostClassifier(silent=True, random_state=1)\n",
    "param = {}\n",
    "gridsearch = GridSearchCV(\n",
    "    estimator=model, \n",
    "    param_grid=param, \n",
    "    scoring='f1', \n",
    "    cv=3)\n",
    "gridsearch.fit(features_train, target_train)"
   ]
  },
  {
   "attachments": {},
   "cell_type": "markdown",
   "metadata": {},
   "source": [
    "<div class=\"alert alert-success\">\n",
    "<b>Комментарий ревьюера ✔️:</b> Для Catboost будет лучше на самом деле воспользовать внутренним кодированием:\n",
    "    \n",
    "    \n",
    "+  https://colab.research.google.com/drive/1bQOXIKpeyGZgda2qQqDijE2SIbSGX7-Z?usp=sharing    \n",
    "</div>"
   ]
  },
  {
   "attachments": {},
   "cell_type": "markdown",
   "metadata": {},
   "source": [
    "<div class=\"alert alert-info\"> <b>Комментарий студента:</b> Имеешь в виду грузить сразу \"сырой\" текст в него? Или всё-таки необходимо его сначала очистить от спец-символов и стоп-слов?\n",
    "\n",
    "Насколько кстати имеет смысл делать gridsearchCV для CatBoost'a с точки зрения подбора гиперпараметров? Слышал, что данная модель при жонглировании гиперпараметрами позволяет лишь чуть улучшить метрику, что справедливо для всяких кагловских соревнований только. Так ли это по твоему опыту?</div>"
   ]
  },
  {
   "attachments": {},
   "cell_type": "markdown",
   "metadata": {},
   "source": [
    "<div class=\"alert alert-success\">\n",
    "<b>Комментарий ревьюера V2✔️:</b> Можно поэксперементировать, загрузить сырой или обработать \n",
    "    \n",
    "    \n",
    "Да, в приницпе CatBoost работает из коробки уже хорошо, единственное стоит подобрать learning rate и кол-во итераций (чтобы модель точно сошлась)\n",
    "</div>"
   ]
  },
  {
   "attachments": {},
   "cell_type": "markdown",
   "metadata": {},
   "source": [
    "<div class=\"alert alert-success\">\n",
    "<b>Комментарий ревьюера ✔️:</b> Можешь воспользоваться кросс валидацией cross_val_score</div>"
   ]
  },
  {
   "attachments": {},
   "cell_type": "markdown",
   "metadata": {},
   "source": [
    "## Анализ моделей"
   ]
  },
  {
   "attachments": {},
   "cell_type": "markdown",
   "metadata": {},
   "source": [
    "**Лучше из данных двух моделей проявила себя модель CatBoost. Проверим теперь, какой результат метрики f1 данная модель покажет на тестовой выборке.**"
   ]
  },
  {
   "cell_type": "code",
   "execution_count": 62,
   "metadata": {},
   "outputs": [
    {
     "name": "stdout",
     "output_type": "stream",
     "text": [
      "CPU times: user 188 ms, sys: 8.69 ms, total: 197 ms\n",
      "Wall time: 77 ms\n"
     ]
    },
    {
     "data": {
      "text/plain": [
       "0.7565011820330969"
      ]
     },
     "execution_count": 62,
     "metadata": {},
     "output_type": "execute_result"
    }
   ],
   "source": [
    "%%time\n",
    "predictions_test = gridsearch.best_estimator_.predict(features_test)\n",
    "f1_test = f1_score(target_test, predictions_test)\n",
    "f1_test"
   ]
  },
  {
   "attachments": {},
   "cell_type": "markdown",
   "metadata": {},
   "source": [
    "**Удалось получить на тестовой выборке значение метрики f1 выше 0.75, что удовлетворяет исходной задаче.**"
   ]
  },
  {
   "attachments": {},
   "cell_type": "markdown",
   "metadata": {},
   "source": [
    "## Проверка моделей на адекватность"
   ]
  },
  {
   "attachments": {},
   "cell_type": "markdown",
   "metadata": {},
   "source": [
    "**Проверим модель на адекватность с помощью Dummy Model из класса sklearn, предварительно импортировав ее в первом пункте.**\n",
    "\n",
    "**Проверка состоит в том, чтобы качество выбранной выше обученной модели было выше, чем качество модели Dummy, которая предсказывает результат не опираясь на признаки тренировочной выборки.**"
   ]
  },
  {
   "cell_type": "code",
   "execution_count": 73,
   "metadata": {},
   "outputs": [
    {
     "name": "stdout",
     "output_type": "stream",
     "text": [
      "Лучшее значение метрики f1 для Dummy-модели на тренировочной выборке = 0.16992010542788896\n"
     ]
    }
   ],
   "source": [
    "model_dummy = DummyClassifier(random_state=10)\n",
    "parameters_dummy = {'strategy':['most_frequent', 'prior', 'stratified', 'uniform'],\n",
    "                   }\n",
    "gridsearch_dummy = GridSearchCV(\n",
    "    estimator=model_dummy, \n",
    "    param_grid=parameters_dummy, \n",
    "    scoring='f1', \n",
    "    cv=3, n_jobs=-1)\n",
    "gridsearch_dummy.fit(features_train, target_train)\n",
    "print('Лучшее значение метрики f1 для Dummy-модели на тренировочной выборке =', gridsearch_dummy.best_score_)"
   ]
  },
  {
   "cell_type": "code",
   "execution_count": 76,
   "metadata": {},
   "outputs": [
    {
     "name": "stdout",
     "output_type": "stream",
     "text": [
      "Лучшее значение метрики f1 для Dummy-модели на тестовой выборке = 0.15450785773366418\n"
     ]
    }
   ],
   "source": [
    "predict_dummy = gridsearch_dummy.best_estimator_.predict(features_test)\n",
    "print('Лучшее значение метрики f1 для Dummy-модели на тестовой выборке =', f1_score(target_test, predict_dummy))"
   ]
  },
  {
   "attachments": {},
   "cell_type": "markdown",
   "metadata": {},
   "source": [
    "## Выводы"
   ]
  },
  {
   "attachments": {},
   "cell_type": "markdown",
   "metadata": {},
   "source": [
    "**В итоге с помощью Dummy модели удалось получить наилучшее качество модели с f1 равным 0.16 на тестовой выборке, что значительно ниже наилучшего результата выбранной и обученной модели CatBoost. Что доказывает адекватность найденной и выбранной нами модели.**"
   ]
  },
  {
   "attachments": {},
   "cell_type": "markdown",
   "metadata": {},
   "source": [
    "<div class=\"alert alert-success\">\n",
    "<b>Комментарий ревьюера ✔️:</b> \n",
    "\n",
    "Для работы с текстами используют и другие подходы. Например, сейчас активно используются RNN (LSTM) и трансформеры (BERT и другие с улицы Сезам, например, ELMO). НО! Они не являются панацеей, не всегда они нужны, так как и TF-IDF или Word2Vec + модели из классического ML тоже могут справляться. \\\n",
    "BERT тяжелый, существует много его вариаций для разных задач, есть готовые модели, есть надстройки над библиотекой transformers. Если, обучать BERT на GPU (можно в Google Colab или Kaggle), то должно быть побыстрее.\\\n",
    "https://huggingface.co/transformers/model_doc/bert.html \\\n",
    "https://t.me/renat_alimbekov \\\n",
    "https://colah.github.io/posts/2015-08-Understanding-LSTMs/ - Про LSTM \\\n",
    "https://web.stanford.edu/~jurafsky/slp3/10.pdf - про энкодер-декодер модели, этеншены\\\n",
    "https://pytorch.org/tutorials/beginner/transformer_tutorial.html - официальный гайд\n",
    "по трансформеру от создателей pytorch\\\n",
    "https://transformer.huggingface.co/ - поболтать с трансформером \\\n",
    "Библиотеки: allennlp, fairseq, transformers, tensorflow-text — множество реализованных\n",
    "методов для трансформеров методов NLP \\\n",
    "Word2Vec https://radimrehurek.com/gensim/models/word2vec.html \n",
    "    \n",
    "</div>"
   ]
  }
 ],
 "metadata": {
  "ExecuteTimeLog": [
   {
    "duration": 3563,
    "start_time": "2023-03-31T22:01:11.694Z"
   },
   {
    "duration": 21,
    "start_time": "2023-03-31T22:01:36.413Z"
   },
   {
    "duration": 8,
    "start_time": "2023-03-31T22:02:45.400Z"
   },
   {
    "duration": 7,
    "start_time": "2023-03-31T22:04:32.715Z"
   },
   {
    "duration": 10,
    "start_time": "2023-03-31T22:05:21.387Z"
   },
   {
    "duration": 1099,
    "start_time": "2023-03-31T22:10:16.966Z"
   },
   {
    "duration": 1592,
    "start_time": "2023-04-01T10:06:03.484Z"
   },
   {
    "duration": 3380,
    "start_time": "2023-04-01T10:06:06.164Z"
   },
   {
    "duration": 14,
    "start_time": "2023-04-01T10:06:12.222Z"
   },
   {
    "duration": 147,
    "start_time": "2023-04-01T10:06:41.265Z"
   },
   {
    "duration": 15,
    "start_time": "2023-04-01T10:06:53.865Z"
   },
   {
    "duration": 7,
    "start_time": "2023-04-01T10:10:08.990Z"
   },
   {
    "duration": 12,
    "start_time": "2023-04-01T10:10:35.665Z"
   },
   {
    "duration": 3463,
    "start_time": "2023-04-01T10:14:05.713Z"
   },
   {
    "duration": 287,
    "start_time": "2023-04-01T10:16:02.469Z"
   },
   {
    "duration": 653,
    "start_time": "2023-04-01T10:16:22.453Z"
   },
   {
    "duration": 1204,
    "start_time": "2023-04-01T10:18:27.906Z"
   },
   {
    "duration": 19,
    "start_time": "2023-04-01T10:18:42.030Z"
   },
   {
    "duration": 4,
    "start_time": "2023-04-01T10:18:50.140Z"
   },
   {
    "duration": 5,
    "start_time": "2023-04-01T10:19:05.116Z"
   },
   {
    "duration": 14,
    "start_time": "2023-04-01T10:19:20.925Z"
   },
   {
    "duration": 19,
    "start_time": "2023-04-01T10:19:37.527Z"
   },
   {
    "duration": 20,
    "start_time": "2023-04-01T10:19:41.440Z"
   },
   {
    "duration": 8,
    "start_time": "2023-04-01T10:19:59.037Z"
   },
   {
    "duration": 18,
    "start_time": "2023-04-01T10:20:13.740Z"
   },
   {
    "duration": 6,
    "start_time": "2023-04-01T10:20:17.618Z"
   },
   {
    "duration": 7,
    "start_time": "2023-04-01T10:20:36.945Z"
   },
   {
    "duration": 22928,
    "start_time": "2023-04-01T10:23:56.885Z"
   },
   {
    "duration": 455,
    "start_time": "2023-04-01T10:24:23.298Z"
   },
   {
    "duration": 694,
    "start_time": "2023-04-01T10:26:30.465Z"
   },
   {
    "duration": 82,
    "start_time": "2023-04-01T10:28:18.141Z"
   },
   {
    "duration": 851,
    "start_time": "2023-04-01T10:36:35.532Z"
   },
   {
    "duration": 844,
    "start_time": "2023-04-01T10:37:36.586Z"
   },
   {
    "duration": 475,
    "start_time": "2023-04-01T10:41:31.068Z"
   },
   {
    "duration": 7,
    "start_time": "2023-04-01T10:43:57.506Z"
   },
   {
    "duration": 482,
    "start_time": "2023-04-01T10:44:00.405Z"
   },
   {
    "duration": 8,
    "start_time": "2023-04-01T10:45:20.146Z"
   },
   {
    "duration": 11,
    "start_time": "2023-04-01T10:45:50.701Z"
   },
   {
    "duration": 8735,
    "start_time": "2023-04-01T10:45:54.557Z"
   },
   {
    "duration": 86,
    "start_time": "2023-04-01T10:46:08.441Z"
   },
   {
    "duration": 86,
    "start_time": "2023-04-01T10:46:54.793Z"
   },
   {
    "duration": 29,
    "start_time": "2023-04-01T10:48:05.454Z"
   },
   {
    "duration": 109,
    "start_time": "2023-04-01T10:48:20.364Z"
   },
   {
    "duration": 84,
    "start_time": "2023-04-01T10:51:00.742Z"
   },
   {
    "duration": 3,
    "start_time": "2023-04-01T10:54:52.398Z"
   },
   {
    "duration": 835,
    "start_time": "2023-04-01T10:57:47.179Z"
   },
   {
    "duration": 785,
    "start_time": "2023-04-01T10:58:43.741Z"
   },
   {
    "duration": 11,
    "start_time": "2023-04-01T10:59:11.146Z"
   },
   {
    "duration": 6926,
    "start_time": "2023-04-01T10:59:18.621Z"
   },
   {
    "duration": 9,
    "start_time": "2023-04-01T11:00:15.688Z"
   },
   {
    "duration": 7604,
    "start_time": "2023-04-01T11:00:18.058Z"
   },
   {
    "duration": 10,
    "start_time": "2023-04-01T11:01:26.760Z"
   },
   {
    "duration": 7831,
    "start_time": "2023-04-01T11:01:29.086Z"
   },
   {
    "duration": 10,
    "start_time": "2023-04-01T11:05:55.151Z"
   },
   {
    "duration": 20,
    "start_time": "2023-04-01T11:05:59.566Z"
   },
   {
    "duration": 7260,
    "start_time": "2023-04-01T11:06:20.493Z"
   },
   {
    "duration": 67,
    "start_time": "2023-04-01T11:08:55.945Z"
   },
   {
    "duration": 61,
    "start_time": "2023-04-01T11:09:22.380Z"
   },
   {
    "duration": 79112,
    "start_time": "2023-04-01T11:11:35.061Z"
   },
   {
    "duration": 85013,
    "start_time": "2023-04-01T11:17:01.494Z"
   },
   {
    "duration": 176499,
    "start_time": "2023-04-01T11:21:22.624Z"
   },
   {
    "duration": 2,
    "start_time": "2023-04-01T11:24:41.446Z"
   },
   {
    "duration": 294,
    "start_time": "2023-04-01T11:25:22.740Z"
   },
   {
    "duration": 601,
    "start_time": "2023-04-01T11:25:34.577Z"
   },
   {
    "duration": 19,
    "start_time": "2023-04-01T11:41:28.102Z"
   },
   {
    "duration": 22,
    "start_time": "2023-04-01T11:42:35.325Z"
   },
   {
    "duration": 4,
    "start_time": "2023-04-01T11:42:41.508Z"
   },
   {
    "duration": 8,
    "start_time": "2023-04-01T11:42:46.625Z"
   },
   {
    "duration": 3,
    "start_time": "2023-04-01T11:46:32.485Z"
   },
   {
    "duration": 581,
    "start_time": "2023-04-01T11:50:35.066Z"
   },
   {
    "duration": 19059,
    "start_time": "2023-04-01T11:50:42.516Z"
   },
   {
    "duration": 5,
    "start_time": "2023-04-01T11:51:14.270Z"
   },
   {
    "duration": 7,
    "start_time": "2023-04-01T11:51:17.350Z"
   },
   {
    "duration": 8,
    "start_time": "2023-04-01T11:51:27.940Z"
   },
   {
    "duration": 54303,
    "start_time": "2023-04-01T11:52:40.194Z"
   },
   {
    "duration": 4,
    "start_time": "2023-04-01T11:54:12.635Z"
   },
   {
    "duration": 15,
    "start_time": "2023-04-01T11:54:15.479Z"
   },
   {
    "duration": 9382,
    "start_time": "2023-04-01T11:54:57.271Z"
   },
   {
    "duration": 5,
    "start_time": "2023-04-01T11:55:12.376Z"
   },
   {
    "duration": 10,
    "start_time": "2023-04-01T11:55:14.965Z"
   },
   {
    "duration": 16840,
    "start_time": "2023-04-01T11:55:29.275Z"
   },
   {
    "duration": 5,
    "start_time": "2023-04-01T11:55:49.860Z"
   },
   {
    "duration": 9,
    "start_time": "2023-04-01T11:55:52.056Z"
   },
   {
    "duration": 15,
    "start_time": "2023-04-01T11:56:11.658Z"
   },
   {
    "duration": 77792,
    "start_time": "2023-04-01T11:56:15.325Z"
   },
   {
    "duration": 9,
    "start_time": "2023-04-01T11:57:39.907Z"
   },
   {
    "duration": 520,
    "start_time": "2023-04-01T11:57:42.756Z"
   },
   {
    "duration": 16903,
    "start_time": "2023-04-01T11:57:46.320Z"
   },
   {
    "duration": 3,
    "start_time": "2023-04-01T11:58:08.233Z"
   },
   {
    "duration": 9,
    "start_time": "2023-04-01T11:58:11.034Z"
   },
   {
    "duration": 27,
    "start_time": "2023-04-01T11:58:32.966Z"
   },
   {
    "duration": 748098,
    "start_time": "2023-04-01T11:58:36.517Z"
   },
   {
    "duration": 40,
    "start_time": "2023-04-01T12:12:32.922Z"
   },
   {
    "duration": 5361,
    "start_time": "2023-04-01T12:12:35.318Z"
   },
   {
    "duration": 622804,
    "start_time": "2023-04-01T12:13:31.822Z"
   },
   {
    "duration": 5,
    "start_time": "2023-04-01T12:24:03.656Z"
   },
   {
    "duration": 64,
    "start_time": "2023-04-01T12:24:06.557Z"
   },
   {
    "duration": 29,
    "start_time": "2023-04-01T12:29:28.905Z"
   },
   {
    "duration": 4,
    "start_time": "2023-04-01T12:29:30.893Z"
   },
   {
    "duration": 2898,
    "start_time": "2023-04-01T12:31:39.310Z"
   },
   {
    "duration": 23,
    "start_time": "2023-04-01T12:39:32.416Z"
   },
   {
    "duration": 12,
    "start_time": "2023-04-01T12:39:41.864Z"
   },
   {
    "duration": 77443,
    "start_time": "2023-04-01T12:39:46.213Z"
   },
   {
    "duration": 9,
    "start_time": "2023-04-01T12:41:28.098Z"
   },
   {
    "duration": 4,
    "start_time": "2023-04-01T12:41:29.894Z"
   },
   {
    "duration": 320,
    "start_time": "2023-04-01T12:41:31.505Z"
   },
   {
    "duration": 218105,
    "start_time": "2023-04-01T12:41:34.337Z"
   },
   {
    "duration": 223414,
    "start_time": "2023-04-01T12:46:45.905Z"
   },
   {
    "duration": 3057,
    "start_time": "2023-04-01T12:54:08.779Z"
   },
   {
    "duration": 314,
    "start_time": "2023-04-01T12:56:04.354Z"
   },
   {
    "duration": 319,
    "start_time": "2023-04-01T12:57:48.744Z"
   },
   {
    "duration": 108,
    "start_time": "2023-04-01T12:59:22.545Z"
   },
   {
    "duration": 286721,
    "start_time": "2023-04-01T12:59:57.165Z"
   },
   {
    "duration": 10830,
    "start_time": "2023-04-04T16:23:12.311Z"
   },
   {
    "duration": 2780,
    "start_time": "2023-04-04T16:23:26.430Z"
   },
   {
    "duration": 17,
    "start_time": "2023-04-04T16:23:30.851Z"
   },
   {
    "duration": 16,
    "start_time": "2023-04-04T16:23:34.064Z"
   },
   {
    "duration": 6,
    "start_time": "2023-04-04T16:23:38.170Z"
   },
   {
    "duration": 9,
    "start_time": "2023-04-04T16:23:42.788Z"
   },
   {
    "duration": 11,
    "start_time": "2023-04-04T16:24:56.259Z"
   },
   {
    "duration": 9620,
    "start_time": "2023-04-04T16:26:00.392Z"
   },
   {
    "duration": 7,
    "start_time": "2023-04-04T16:26:56.740Z"
   },
   {
    "duration": 3,
    "start_time": "2023-04-04T16:26:58.685Z"
   },
   {
    "duration": 67,
    "start_time": "2023-04-04T16:27:39.614Z"
   },
   {
    "duration": 5,
    "start_time": "2023-04-04T16:27:45.906Z"
   },
   {
    "duration": 381,
    "start_time": "2023-04-04T16:29:33.811Z"
   },
   {
    "duration": 9,
    "start_time": "2023-04-04T16:30:13.962Z"
   },
   {
    "duration": 122,
    "start_time": "2023-04-04T16:30:54.506Z"
   },
   {
    "duration": 52,
    "start_time": "2023-04-04T16:31:47.076Z"
   },
   {
    "duration": 84,
    "start_time": "2023-04-04T16:32:21.960Z"
   },
   {
    "duration": 81,
    "start_time": "2023-04-04T16:33:00.628Z"
   },
   {
    "duration": 172838,
    "start_time": "2023-04-04T16:33:24.279Z"
   },
   {
    "duration": 4,
    "start_time": "2023-04-04T16:36:36.812Z"
   },
   {
    "duration": 973,
    "start_time": "2023-04-04T16:36:36.820Z"
   },
   {
    "duration": 8,
    "start_time": "2023-04-04T16:36:37.794Z"
   },
   {
    "duration": 47,
    "start_time": "2023-04-04T16:36:37.820Z"
   },
   {
    "duration": 27,
    "start_time": "2023-04-04T16:36:37.869Z"
   },
   {
    "duration": 57,
    "start_time": "2023-04-04T16:36:37.898Z"
   },
   {
    "duration": 32,
    "start_time": "2023-04-04T16:36:37.956Z"
   },
   {
    "duration": 10214,
    "start_time": "2023-04-04T16:36:37.989Z"
   },
   {
    "duration": 21,
    "start_time": "2023-04-04T16:36:48.204Z"
   },
   {
    "duration": 9,
    "start_time": "2023-04-04T16:36:48.235Z"
   },
   {
    "duration": 15,
    "start_time": "2023-04-04T16:36:48.246Z"
   },
   {
    "duration": 49,
    "start_time": "2023-04-04T16:36:48.263Z"
   },
   {
    "duration": 55,
    "start_time": "2023-04-04T16:37:25.232Z"
   },
   {
    "duration": 41622,
    "start_time": "2023-04-04T16:37:32.271Z"
   },
   {
    "duration": 38179,
    "start_time": "2023-04-04T16:39:21.111Z"
   },
   {
    "duration": 11,
    "start_time": "2023-04-04T16:47:25.706Z"
   },
   {
    "duration": 19798,
    "start_time": "2023-04-04T16:47:29.293Z"
   },
   {
    "duration": 9,
    "start_time": "2023-04-04T16:50:52.683Z"
   },
   {
    "duration": 9,
    "start_time": "2023-04-04T16:50:55.581Z"
   },
   {
    "duration": 4,
    "start_time": "2023-04-04T16:50:56.551Z"
   },
   {
    "duration": 56,
    "start_time": "2023-04-04T16:51:04.950Z"
   },
   {
    "duration": 41904,
    "start_time": "2023-04-04T16:51:08.446Z"
   },
   {
    "duration": 205,
    "start_time": "2023-04-04T17:10:12.257Z"
   },
   {
    "duration": 1223,
    "start_time": "2023-04-04T17:11:48.550Z"
   },
   {
    "duration": 5,
    "start_time": "2023-04-04T17:12:19.016Z"
   },
   {
    "duration": 50,
    "start_time": "2023-04-04T17:13:01.324Z"
   },
   {
    "duration": 4,
    "start_time": "2023-04-04T17:13:19.384Z"
   },
   {
    "duration": 18,
    "start_time": "2023-04-04T17:13:40.547Z"
   },
   {
    "duration": 61,
    "start_time": "2023-04-04T17:13:59.451Z"
   },
   {
    "duration": 3,
    "start_time": "2023-04-04T17:15:23.894Z"
   },
   {
    "duration": 335,
    "start_time": "2023-04-04T17:15:59.175Z"
   },
   {
    "duration": 763,
    "start_time": "2023-04-04T17:16:12.911Z"
   },
   {
    "duration": 596,
    "start_time": "2023-04-04T17:16:18.800Z"
   },
   {
    "duration": 23,
    "start_time": "2023-04-04T17:16:29.161Z"
   },
   {
    "duration": 768,
    "start_time": "2023-04-04T17:16:36.364Z"
   },
   {
    "duration": 19,
    "start_time": "2023-04-04T17:16:47.997Z"
   },
   {
    "duration": 5,
    "start_time": "2023-04-04T17:16:56.614Z"
   },
   {
    "duration": 316,
    "start_time": "2023-04-04T17:17:35.330Z"
   },
   {
    "duration": 1057,
    "start_time": "2023-04-04T17:18:02.079Z"
   },
   {
    "duration": 895,
    "start_time": "2023-04-04T17:18:21.063Z"
   },
   {
    "duration": 4,
    "start_time": "2023-04-04T17:18:32.098Z"
   },
   {
    "duration": 10,
    "start_time": "2023-04-04T17:18:47.890Z"
   },
   {
    "duration": 8804,
    "start_time": "2023-04-04T17:18:49.781Z"
   },
   {
    "duration": 7,
    "start_time": "2023-04-04T17:19:57.719Z"
   },
   {
    "duration": 9,
    "start_time": "2023-04-04T17:20:00.924Z"
   },
   {
    "duration": 4,
    "start_time": "2023-04-04T17:20:03.597Z"
   },
   {
    "duration": 38,
    "start_time": "2023-04-04T17:20:33.776Z"
   },
   {
    "duration": 739,
    "start_time": "2023-04-04T17:20:39.153Z"
   },
   {
    "duration": 5,
    "start_time": "2023-04-04T17:20:44.941Z"
   },
   {
    "duration": 9,
    "start_time": "2023-04-04T17:21:03.328Z"
   },
   {
    "duration": 10210,
    "start_time": "2023-04-04T17:22:20.550Z"
   },
   {
    "duration": 4,
    "start_time": "2023-04-04T17:22:35.036Z"
   },
   {
    "duration": 9,
    "start_time": "2023-04-04T17:22:37.703Z"
   },
   {
    "duration": 12854,
    "start_time": "2023-04-04T17:23:04.737Z"
   },
   {
    "duration": 5,
    "start_time": "2023-04-04T17:23:21.533Z"
   },
   {
    "duration": 15,
    "start_time": "2023-04-04T17:23:24.017Z"
   },
   {
    "duration": 13,
    "start_time": "2023-04-04T17:23:41.375Z"
   },
   {
    "duration": 76688,
    "start_time": "2023-04-04T17:23:46.976Z"
   },
   {
    "duration": 9,
    "start_time": "2023-04-04T17:25:56.690Z"
   },
   {
    "duration": 4,
    "start_time": "2023-04-04T17:25:57.517Z"
   },
   {
    "duration": 275,
    "start_time": "2023-04-04T17:25:59.965Z"
   },
   {
    "duration": 8695,
    "start_time": "2023-04-04T17:26:32.907Z"
   },
   {
    "duration": 15894,
    "start_time": "2023-04-04T17:26:47.987Z"
   },
   {
    "duration": 23155,
    "start_time": "2023-04-04T17:28:01.084Z"
   },
   {
    "duration": 4,
    "start_time": "2023-04-04T17:28:32.857Z"
   },
   {
    "duration": 10,
    "start_time": "2023-04-04T17:28:35.685Z"
   },
   {
    "duration": 3798,
    "start_time": "2023-04-04T17:28:59.677Z"
   },
   {
    "duration": 8,
    "start_time": "2023-04-04T17:29:42.354Z"
   },
   {
    "duration": 11,
    "start_time": "2023-04-04T17:29:47.517Z"
   },
   {
    "duration": 175463,
    "start_time": "2023-04-04T17:31:05.911Z"
   },
   {
    "duration": 9,
    "start_time": "2023-04-04T17:34:06.180Z"
   },
   {
    "duration": 4,
    "start_time": "2023-04-04T17:34:07.787Z"
   },
   {
    "duration": 263,
    "start_time": "2023-04-04T17:34:18.592Z"
   },
   {
    "duration": 3743,
    "start_time": "2023-04-04T17:34:27.025Z"
   },
   {
    "duration": 228544,
    "start_time": "2023-04-04T17:34:42.945Z"
   },
   {
    "duration": 8045,
    "start_time": "2023-04-04T17:39:28.279Z"
   },
   {
    "duration": 5,
    "start_time": "2023-04-04T17:39:47.664Z"
   },
   {
    "duration": 11,
    "start_time": "2023-04-04T17:39:50.245Z"
   },
   {
    "duration": 20,
    "start_time": "2023-04-04T17:40:12.988Z"
   }
  ],
  "kernelspec": {
   "display_name": "Python 3 (ipykernel)",
   "language": "python",
   "name": "python3"
  },
  "language_info": {
   "codemirror_mode": {
    "name": "ipython",
    "version": 3
   },
   "file_extension": ".py",
   "mimetype": "text/x-python",
   "name": "python",
   "nbconvert_exporter": "python",
   "pygments_lexer": "ipython3",
   "version": "3.10.9"
  },
  "toc": {
   "base_numbering": 1,
   "nav_menu": {},
   "number_sections": true,
   "sideBar": true,
   "skip_h1_title": true,
   "title_cell": "Содержание",
   "title_sidebar": "Contents",
   "toc_cell": true,
   "toc_position": {
    "height": "calc(100% - 180px)",
    "left": "10px",
    "top": "150px",
    "width": "302.391px"
   },
   "toc_section_display": true,
   "toc_window_display": false
  }
 },
 "nbformat": 4,
 "nbformat_minor": 2
}
